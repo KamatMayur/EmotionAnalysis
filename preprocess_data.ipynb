{
  "cells": [
    {
      "cell_type": "markdown",
      "metadata": {
        "colab_type": "text",
        "id": "view-in-github"
      },
      "source": [
        "<a href=\"https://colab.research.google.com/github/coder-rakeshpaul/EmotionAnalysis/blob/main/Emotion.ipynb\" target=\"_parent\"><img src=\"https://colab.research.google.com/assets/colab-badge.svg\" alt=\"Open In Colab\"/></a>"
      ]
    },
    {
      "cell_type": "code",
      "execution_count": 1,
      "metadata": {
        "colab": {
          "base_uri": "https://localhost:8080/"
        },
        "id": "LMGHMTMxT5W2",
        "outputId": "fdaf6311-7b94-465f-b9ca-e337c39624a4"
      },
      "outputs": [
        {
          "name": "stderr",
          "output_type": "stream",
          "text": [
            "[nltk_data] Downloading package stopwords to\n",
            "[nltk_data]     C:\\Users\\mayur\\AppData\\Roaming\\nltk_data...\n",
            "[nltk_data]   Package stopwords is already up-to-date!\n",
            "[nltk_data] Downloading package punkt to\n",
            "[nltk_data]     C:\\Users\\mayur\\AppData\\Roaming\\nltk_data...\n",
            "[nltk_data]   Package punkt is already up-to-date!\n"
          ]
        },
        {
          "data": {
            "text/plain": [
              "True"
            ]
          },
          "execution_count": 1,
          "metadata": {},
          "output_type": "execute_result"
        }
      ],
      "source": [
        "import pandas as pd\n",
        "import numpy as np\n",
        "import matplotlib.pyplot as plt\n",
        "from imblearn.over_sampling import SMOTE\n",
        "import seaborn as sns\n",
        "import nltk\n",
        "import string\n",
        "import re\n",
        "import inflect\n",
        "\n",
        "nltk.download('stopwords')\n",
        "nltk.download('punkt')"
      ]
    },
    {
      "cell_type": "markdown",
      "metadata": {
        "id": "FL0duwMh0-PO"
      },
      "source": [
        "Reading the data amd converting it into a dataframe"
      ]
    },
    {
      "cell_type": "code",
      "execution_count": 2,
      "metadata": {
        "id": "YVOttT7rUBqq"
      },
      "outputs": [],
      "source": [
        "df1 = pd.read_csv('https://storage.googleapis.com/gresearch/goemotions/data/full_dataset/goemotions_1.csv')\n",
        "df2 = pd.read_csv('https://storage.googleapis.com/gresearch/goemotions/data/full_dataset/goemotions_2.csv')\n",
        "df3 = pd.read_csv('https://storage.googleapis.com/gresearch/goemotions/data/full_dataset/goemotions_3.csv')\n",
        "frames = [df1, df2, df3]\n",
        "data = pd.concat(frames)"
      ]
    },
    {
      "cell_type": "markdown",
      "metadata": {
        "id": "hqJYJd1G1JxN"
      },
      "source": [
        "Droping unnecessary columns"
      ]
    },
    {
      "cell_type": "code",
      "execution_count": 3,
      "metadata": {
        "colab": {
          "base_uri": "https://localhost:8080/"
        },
        "id": "0Wxha2UdUIRZ",
        "outputId": "ed24f8a8-b0ea-4798-9e3c-b1e710a1d18e"
      },
      "outputs": [
        {
          "data": {
            "text/plain": [
              "(211225, 29)"
            ]
          },
          "execution_count": 3,
          "metadata": {},
          "output_type": "execute_result"
        }
      ],
      "source": [
        "data=data.drop(['id','author','subreddit','link_id','parent_id','created_utc','rater_id','example_very_unclear'], axis=1)\n",
        "data.shape"
      ]
    },
    {
      "cell_type": "markdown",
      "metadata": {
        "id": "TVKS4nCz1an2"
      },
      "source": [
        "Droping the duplicates"
      ]
    },
    {
      "cell_type": "code",
      "execution_count": 4,
      "metadata": {
        "colab": {
          "base_uri": "https://localhost:8080/"
        },
        "id": "4opruBEBUl1k",
        "outputId": "77cc1c50-4214-433d-a837-d216d9f92f97"
      },
      "outputs": [
        {
          "data": {
            "text/plain": [
              "(57732, 29)"
            ]
          },
          "execution_count": 4,
          "metadata": {},
          "output_type": "execute_result"
        }
      ],
      "source": [
        "data.drop_duplicates(subset='text', inplace=True)\n",
        "data.reset_index(drop=True, inplace=True)\n",
        "data.shape"
      ]
    },
    {
      "cell_type": "markdown",
      "metadata": {
        "id": "vk19WqhS1sdT"
      },
      "source": [
        "Droping data with mixed emotions"
      ]
    },
    {
      "cell_type": "code",
      "execution_count": 5,
      "metadata": {
        "colab": {
          "base_uri": "https://localhost:8080/"
        },
        "id": "DXF-vlhFUtWJ",
        "outputId": "6dd7f263-ba5a-4a0b-8350-f4dde14d5640"
      },
      "outputs": [
        {
          "name": "stderr",
          "output_type": "stream",
          "text": [
            "C:\\Users\\mayur\\AppData\\Local\\Temp\\ipykernel_15836\\1218242578.py:1: FutureWarning: Dropping of nuisance columns in DataFrame reductions (with 'numeric_only=None') is deprecated; in a future version this will raise TypeError.  Select only valid columns before calling the reduction.\n",
            "  sum = np.array(data.sum(axis=1))\n"
          ]
        },
        {
          "data": {
            "text/plain": [
              "(46741, 29)"
            ]
          },
          "execution_count": 5,
          "metadata": {},
          "output_type": "execute_result"
        }
      ],
      "source": [
        "sum = np.array(data.sum(axis=1))\n",
        "ind = np.where(np.logical_or(sum>1, sum==0))[0].tolist()\n",
        "data.drop(ind, inplace = True)\n",
        "data.reset_index(drop=True, inplace=True)\n",
        "data.shape"
      ]
    },
    {
      "cell_type": "markdown",
      "metadata": {
        "id": "ULgeed2N118-"
      },
      "source": [
        "Creating a list of emotions"
      ]
    },
    {
      "cell_type": "code",
      "execution_count": 6,
      "metadata": {
        "id": "rWpayA_mTmfB"
      },
      "outputs": [],
      "source": [
        "emotions = list(data.columns)[1:]"
      ]
    },
    {
      "cell_type": "code",
      "execution_count": 7,
      "metadata": {
        "id": "w3zLcXwIWasU"
      },
      "outputs": [],
      "source": [
        "emo = []\n",
        "for text in range(0, data.shape[0]):\n",
        "  for emotion in emotions:\n",
        "    if data.loc[text][emotion] == 1:\n",
        "      emo.append(emotion)\n"
      ]
    },
    {
      "cell_type": "code",
      "execution_count": 8,
      "metadata": {
        "id": "F8ldYHy-brpF"
      },
      "outputs": [],
      "source": [
        "data.drop(data.iloc[:, 1:29], inplace=True, axis=1)"
      ]
    },
    {
      "cell_type": "code",
      "execution_count": 9,
      "metadata": {
        "colab": {
          "base_uri": "https://localhost:8080/",
          "height": 424
        },
        "id": "LhixacjwG-OC",
        "outputId": "06600a89-e02b-40f0-9c60-a1b29bba3d3d"
      },
      "outputs": [
        {
          "data": {
            "text/html": [
              "<div>\n",
              "<style scoped>\n",
              "    .dataframe tbody tr th:only-of-type {\n",
              "        vertical-align: middle;\n",
              "    }\n",
              "\n",
              "    .dataframe tbody tr th {\n",
              "        vertical-align: top;\n",
              "    }\n",
              "\n",
              "    .dataframe thead th {\n",
              "        text-align: right;\n",
              "    }\n",
              "</style>\n",
              "<table border=\"1\" class=\"dataframe\">\n",
              "  <thead>\n",
              "    <tr style=\"text-align: right;\">\n",
              "      <th></th>\n",
              "      <th>text</th>\n",
              "    </tr>\n",
              "  </thead>\n",
              "  <tbody>\n",
              "    <tr>\n",
              "      <th>0</th>\n",
              "      <td>That game hurt.</td>\n",
              "    </tr>\n",
              "    <tr>\n",
              "      <th>1</th>\n",
              "      <td>You do right, if you don't care then fuck 'em!</td>\n",
              "    </tr>\n",
              "    <tr>\n",
              "      <th>2</th>\n",
              "      <td>Man I love reddit.</td>\n",
              "    </tr>\n",
              "    <tr>\n",
              "      <th>3</th>\n",
              "      <td>[NAME] was nowhere near them, he was by the Fa...</td>\n",
              "    </tr>\n",
              "    <tr>\n",
              "      <th>4</th>\n",
              "      <td>Right? Considering it’s such an important docu...</td>\n",
              "    </tr>\n",
              "    <tr>\n",
              "      <th>...</th>\n",
              "      <td>...</td>\n",
              "    </tr>\n",
              "    <tr>\n",
              "      <th>46736</th>\n",
              "      <td>Oh [NAME] i forgot about those. I used to love...</td>\n",
              "    </tr>\n",
              "    <tr>\n",
              "      <th>46737</th>\n",
              "      <td>I didn’t even notice that one. I noticed the b...</td>\n",
              "    </tr>\n",
              "    <tr>\n",
              "      <th>46738</th>\n",
              "      <td>Thanks, [NAME]</td>\n",
              "    </tr>\n",
              "    <tr>\n",
              "      <th>46739</th>\n",
              "      <td>Everyone likes [NAME].</td>\n",
              "    </tr>\n",
              "    <tr>\n",
              "      <th>46740</th>\n",
              "      <td>I just called the Capitol Police. They are not...</td>\n",
              "    </tr>\n",
              "  </tbody>\n",
              "</table>\n",
              "<p>46741 rows × 1 columns</p>\n",
              "</div>"
            ],
            "text/plain": [
              "                                                    text\n",
              "0                                        That game hurt.\n",
              "1         You do right, if you don't care then fuck 'em!\n",
              "2                                     Man I love reddit.\n",
              "3      [NAME] was nowhere near them, he was by the Fa...\n",
              "4      Right? Considering it’s such an important docu...\n",
              "...                                                  ...\n",
              "46736  Oh [NAME] i forgot about those. I used to love...\n",
              "46737  I didn’t even notice that one. I noticed the b...\n",
              "46738                                     Thanks, [NAME]\n",
              "46739                             Everyone likes [NAME].\n",
              "46740  I just called the Capitol Police. They are not...\n",
              "\n",
              "[46741 rows x 1 columns]"
            ]
          },
          "execution_count": 9,
          "metadata": {},
          "output_type": "execute_result"
        }
      ],
      "source": [
        "data"
      ]
    },
    {
      "cell_type": "code",
      "execution_count": 10,
      "metadata": {
        "colab": {
          "base_uri": "https://localhost:8080/",
          "height": 424
        },
        "id": "n5WKCi8FX7Aj",
        "outputId": "6bb003cd-c4c5-4768-8c7e-73dc970c3fdb"
      },
      "outputs": [
        {
          "data": {
            "text/html": [
              "<div>\n",
              "<style scoped>\n",
              "    .dataframe tbody tr th:only-of-type {\n",
              "        vertical-align: middle;\n",
              "    }\n",
              "\n",
              "    .dataframe tbody tr th {\n",
              "        vertical-align: top;\n",
              "    }\n",
              "\n",
              "    .dataframe thead th {\n",
              "        text-align: right;\n",
              "    }\n",
              "</style>\n",
              "<table border=\"1\" class=\"dataframe\">\n",
              "  <thead>\n",
              "    <tr style=\"text-align: right;\">\n",
              "      <th></th>\n",
              "      <th>text</th>\n",
              "      <th>Emotions</th>\n",
              "      <th>Emotion_id</th>\n",
              "    </tr>\n",
              "  </thead>\n",
              "  <tbody>\n",
              "    <tr>\n",
              "      <th>0</th>\n",
              "      <td>That game hurt.</td>\n",
              "      <td>sadness</td>\n",
              "      <td>26</td>\n",
              "    </tr>\n",
              "    <tr>\n",
              "      <th>1</th>\n",
              "      <td>You do right, if you don't care then fuck 'em!</td>\n",
              "      <td>neutral</td>\n",
              "      <td>20</td>\n",
              "    </tr>\n",
              "    <tr>\n",
              "      <th>2</th>\n",
              "      <td>Man I love reddit.</td>\n",
              "      <td>love</td>\n",
              "      <td>18</td>\n",
              "    </tr>\n",
              "    <tr>\n",
              "      <th>3</th>\n",
              "      <td>[NAME] was nowhere near them, he was by the Fa...</td>\n",
              "      <td>neutral</td>\n",
              "      <td>20</td>\n",
              "    </tr>\n",
              "    <tr>\n",
              "      <th>4</th>\n",
              "      <td>Right? Considering it’s such an important docu...</td>\n",
              "      <td>gratitude</td>\n",
              "      <td>15</td>\n",
              "    </tr>\n",
              "    <tr>\n",
              "      <th>...</th>\n",
              "      <td>...</td>\n",
              "      <td>...</td>\n",
              "      <td>...</td>\n",
              "    </tr>\n",
              "    <tr>\n",
              "      <th>46736</th>\n",
              "      <td>Oh [NAME] i forgot about those. I used to love...</td>\n",
              "      <td>love</td>\n",
              "      <td>18</td>\n",
              "    </tr>\n",
              "    <tr>\n",
              "      <th>46737</th>\n",
              "      <td>I didn’t even notice that one. I noticed the b...</td>\n",
              "      <td>neutral</td>\n",
              "      <td>20</td>\n",
              "    </tr>\n",
              "    <tr>\n",
              "      <th>46738</th>\n",
              "      <td>Thanks, [NAME]</td>\n",
              "      <td>gratitude</td>\n",
              "      <td>15</td>\n",
              "    </tr>\n",
              "    <tr>\n",
              "      <th>46739</th>\n",
              "      <td>Everyone likes [NAME].</td>\n",
              "      <td>love</td>\n",
              "      <td>18</td>\n",
              "    </tr>\n",
              "    <tr>\n",
              "      <th>46740</th>\n",
              "      <td>I just called the Capitol Police. They are not...</td>\n",
              "      <td>relief</td>\n",
              "      <td>24</td>\n",
              "    </tr>\n",
              "  </tbody>\n",
              "</table>\n",
              "<p>46741 rows × 3 columns</p>\n",
              "</div>"
            ],
            "text/plain": [
              "                                                    text   Emotions  \\\n",
              "0                                        That game hurt.    sadness   \n",
              "1         You do right, if you don't care then fuck 'em!    neutral   \n",
              "2                                     Man I love reddit.       love   \n",
              "3      [NAME] was nowhere near them, he was by the Fa...    neutral   \n",
              "4      Right? Considering it’s such an important docu...  gratitude   \n",
              "...                                                  ...        ...   \n",
              "46736  Oh [NAME] i forgot about those. I used to love...       love   \n",
              "46737  I didn’t even notice that one. I noticed the b...    neutral   \n",
              "46738                                     Thanks, [NAME]  gratitude   \n",
              "46739                             Everyone likes [NAME].       love   \n",
              "46740  I just called the Capitol Police. They are not...     relief   \n",
              "\n",
              "       Emotion_id  \n",
              "0              26  \n",
              "1              20  \n",
              "2              18  \n",
              "3              20  \n",
              "4              15  \n",
              "...           ...  \n",
              "46736          18  \n",
              "46737          20  \n",
              "46738          15  \n",
              "46739          18  \n",
              "46740          24  \n",
              "\n",
              "[46741 rows x 3 columns]"
            ]
          },
          "execution_count": 10,
          "metadata": {},
          "output_type": "execute_result"
        }
      ],
      "source": [
        "data['Emotions']= emo\n",
        "\n",
        "from sklearn.preprocessing import LabelEncoder\n",
        "le = LabelEncoder()\n",
        "data['Emotion_id'] = le.fit_transform(data['Emotions'])\n",
        "\n",
        "data"
      ]
    },
    {
      "cell_type": "code",
      "execution_count": 11,
      "metadata": {
        "colab": {
          "base_uri": "https://localhost:8080/",
          "height": 358
        },
        "id": "SfDO8JNRYWOC",
        "outputId": "46f45530-0cf6-4b89-d85c-6cfa251a302a"
      },
      "outputs": [
        {
          "name": "stderr",
          "output_type": "stream",
          "text": [
            "c:\\Users\\mayur\\anaconda3\\lib\\site-packages\\seaborn\\distributions.py:2619: FutureWarning: `distplot` is a deprecated function and will be removed in a future version. Please adapt your code to use either `displot` (a figure-level function with similar flexibility) or `histplot` (an axes-level function for histograms).\n",
            "  warnings.warn(msg, FutureWarning)\n"
          ]
        },
        {
          "data": {
            "text/plain": [
              "<AxesSubplot:xlabel='Emotion_id'>"
            ]
          },
          "execution_count": 11,
          "metadata": {},
          "output_type": "execute_result"
        },
        {
          "data": {
            "image/png": "[encoded data removed]",
            "text/plain": [
              "<Figure size 640x480 with 1 Axes>"
            ]
          },
          "metadata": {},
          "output_type": "display_data"
        }
      ],
      "source": [
        "from seaborn import distplot\n",
        "\n",
        "distplot(data['Emotion_id'], kde=False, color='red', bins=100)"
      ]
    },
    {
      "cell_type": "markdown",
      "metadata": {
        "id": "0urO_Hbs2yxu"
      },
      "source": [
        "Preprocessing the data"
      ]
    },
    {
      "cell_type": "code",
      "execution_count": 12,
      "metadata": {
        "id": "cyd9zK7t0NB7"
      },
      "outputs": [],
      "source": [
        "def text_lowercase(text):\n",
        "\treturn text.lower()\n",
        " \n",
        "import string\n",
        "# remove punctuation\n",
        "def remove_punctuation(text):\n",
        "\treturn text.translate(str.maketrans('', '', string.punctuation))"
      ]
    },
    {
      "cell_type": "markdown",
      "metadata": {
        "id": "Z_XlZLz23jrL"
      },
      "source": [
        "Removing stop words"
      ]
    },
    {
      "cell_type": "code",
      "execution_count": 13,
      "metadata": {
        "id": "jZsrNIiM3WLh"
      },
      "outputs": [],
      "source": [
        "from nltk.corpus import stopwords\n",
        "from nltk.tokenize import word_tokenize\n",
        "from nltk.stem.porter import PorterStemmer\n",
        "\n",
        "stemmer = PorterStemmer()\n",
        "# remove stopwords function\n",
        "def remove_stopwords_tokenize_and_stem(text):\n",
        "\tstop_words = set(stopwords.words(\"english\"))\n",
        "\tword_tokens = word_tokenize(text)\n",
        "\tfiltered_text = [word for word in word_tokens if word not in stop_words]\n",
        "\tstems = [stemmer.stem(word) for word in filtered_text]\n",
        "\treturn stems"
      ]
    },
    {
      "cell_type": "markdown",
      "metadata": {
        "id": "j6xVzmzq3fnh"
      },
      "source": [
        "Stemming the data"
      ]
    },
    {
      "cell_type": "code",
      "execution_count": 14,
      "metadata": {
        "id": "tSZINYhw03fV"
      },
      "outputs": [],
      "source": [
        "from nltk.stem.porter import PorterStemmer\n",
        "from nltk.tokenize import word_tokenize\n",
        "stemmer = PorterStemmer()\n",
        "\n",
        "# stem words in the list of tokenized words\n",
        "def stem_words(text):\n",
        "\tword_tokens = word_tokenize(text)\n",
        "\tstems = [stemmer.stem(word) for word in word_tokens]\n",
        "\treturn stems"
      ]
    },
    {
      "cell_type": "code",
      "execution_count": 15,
      "metadata": {
        "id": "MO_eb7Dg-yyn"
      },
      "outputs": [],
      "source": [
        "def text_preprocess(text):\n",
        "  t = remove_punctuation(text)\n",
        "  t = text_lowercase(t)\n",
        "  t = remove_stopwords_tokenize_and_stem(t)\n",
        "  return t"
      ]
    },
    {
      "cell_type": "code",
      "execution_count": 16,
      "metadata": {
        "colab": {
          "base_uri": "https://localhost:8080/",
          "height": 424
        },
        "id": "q5wgW7AWFgUK",
        "outputId": "644f855e-f9d6-417c-c9f7-96b765ccbf32"
      },
      "outputs": [
        {
          "data": {
            "text/html": [
              "<div>\n",
              "<style scoped>\n",
              "    .dataframe tbody tr th:only-of-type {\n",
              "        vertical-align: middle;\n",
              "    }\n",
              "\n",
              "    .dataframe tbody tr th {\n",
              "        vertical-align: top;\n",
              "    }\n",
              "\n",
              "    .dataframe thead th {\n",
              "        text-align: right;\n",
              "    }\n",
              "</style>\n",
              "<table border=\"1\" class=\"dataframe\">\n",
              "  <thead>\n",
              "    <tr style=\"text-align: right;\">\n",
              "      <th></th>\n",
              "      <th>text</th>\n",
              "      <th>Emotions</th>\n",
              "      <th>Emotion_id</th>\n",
              "    </tr>\n",
              "  </thead>\n",
              "  <tbody>\n",
              "    <tr>\n",
              "      <th>0</th>\n",
              "      <td>That game hurt.</td>\n",
              "      <td>sadness</td>\n",
              "      <td>26</td>\n",
              "    </tr>\n",
              "    <tr>\n",
              "      <th>1</th>\n",
              "      <td>You do right, if you don't care then fuck 'em!</td>\n",
              "      <td>neutral</td>\n",
              "      <td>20</td>\n",
              "    </tr>\n",
              "    <tr>\n",
              "      <th>2</th>\n",
              "      <td>Man I love reddit.</td>\n",
              "      <td>love</td>\n",
              "      <td>18</td>\n",
              "    </tr>\n",
              "    <tr>\n",
              "      <th>3</th>\n",
              "      <td>[NAME] was nowhere near them, he was by the Fa...</td>\n",
              "      <td>neutral</td>\n",
              "      <td>20</td>\n",
              "    </tr>\n",
              "    <tr>\n",
              "      <th>4</th>\n",
              "      <td>Right? Considering it’s such an important docu...</td>\n",
              "      <td>gratitude</td>\n",
              "      <td>15</td>\n",
              "    </tr>\n",
              "    <tr>\n",
              "      <th>...</th>\n",
              "      <td>...</td>\n",
              "      <td>...</td>\n",
              "      <td>...</td>\n",
              "    </tr>\n",
              "    <tr>\n",
              "      <th>46736</th>\n",
              "      <td>Oh [NAME] i forgot about those. I used to love...</td>\n",
              "      <td>love</td>\n",
              "      <td>18</td>\n",
              "    </tr>\n",
              "    <tr>\n",
              "      <th>46737</th>\n",
              "      <td>I didn’t even notice that one. I noticed the b...</td>\n",
              "      <td>neutral</td>\n",
              "      <td>20</td>\n",
              "    </tr>\n",
              "    <tr>\n",
              "      <th>46738</th>\n",
              "      <td>Thanks, [NAME]</td>\n",
              "      <td>gratitude</td>\n",
              "      <td>15</td>\n",
              "    </tr>\n",
              "    <tr>\n",
              "      <th>46739</th>\n",
              "      <td>Everyone likes [NAME].</td>\n",
              "      <td>love</td>\n",
              "      <td>18</td>\n",
              "    </tr>\n",
              "    <tr>\n",
              "      <th>46740</th>\n",
              "      <td>I just called the Capitol Police. They are not...</td>\n",
              "      <td>relief</td>\n",
              "      <td>24</td>\n",
              "    </tr>\n",
              "  </tbody>\n",
              "</table>\n",
              "<p>46741 rows × 3 columns</p>\n",
              "</div>"
            ],
            "text/plain": [
              "                                                    text   Emotions  \\\n",
              "0                                        That game hurt.    sadness   \n",
              "1         You do right, if you don't care then fuck 'em!    neutral   \n",
              "2                                     Man I love reddit.       love   \n",
              "3      [NAME] was nowhere near them, he was by the Fa...    neutral   \n",
              "4      Right? Considering it’s such an important docu...  gratitude   \n",
              "...                                                  ...        ...   \n",
              "46736  Oh [NAME] i forgot about those. I used to love...       love   \n",
              "46737  I didn’t even notice that one. I noticed the b...    neutral   \n",
              "46738                                     Thanks, [NAME]  gratitude   \n",
              "46739                             Everyone likes [NAME].       love   \n",
              "46740  I just called the Capitol Police. They are not...     relief   \n",
              "\n",
              "       Emotion_id  \n",
              "0              26  \n",
              "1              20  \n",
              "2              18  \n",
              "3              20  \n",
              "4              15  \n",
              "...           ...  \n",
              "46736          18  \n",
              "46737          20  \n",
              "46738          15  \n",
              "46739          18  \n",
              "46740          24  \n",
              "\n",
              "[46741 rows x 3 columns]"
            ]
          },
          "execution_count": 16,
          "metadata": {},
          "output_type": "execute_result"
        }
      ],
      "source": [
        "data"
      ]
    },
    {
      "cell_type": "code",
      "execution_count": 17,
      "metadata": {
        "id": "hHGpycsfAMeb"
      },
      "outputs": [],
      "source": [
        "data['tokenized'] = data.apply(lambda x: text_preprocess(x['text']), axis=1)"
      ]
    },
    {
      "cell_type": "code",
      "execution_count": 18,
      "metadata": {},
      "outputs": [
        {
          "data": {
            "text/html": [
              "<div>\n",
              "<style scoped>\n",
              "    .dataframe tbody tr th:only-of-type {\n",
              "        vertical-align: middle;\n",
              "    }\n",
              "\n",
              "    .dataframe tbody tr th {\n",
              "        vertical-align: top;\n",
              "    }\n",
              "\n",
              "    .dataframe thead th {\n",
              "        text-align: right;\n",
              "    }\n",
              "</style>\n",
              "<table border=\"1\" class=\"dataframe\">\n",
              "  <thead>\n",
              "    <tr style=\"text-align: right;\">\n",
              "      <th></th>\n",
              "      <th>text</th>\n",
              "      <th>Emotions</th>\n",
              "      <th>Emotion_id</th>\n",
              "      <th>tokenized</th>\n",
              "    </tr>\n",
              "  </thead>\n",
              "  <tbody>\n",
              "    <tr>\n",
              "      <th>0</th>\n",
              "      <td>That game hurt.</td>\n",
              "      <td>sadness</td>\n",
              "      <td>26</td>\n",
              "      <td>[game, hurt]</td>\n",
              "    </tr>\n",
              "    <tr>\n",
              "      <th>1</th>\n",
              "      <td>You do right, if you don't care then fuck 'em!</td>\n",
              "      <td>neutral</td>\n",
              "      <td>20</td>\n",
              "      <td>[right, dont, care, fuck, em]</td>\n",
              "    </tr>\n",
              "    <tr>\n",
              "      <th>2</th>\n",
              "      <td>Man I love reddit.</td>\n",
              "      <td>love</td>\n",
              "      <td>18</td>\n",
              "      <td>[man, love, reddit]</td>\n",
              "    </tr>\n",
              "    <tr>\n",
              "      <th>3</th>\n",
              "      <td>[NAME] was nowhere near them, he was by the Fa...</td>\n",
              "      <td>neutral</td>\n",
              "      <td>20</td>\n",
              "      <td>[name, nowher, near, falcon]</td>\n",
              "    </tr>\n",
              "    <tr>\n",
              "      <th>4</th>\n",
              "      <td>Right? Considering it’s such an important docu...</td>\n",
              "      <td>gratitude</td>\n",
              "      <td>15</td>\n",
              "      <td>[right, consid, ’, import, document, know, dam...</td>\n",
              "    </tr>\n",
              "    <tr>\n",
              "      <th>...</th>\n",
              "      <td>...</td>\n",
              "      <td>...</td>\n",
              "      <td>...</td>\n",
              "      <td>...</td>\n",
              "    </tr>\n",
              "    <tr>\n",
              "      <th>46736</th>\n",
              "      <td>Oh [NAME] i forgot about those. I used to love...</td>\n",
              "      <td>love</td>\n",
              "      <td>18</td>\n",
              "      <td>[oh, name, forgot, use, love]</td>\n",
              "    </tr>\n",
              "    <tr>\n",
              "      <th>46737</th>\n",
              "      <td>I didn’t even notice that one. I noticed the b...</td>\n",
              "      <td>neutral</td>\n",
              "      <td>20</td>\n",
              "      <td>[’, even, notic, one, notic, bottom, right, one]</td>\n",
              "    </tr>\n",
              "    <tr>\n",
              "      <th>46738</th>\n",
              "      <td>Thanks, [NAME]</td>\n",
              "      <td>gratitude</td>\n",
              "      <td>15</td>\n",
              "      <td>[thank, name]</td>\n",
              "    </tr>\n",
              "    <tr>\n",
              "      <th>46739</th>\n",
              "      <td>Everyone likes [NAME].</td>\n",
              "      <td>love</td>\n",
              "      <td>18</td>\n",
              "      <td>[everyon, like, name]</td>\n",
              "    </tr>\n",
              "    <tr>\n",
              "      <th>46740</th>\n",
              "      <td>I just called the Capitol Police. They are not...</td>\n",
              "      <td>relief</td>\n",
              "      <td>24</td>\n",
              "      <td>[call, capitol, polic, affect, shutdown, name,...</td>\n",
              "    </tr>\n",
              "  </tbody>\n",
              "</table>\n",
              "<p>46741 rows × 4 columns</p>\n",
              "</div>"
            ],
            "text/plain": [
              "                                                    text   Emotions  \\\n",
              "0                                        That game hurt.    sadness   \n",
              "1         You do right, if you don't care then fuck 'em!    neutral   \n",
              "2                                     Man I love reddit.       love   \n",
              "3      [NAME] was nowhere near them, he was by the Fa...    neutral   \n",
              "4      Right? Considering it’s such an important docu...  gratitude   \n",
              "...                                                  ...        ...   \n",
              "46736  Oh [NAME] i forgot about those. I used to love...       love   \n",
              "46737  I didn’t even notice that one. I noticed the b...    neutral   \n",
              "46738                                     Thanks, [NAME]  gratitude   \n",
              "46739                             Everyone likes [NAME].       love   \n",
              "46740  I just called the Capitol Police. They are not...     relief   \n",
              "\n",
              "       Emotion_id                                          tokenized  \n",
              "0              26                                       [game, hurt]  \n",
              "1              20                      [right, dont, care, fuck, em]  \n",
              "2              18                                [man, love, reddit]  \n",
              "3              20                       [name, nowher, near, falcon]  \n",
              "4              15  [right, consid, ’, import, document, know, dam...  \n",
              "...           ...                                                ...  \n",
              "46736          18                      [oh, name, forgot, use, love]  \n",
              "46737          20   [’, even, notic, one, notic, bottom, right, one]  \n",
              "46738          15                                      [thank, name]  \n",
              "46739          18                              [everyon, like, name]  \n",
              "46740          24  [call, capitol, polic, affect, shutdown, name,...  \n",
              "\n",
              "[46741 rows x 4 columns]"
            ]
          },
          "execution_count": 18,
          "metadata": {},
          "output_type": "execute_result"
        }
      ],
      "source": [
        "data"
      ]
    },
    {
      "attachments": {},
      "cell_type": "markdown",
      "metadata": {},
      "source": [
        "**Removing rows in which the token list is empty (this occurs due to stemming)**"
      ]
    },
    {
      "cell_type": "code",
      "execution_count": 19,
      "metadata": {
        "colab": {
          "base_uri": "https://localhost:8080/",
          "height": 424
        },
        "id": "38-lhBSlAZ9n",
        "outputId": "7c064135-743c-4de4-8a4c-37e2d0a6cb68"
      },
      "outputs": [],
      "source": [
        "emp_token_ind = []\n",
        "\n",
        "tokens = data['tokenized'].to_numpy()\n",
        "for i in range(0, tokens.size):\n",
        "    if len(tokens[i]) == 0:\n",
        "        emp_token_ind.append(i)\n",
        "\n",
        "data.drop(emp_token_ind ,axis=0, inplace=True)\n",
        "data.reset_index(drop=True, inplace=True)"
      ]
    },
    {
      "cell_type": "code",
      "execution_count": 20,
      "metadata": {},
      "outputs": [
        {
          "data": {
            "text/html": [
              "<div>\n",
              "<style scoped>\n",
              "    .dataframe tbody tr th:only-of-type {\n",
              "        vertical-align: middle;\n",
              "    }\n",
              "\n",
              "    .dataframe tbody tr th {\n",
              "        vertical-align: top;\n",
              "    }\n",
              "\n",
              "    .dataframe thead th {\n",
              "        text-align: right;\n",
              "    }\n",
              "</style>\n",
              "<table border=\"1\" class=\"dataframe\">\n",
              "  <thead>\n",
              "    <tr style=\"text-align: right;\">\n",
              "      <th></th>\n",
              "      <th>text</th>\n",
              "      <th>Emotions</th>\n",
              "      <th>Emotion_id</th>\n",
              "      <th>tokenized</th>\n",
              "    </tr>\n",
              "  </thead>\n",
              "  <tbody>\n",
              "    <tr>\n",
              "      <th>0</th>\n",
              "      <td>That game hurt.</td>\n",
              "      <td>sadness</td>\n",
              "      <td>26</td>\n",
              "      <td>[game, hurt]</td>\n",
              "    </tr>\n",
              "    <tr>\n",
              "      <th>1</th>\n",
              "      <td>You do right, if you don't care then fuck 'em!</td>\n",
              "      <td>neutral</td>\n",
              "      <td>20</td>\n",
              "      <td>[right, dont, care, fuck, em]</td>\n",
              "    </tr>\n",
              "    <tr>\n",
              "      <th>2</th>\n",
              "      <td>Man I love reddit.</td>\n",
              "      <td>love</td>\n",
              "      <td>18</td>\n",
              "      <td>[man, love, reddit]</td>\n",
              "    </tr>\n",
              "    <tr>\n",
              "      <th>3</th>\n",
              "      <td>[NAME] was nowhere near them, he was by the Fa...</td>\n",
              "      <td>neutral</td>\n",
              "      <td>20</td>\n",
              "      <td>[name, nowher, near, falcon]</td>\n",
              "    </tr>\n",
              "    <tr>\n",
              "      <th>4</th>\n",
              "      <td>Right? Considering it’s such an important docu...</td>\n",
              "      <td>gratitude</td>\n",
              "      <td>15</td>\n",
              "      <td>[right, consid, ’, import, document, know, dam...</td>\n",
              "    </tr>\n",
              "    <tr>\n",
              "      <th>...</th>\n",
              "      <td>...</td>\n",
              "      <td>...</td>\n",
              "      <td>...</td>\n",
              "      <td>...</td>\n",
              "    </tr>\n",
              "    <tr>\n",
              "      <th>46637</th>\n",
              "      <td>Oh [NAME] i forgot about those. I used to love...</td>\n",
              "      <td>love</td>\n",
              "      <td>18</td>\n",
              "      <td>[oh, name, forgot, use, love]</td>\n",
              "    </tr>\n",
              "    <tr>\n",
              "      <th>46638</th>\n",
              "      <td>I didn’t even notice that one. I noticed the b...</td>\n",
              "      <td>neutral</td>\n",
              "      <td>20</td>\n",
              "      <td>[’, even, notic, one, notic, bottom, right, one]</td>\n",
              "    </tr>\n",
              "    <tr>\n",
              "      <th>46639</th>\n",
              "      <td>Thanks, [NAME]</td>\n",
              "      <td>gratitude</td>\n",
              "      <td>15</td>\n",
              "      <td>[thank, name]</td>\n",
              "    </tr>\n",
              "    <tr>\n",
              "      <th>46640</th>\n",
              "      <td>Everyone likes [NAME].</td>\n",
              "      <td>love</td>\n",
              "      <td>18</td>\n",
              "      <td>[everyon, like, name]</td>\n",
              "    </tr>\n",
              "    <tr>\n",
              "      <th>46641</th>\n",
              "      <td>I just called the Capitol Police. They are not...</td>\n",
              "      <td>relief</td>\n",
              "      <td>24</td>\n",
              "      <td>[call, capitol, polic, affect, shutdown, name,...</td>\n",
              "    </tr>\n",
              "  </tbody>\n",
              "</table>\n",
              "<p>46642 rows × 4 columns</p>\n",
              "</div>"
            ],
            "text/plain": [
              "                                                    text   Emotions  \\\n",
              "0                                        That game hurt.    sadness   \n",
              "1         You do right, if you don't care then fuck 'em!    neutral   \n",
              "2                                     Man I love reddit.       love   \n",
              "3      [NAME] was nowhere near them, he was by the Fa...    neutral   \n",
              "4      Right? Considering it’s such an important docu...  gratitude   \n",
              "...                                                  ...        ...   \n",
              "46637  Oh [NAME] i forgot about those. I used to love...       love   \n",
              "46638  I didn’t even notice that one. I noticed the b...    neutral   \n",
              "46639                                     Thanks, [NAME]  gratitude   \n",
              "46640                             Everyone likes [NAME].       love   \n",
              "46641  I just called the Capitol Police. They are not...     relief   \n",
              "\n",
              "       Emotion_id                                          tokenized  \n",
              "0              26                                       [game, hurt]  \n",
              "1              20                      [right, dont, care, fuck, em]  \n",
              "2              18                                [man, love, reddit]  \n",
              "3              20                       [name, nowher, near, falcon]  \n",
              "4              15  [right, consid, ’, import, document, know, dam...  \n",
              "...           ...                                                ...  \n",
              "46637          18                      [oh, name, forgot, use, love]  \n",
              "46638          20   [’, even, notic, one, notic, bottom, right, one]  \n",
              "46639          15                                      [thank, name]  \n",
              "46640          18                              [everyon, like, name]  \n",
              "46641          24  [call, capitol, polic, affect, shutdown, name,...  \n",
              "\n",
              "[46642 rows x 4 columns]"
            ]
          },
          "execution_count": 20,
          "metadata": {},
          "output_type": "execute_result"
        }
      ],
      "source": [
        "data"
      ]
    },
    {
      "cell_type": "code",
      "execution_count": 21,
      "metadata": {
        "id": "xzQqKXQaCten"
      },
      "outputs": [],
      "source": [
        "import gensim\n",
        "from gensim.models import Word2Vec, KeyedVectors\n",
        "\n",
        "model = Word2Vec(window=5, min_count=1, workers=4, sg=0)\n",
        "\n",
        "model.build_vocab(data['tokenized'], progress_per=1000)\n",
        "model.train(data['tokenized'], total_examples=model.corpus_count, epochs=model.epochs)\n",
        "\n",
        "model.save(\"main/saved models/word2vec.model\")"
      ]
    },
    {
      "cell_type": "code",
      "execution_count": 22,
      "metadata": {
        "colab": {
          "base_uri": "https://localhost:8080/"
        },
        "id": "31hSgLXaCyNp",
        "outputId": "4cf18d0e-e2ad-43cb-cae4-268c7ef5988c"
      },
      "outputs": [
        {
          "data": {
            "text/plain": [
              "array([-0.23980856,  0.30924225,  0.2889131 ,  0.27841353,  0.3120302 ,\n",
              "       -1.1156938 ,  0.24360795,  1.2357252 , -0.7871121 , -0.48293853,\n",
              "       -0.4505977 , -0.64914453, -0.27973816,  0.34864426,  0.19921398,\n",
              "       -0.35633475, -0.18354331, -0.5252199 , -0.11819288, -1.1423811 ,\n",
              "        0.41151652,  0.20171675,  0.45378867, -0.67890555, -0.11271609,\n",
              "       -0.01719079, -0.0545233 , -0.35759374, -0.68812233, -0.08823372,\n",
              "        0.63630915,  0.1962613 ,  0.31098112, -0.44491315,  0.01204824,\n",
              "        0.8778883 , -0.1676623 , -0.49328408, -0.40282503, -0.9492064 ,\n",
              "        0.13055769, -0.44314456, -0.36894482,  0.10052611,  0.5169957 ,\n",
              "       -0.26725736, -0.25589663, -0.17469689,  0.43854767,  0.63061297,\n",
              "        0.42014533, -0.24622987, -0.3905475 , -0.03696007, -0.44735414,\n",
              "        0.35929543,  0.36409736, -0.06564989, -0.6754742 ,  0.19230565,\n",
              "        0.02181657,  0.27555805, -0.29333887, -0.12151019, -0.40474364,\n",
              "        0.46382228,  0.11440402,  0.45515475, -0.84795934,  0.76489884,\n",
              "       -0.19220458,  0.18247063,  0.31591702,  0.05995354,  0.8124119 ,\n",
              "        0.00599381,  0.41524237, -0.17092977, -0.3705669 ,  0.37661466,\n",
              "        0.05844143, -0.01306143, -0.4224629 ,  0.7426783 , -0.23398104,\n",
              "       -0.13999873,  0.11281946,  0.6782904 ,  0.6041212 ,  0.18178122,\n",
              "        0.9081124 ,  0.2500453 ,  0.22144803, -0.2680459 ,  0.9519043 ,\n",
              "        0.6859516 ,  0.393126  , -0.42636698,  0.1654115 , -0.0555848 ],\n",
              "      dtype=float32)"
            ]
          },
          "execution_count": 22,
          "metadata": {},
          "output_type": "execute_result"
        }
      ],
      "source": [
        "model.wv.most_similar('best')\n",
        "(model.wv['game'] + model.wv['hurt'])/2"
      ]
    },
    {
      "attachments": {},
      "cell_type": "markdown",
      "metadata": {},
      "source": [
        "Vectorize the tokenized lists"
      ]
    },
    {
      "cell_type": "code",
      "execution_count": 23,
      "metadata": {
        "colab": {
          "base_uri": "https://localhost:8080/",
          "height": 424
        },
        "id": "zkqxZZCSEv88",
        "outputId": "03645b33-11e4-457d-8efa-f78668cdf3d2"
      },
      "outputs": [],
      "source": [
        "inputs = []\n",
        "\n",
        "for token in data['tokenized']:\n",
        "    inputs.append(model.wv[token])\n",
        "\n",
        "data['Inputs'] = inputs\n"
      ]
    },
    {
      "cell_type": "code",
      "execution_count": 24,
      "metadata": {},
      "outputs": [
        {
          "name": "stdout",
          "output_type": "stream",
          "text": [
            "[[-0.30854788  0.18204293  0.42950445  0.40951198  0.5040612  -1.4174716\n",
            "   0.41877958  1.3174709  -1.0796828  -0.5731556  -0.69097877 -0.5859114\n",
            "  -0.3620589   0.44649988  0.19187732 -0.4867575  -0.36877388 -0.6195544\n",
            "  -0.29738072 -1.3484913   0.55311286  0.19334503  0.5236567  -0.8955858\n",
            "  -0.13933738 -0.07963673  0.05269325 -0.42249078 -0.86004305 -0.17262736\n",
            "   0.70798403  0.36533633  0.3584942  -0.39561075  0.05043959  1.154002\n",
            "  -0.27690172 -0.49795252 -0.42562747 -1.1666787   0.12381005 -0.5259444\n",
            "  -0.4270327   0.13556507  0.5899694  -0.27669147 -0.17301212 -0.34617507\n",
            "   0.61851317  0.8314889   0.6015434  -0.15361926 -0.50645745  0.05425134\n",
            "  -0.56744903  0.51442355  0.41671348 -0.11925797 -0.8685281   0.09399975\n",
            "   0.08798321  0.32652888 -0.46920425 -0.31193352 -0.4409031   0.4181189\n",
            "   0.11320119  0.41348752 -0.98391014  0.84051305 -0.07214007  0.12302396\n",
            "   0.14879386  0.13301489  1.0037469  -0.09481306  0.6014643  -0.22296788\n",
            "  -0.40806854  0.52641225  0.21651094  0.17882486 -0.3164683   0.8769749\n",
            "  -0.29001778 -0.08109669 -0.00691719  0.9537734   0.64464784  0.17855166\n",
            "   1.1557071   0.2975183   0.3010167  -0.5001574   1.0603257   0.8873398\n",
            "   0.3663366  -0.4405791   0.22777648 -0.05610513]\n",
            " [-0.17106922  0.4364416   0.14832176  0.1473151   0.11999919 -0.8139159\n",
            "   0.06843632  1.1539794  -0.49454144 -0.39272144 -0.21021667 -0.7123776\n",
            "  -0.1974174   0.25078863  0.20655063 -0.22591197  0.00168725 -0.43088543\n",
            "   0.06099495 -0.9362709   0.26992017  0.21008849  0.3839206  -0.46222535\n",
            "  -0.0860948   0.04525516 -0.16173984 -0.2926967  -0.5162016  -0.00384009\n",
            "   0.5646342   0.02718626  0.26346806 -0.49421552 -0.02634311  0.6017747\n",
            "  -0.05842286 -0.48861563 -0.3800226  -0.73173416  0.13730533 -0.3603447\n",
            "  -0.3108569   0.06548714  0.44402206 -0.25782326 -0.33878112 -0.00321871\n",
            "   0.25858214  0.42973697  0.23874725 -0.33884048 -0.2746376  -0.12817147\n",
            "  -0.3272592   0.20416732  0.31148127 -0.0120418  -0.4824203   0.29061157\n",
            "  -0.04435007  0.22458722 -0.11747349  0.06891315 -0.3685842   0.50952566\n",
            "   0.11560686  0.49682197 -0.71200854  0.6892846  -0.3122691   0.2419173\n",
            "   0.48304018 -0.01310781  0.62107694  0.10680068  0.2290205  -0.11889167\n",
            "  -0.33306524  0.22681709 -0.09962808 -0.20494772 -0.5284575   0.60838175\n",
            "  -0.1779443  -0.19890076  0.2325561   0.4028075   0.5635945   0.18501078\n",
            "   0.6605177   0.2025723   0.1418794  -0.03593439  0.8434829   0.48456338\n",
            "   0.4199154  -0.4121549   0.10304651 -0.05506448]]\n"
          ]
        }
      ],
      "source": [
        "print(data['Inputs'][0])"
      ]
    },
    {
      "attachments": {},
      "cell_type": "markdown",
      "metadata": {},
      "source": [
        "Perform **Average Word2Vec** on the input column"
      ]
    },
    {
      "cell_type": "code",
      "execution_count": 25,
      "metadata": {},
      "outputs": [],
      "source": [
        "inputs = []\n",
        "for input in data['Inputs']:\n",
        "    sum = 0\n",
        "    for i in input:\n",
        "        sum = sum + i\n",
        "    avg = sum/len(input)\n",
        "    inputs.append(avg)\n",
        "\n",
        "data['Inputs'] = inputs\n"
      ]
    },
    {
      "cell_type": "code",
      "execution_count": 26,
      "metadata": {},
      "outputs": [
        {
          "data": {
            "text/html": [
              "<div>\n",
              "<style scoped>\n",
              "    .dataframe tbody tr th:only-of-type {\n",
              "        vertical-align: middle;\n",
              "    }\n",
              "\n",
              "    .dataframe tbody tr th {\n",
              "        vertical-align: top;\n",
              "    }\n",
              "\n",
              "    .dataframe thead th {\n",
              "        text-align: right;\n",
              "    }\n",
              "</style>\n",
              "<table border=\"1\" class=\"dataframe\">\n",
              "  <thead>\n",
              "    <tr style=\"text-align: right;\">\n",
              "      <th></th>\n",
              "      <th>text</th>\n",
              "      <th>Emotions</th>\n",
              "      <th>Emotion_id</th>\n",
              "      <th>tokenized</th>\n",
              "      <th>Inputs</th>\n",
              "    </tr>\n",
              "  </thead>\n",
              "  <tbody>\n",
              "    <tr>\n",
              "      <th>0</th>\n",
              "      <td>That game hurt.</td>\n",
              "      <td>sadness</td>\n",
              "      <td>26</td>\n",
              "      <td>[game, hurt]</td>\n",
              "      <td>[-0.23980856, 0.30924225, 0.2889131, 0.2784135...</td>\n",
              "    </tr>\n",
              "    <tr>\n",
              "      <th>1</th>\n",
              "      <td>You do right, if you don't care then fuck 'em!</td>\n",
              "      <td>neutral</td>\n",
              "      <td>20</td>\n",
              "      <td>[right, dont, care, fuck, em]</td>\n",
              "      <td>[-0.054478846, 0.68874216, 0.15365359, 0.19634...</td>\n",
              "    </tr>\n",
              "    <tr>\n",
              "      <th>2</th>\n",
              "      <td>Man I love reddit.</td>\n",
              "      <td>love</td>\n",
              "      <td>18</td>\n",
              "      <td>[man, love, reddit]</td>\n",
              "      <td>[-0.20328994, 0.46478167, 0.19019409, 0.211051...</td>\n",
              "    </tr>\n",
              "    <tr>\n",
              "      <th>3</th>\n",
              "      <td>[NAME] was nowhere near them, he was by the Fa...</td>\n",
              "      <td>neutral</td>\n",
              "      <td>20</td>\n",
              "      <td>[name, nowher, near, falcon]</td>\n",
              "      <td>[-0.051740456, 0.20157528, 0.14858916, 0.12249...</td>\n",
              "    </tr>\n",
              "    <tr>\n",
              "      <th>4</th>\n",
              "      <td>Right? Considering it’s such an important docu...</td>\n",
              "      <td>gratitude</td>\n",
              "      <td>15</td>\n",
              "      <td>[right, consid, ’, import, document, know, dam...</td>\n",
              "      <td>[-0.13357426, 0.5235879, 0.09464794, 0.1486020...</td>\n",
              "    </tr>\n",
              "    <tr>\n",
              "      <th>...</th>\n",
              "      <td>...</td>\n",
              "      <td>...</td>\n",
              "      <td>...</td>\n",
              "      <td>...</td>\n",
              "      <td>...</td>\n",
              "    </tr>\n",
              "    <tr>\n",
              "      <th>46637</th>\n",
              "      <td>Oh [NAME] i forgot about those. I used to love...</td>\n",
              "      <td>love</td>\n",
              "      <td>18</td>\n",
              "      <td>[oh, name, forgot, use, love]</td>\n",
              "      <td>[-0.14708427, 0.50020075, 0.20055194, 0.193860...</td>\n",
              "    </tr>\n",
              "    <tr>\n",
              "      <th>46638</th>\n",
              "      <td>I didn’t even notice that one. I noticed the b...</td>\n",
              "      <td>neutral</td>\n",
              "      <td>20</td>\n",
              "      <td>[’, even, notic, one, notic, bottom, right, one]</td>\n",
              "      <td>[-0.15118442, 0.5772268, 0.19307154, 0.2373702...</td>\n",
              "    </tr>\n",
              "    <tr>\n",
              "      <th>46639</th>\n",
              "      <td>Thanks, [NAME]</td>\n",
              "      <td>gratitude</td>\n",
              "      <td>15</td>\n",
              "      <td>[thank, name]</td>\n",
              "      <td>[-0.17597935, 0.39596874, 0.16908649, 0.200962...</td>\n",
              "    </tr>\n",
              "    <tr>\n",
              "      <th>46640</th>\n",
              "      <td>Everyone likes [NAME].</td>\n",
              "      <td>love</td>\n",
              "      <td>18</td>\n",
              "      <td>[everyon, like, name]</td>\n",
              "      <td>[-0.11597981, 0.6524165, 0.164362, 0.22651522,...</td>\n",
              "    </tr>\n",
              "    <tr>\n",
              "      <th>46641</th>\n",
              "      <td>I just called the Capitol Police. They are not...</td>\n",
              "      <td>relief</td>\n",
              "      <td>24</td>\n",
              "      <td>[call, capitol, polic, affect, shutdown, name,...</td>\n",
              "      <td>[-0.12039026, 0.3792448, 0.1744211, 0.15903293...</td>\n",
              "    </tr>\n",
              "  </tbody>\n",
              "</table>\n",
              "<p>46642 rows × 5 columns</p>\n",
              "</div>"
            ],
            "text/plain": [
              "                                                    text   Emotions  \\\n",
              "0                                        That game hurt.    sadness   \n",
              "1         You do right, if you don't care then fuck 'em!    neutral   \n",
              "2                                     Man I love reddit.       love   \n",
              "3      [NAME] was nowhere near them, he was by the Fa...    neutral   \n",
              "4      Right? Considering it’s such an important docu...  gratitude   \n",
              "...                                                  ...        ...   \n",
              "46637  Oh [NAME] i forgot about those. I used to love...       love   \n",
              "46638  I didn’t even notice that one. I noticed the b...    neutral   \n",
              "46639                                     Thanks, [NAME]  gratitude   \n",
              "46640                             Everyone likes [NAME].       love   \n",
              "46641  I just called the Capitol Police. They are not...     relief   \n",
              "\n",
              "       Emotion_id                                          tokenized  \\\n",
              "0              26                                       [game, hurt]   \n",
              "1              20                      [right, dont, care, fuck, em]   \n",
              "2              18                                [man, love, reddit]   \n",
              "3              20                       [name, nowher, near, falcon]   \n",
              "4              15  [right, consid, ’, import, document, know, dam...   \n",
              "...           ...                                                ...   \n",
              "46637          18                      [oh, name, forgot, use, love]   \n",
              "46638          20   [’, even, notic, one, notic, bottom, right, one]   \n",
              "46639          15                                      [thank, name]   \n",
              "46640          18                              [everyon, like, name]   \n",
              "46641          24  [call, capitol, polic, affect, shutdown, name,...   \n",
              "\n",
              "                                                  Inputs  \n",
              "0      [-0.23980856, 0.30924225, 0.2889131, 0.2784135...  \n",
              "1      [-0.054478846, 0.68874216, 0.15365359, 0.19634...  \n",
              "2      [-0.20328994, 0.46478167, 0.19019409, 0.211051...  \n",
              "3      [-0.051740456, 0.20157528, 0.14858916, 0.12249...  \n",
              "4      [-0.13357426, 0.5235879, 0.09464794, 0.1486020...  \n",
              "...                                                  ...  \n",
              "46637  [-0.14708427, 0.50020075, 0.20055194, 0.193860...  \n",
              "46638  [-0.15118442, 0.5772268, 0.19307154, 0.2373702...  \n",
              "46639  [-0.17597935, 0.39596874, 0.16908649, 0.200962...  \n",
              "46640  [-0.11597981, 0.6524165, 0.164362, 0.22651522,...  \n",
              "46641  [-0.12039026, 0.3792448, 0.1744211, 0.15903293...  \n",
              "\n",
              "[46642 rows x 5 columns]"
            ]
          },
          "execution_count": 26,
          "metadata": {},
          "output_type": "execute_result"
        }
      ],
      "source": [
        "data"
      ]
    },
    {
      "cell_type": "code",
      "execution_count": 29,
      "metadata": {
        "id": "dcV_ULNgITDA"
      },
      "outputs": [],
      "source": [
        "data.to_csv('main/saved data/tokenized_inputs.csv')"
      ]
    }
  ],
  "metadata": {
    "accelerator": "GPU",
    "colab": {
      "include_colab_link": true,
      "provenance": []
    },
    "gpuClass": "standard",
    "kernelspec": {
      "display_name": "Python 3",
      "name": "python3"
    },
    "language_info": {
      "codemirror_mode": {
        "name": "ipython",
        "version": 3
      },
      "file_extension": ".py",
      "mimetype": "text/x-python",
      "name": "python",
      "nbconvert_exporter": "python",
      "pygments_lexer": "ipython3",
      "version": "3.9.13"
    }
  },
  "nbformat": 4,
  "nbformat_minor": 0
}
