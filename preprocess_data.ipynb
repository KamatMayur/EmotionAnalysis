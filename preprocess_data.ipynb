{
  "cells": [
    {
      "cell_type": "markdown",
      "metadata": {
        "colab_type": "text",
        "id": "view-in-github"
      },
      "source": [
        "<a href=\"https://colab.research.google.com/github/coder-rakeshpaul/EmotionAnalysis/blob/main/Emotion.ipynb\" target=\"_parent\"><img src=\"https://colab.research.google.com/assets/colab-badge.svg\" alt=\"Open In Colab\"/></a>"
      ]
    },
    {
      "cell_type": "code",
      "execution_count": 69,
      "metadata": {
        "colab": {
          "base_uri": "https://localhost:8080/"
        },
        "id": "LMGHMTMxT5W2",
        "outputId": "fdaf6311-7b94-465f-b9ca-e337c39624a4"
      },
      "outputs": [
        {
          "name": "stderr",
          "output_type": "stream",
          "text": [
            "[nltk_data] Downloading package stopwords to\n",
            "[nltk_data]     C:\\Users\\mayur\\AppData\\Roaming\\nltk_data...\n",
            "[nltk_data]   Package stopwords is already up-to-date!\n",
            "[nltk_data] Downloading package punkt to\n",
            "[nltk_data]     C:\\Users\\mayur\\AppData\\Roaming\\nltk_data...\n",
            "[nltk_data]   Package punkt is already up-to-date!\n"
          ]
        },
        {
          "data": {
            "text/plain": [
              "True"
            ]
          },
          "execution_count": 69,
          "metadata": {},
          "output_type": "execute_result"
        }
      ],
      "source": [
        "import pandas as pd\n",
        "import numpy as np\n",
        "import matplotlib.pyplot as plt\n",
        "from imblearn.over_sampling import SMOTE\n",
        "import seaborn as sns\n",
        "import nltk\n",
        "import string\n",
        "import re\n",
        "import inflect\n",
        "\n",
        "nltk.download('stopwords')\n",
        "nltk.download('punkt')"
      ]
    },
    {
      "cell_type": "markdown",
      "metadata": {
        "id": "FL0duwMh0-PO"
      },
      "source": [
        "Reading the data amd converting it into a dataframe"
      ]
    },
    {
      "cell_type": "code",
      "execution_count": 70,
      "metadata": {
        "id": "YVOttT7rUBqq"
      },
      "outputs": [],
      "source": [
        "df1 = pd.read_csv('https://storage.googleapis.com/gresearch/goemotions/data/full_dataset/goemotions_1.csv')\n",
        "df2 = pd.read_csv('https://storage.googleapis.com/gresearch/goemotions/data/full_dataset/goemotions_2.csv')\n",
        "df3 = pd.read_csv('https://storage.googleapis.com/gresearch/goemotions/data/full_dataset/goemotions_3.csv')\n",
        "frames = [df1, df2, df3]\n",
        "data = pd.concat(frames)"
      ]
    },
    {
      "cell_type": "markdown",
      "metadata": {
        "id": "hqJYJd1G1JxN"
      },
      "source": [
        "Droping unnecessary columns"
      ]
    },
    {
      "cell_type": "code",
      "execution_count": 71,
      "metadata": {
        "colab": {
          "base_uri": "https://localhost:8080/"
        },
        "id": "0Wxha2UdUIRZ",
        "outputId": "ed24f8a8-b0ea-4798-9e3c-b1e710a1d18e"
      },
      "outputs": [
        {
          "data": {
            "text/plain": [
              "(211225, 29)"
            ]
          },
          "execution_count": 71,
          "metadata": {},
          "output_type": "execute_result"
        }
      ],
      "source": [
        "data=data.drop(['id','author','subreddit','link_id','parent_id','created_utc','rater_id','example_very_unclear'], axis=1)\n",
        "data.shape"
      ]
    },
    {
      "cell_type": "markdown",
      "metadata": {
        "id": "TVKS4nCz1an2"
      },
      "source": [
        "Droping the duplicates"
      ]
    },
    {
      "cell_type": "code",
      "execution_count": 72,
      "metadata": {
        "colab": {
          "base_uri": "https://localhost:8080/"
        },
        "id": "4opruBEBUl1k",
        "outputId": "77cc1c50-4214-433d-a837-d216d9f92f97"
      },
      "outputs": [
        {
          "data": {
            "text/plain": [
              "(57732, 29)"
            ]
          },
          "execution_count": 72,
          "metadata": {},
          "output_type": "execute_result"
        }
      ],
      "source": [
        "data.drop_duplicates(subset='text', inplace=True)\n",
        "data.reset_index(drop=True, inplace=True)\n",
        "data.shape"
      ]
    },
    {
      "cell_type": "markdown",
      "metadata": {
        "id": "vk19WqhS1sdT"
      },
      "source": [
        "Droping data with mixed emotions"
      ]
    },
    {
      "cell_type": "code",
      "execution_count": 73,
      "metadata": {
        "colab": {
          "base_uri": "https://localhost:8080/"
        },
        "id": "DXF-vlhFUtWJ",
        "outputId": "6dd7f263-ba5a-4a0b-8350-f4dde14d5640"
      },
      "outputs": [
        {
          "name": "stderr",
          "output_type": "stream",
          "text": [
            "C:\\Users\\mayur\\AppData\\Local\\Temp\\ipykernel_22424\\1218242578.py:1: FutureWarning: Dropping of nuisance columns in DataFrame reductions (with 'numeric_only=None') is deprecated; in a future version this will raise TypeError.  Select only valid columns before calling the reduction.\n",
            "  sum = np.array(data.sum(axis=1))\n"
          ]
        },
        {
          "data": {
            "text/plain": [
              "(46741, 29)"
            ]
          },
          "execution_count": 73,
          "metadata": {},
          "output_type": "execute_result"
        }
      ],
      "source": [
        "sum = np.array(data.sum(axis=1))\n",
        "ind = np.where(np.logical_or(sum>1, sum==0))[0].tolist()\n",
        "data.drop(ind, inplace = True)\n",
        "data.reset_index(drop=True, inplace=True)\n",
        "data.shape"
      ]
    },
    {
      "cell_type": "markdown",
      "metadata": {
        "id": "ULgeed2N118-"
      },
      "source": [
        "Creating a list of emotions"
      ]
    },
    {
      "cell_type": "code",
      "execution_count": 74,
      "metadata": {
        "id": "rWpayA_mTmfB"
      },
      "outputs": [],
      "source": [
        "emotions = list(data.columns)[1:]"
      ]
    },
    {
      "cell_type": "code",
      "execution_count": 75,
      "metadata": {
        "id": "w3zLcXwIWasU"
      },
      "outputs": [],
      "source": [
        "emo = []\n",
        "for text in range(0, data.shape[0]):\n",
        "  for emotion in emotions:\n",
        "    if data.loc[text][emotion] == 1:\n",
        "      emo.append(emotion)\n"
      ]
    },
    {
      "cell_type": "code",
      "execution_count": 76,
      "metadata": {
        "id": "F8ldYHy-brpF"
      },
      "outputs": [],
      "source": [
        "data.drop(data.iloc[:, 1:29], inplace=True, axis=1)"
      ]
    },
    {
      "cell_type": "code",
      "execution_count": 77,
      "metadata": {
        "colab": {
          "base_uri": "https://localhost:8080/",
          "height": 424
        },
        "id": "LhixacjwG-OC",
        "outputId": "06600a89-e02b-40f0-9c60-a1b29bba3d3d"
      },
      "outputs": [
        {
          "data": {
            "text/html": [
              "<div>\n",
              "<style scoped>\n",
              "    .dataframe tbody tr th:only-of-type {\n",
              "        vertical-align: middle;\n",
              "    }\n",
              "\n",
              "    .dataframe tbody tr th {\n",
              "        vertical-align: top;\n",
              "    }\n",
              "\n",
              "    .dataframe thead th {\n",
              "        text-align: right;\n",
              "    }\n",
              "</style>\n",
              "<table border=\"1\" class=\"dataframe\">\n",
              "  <thead>\n",
              "    <tr style=\"text-align: right;\">\n",
              "      <th></th>\n",
              "      <th>text</th>\n",
              "    </tr>\n",
              "  </thead>\n",
              "  <tbody>\n",
              "    <tr>\n",
              "      <th>0</th>\n",
              "      <td>That game hurt.</td>\n",
              "    </tr>\n",
              "    <tr>\n",
              "      <th>1</th>\n",
              "      <td>You do right, if you don't care then fuck 'em!</td>\n",
              "    </tr>\n",
              "    <tr>\n",
              "      <th>2</th>\n",
              "      <td>Man I love reddit.</td>\n",
              "    </tr>\n",
              "    <tr>\n",
              "      <th>3</th>\n",
              "      <td>[NAME] was nowhere near them, he was by the Fa...</td>\n",
              "    </tr>\n",
              "    <tr>\n",
              "      <th>4</th>\n",
              "      <td>Right? Considering it’s such an important docu...</td>\n",
              "    </tr>\n",
              "    <tr>\n",
              "      <th>...</th>\n",
              "      <td>...</td>\n",
              "    </tr>\n",
              "    <tr>\n",
              "      <th>46736</th>\n",
              "      <td>Oh [NAME] i forgot about those. I used to love...</td>\n",
              "    </tr>\n",
              "    <tr>\n",
              "      <th>46737</th>\n",
              "      <td>I didn’t even notice that one. I noticed the b...</td>\n",
              "    </tr>\n",
              "    <tr>\n",
              "      <th>46738</th>\n",
              "      <td>Thanks, [NAME]</td>\n",
              "    </tr>\n",
              "    <tr>\n",
              "      <th>46739</th>\n",
              "      <td>Everyone likes [NAME].</td>\n",
              "    </tr>\n",
              "    <tr>\n",
              "      <th>46740</th>\n",
              "      <td>I just called the Capitol Police. They are not...</td>\n",
              "    </tr>\n",
              "  </tbody>\n",
              "</table>\n",
              "<p>46741 rows × 1 columns</p>\n",
              "</div>"
            ],
            "text/plain": [
              "                                                    text\n",
              "0                                        That game hurt.\n",
              "1         You do right, if you don't care then fuck 'em!\n",
              "2                                     Man I love reddit.\n",
              "3      [NAME] was nowhere near them, he was by the Fa...\n",
              "4      Right? Considering it’s such an important docu...\n",
              "...                                                  ...\n",
              "46736  Oh [NAME] i forgot about those. I used to love...\n",
              "46737  I didn’t even notice that one. I noticed the b...\n",
              "46738                                     Thanks, [NAME]\n",
              "46739                             Everyone likes [NAME].\n",
              "46740  I just called the Capitol Police. They are not...\n",
              "\n",
              "[46741 rows x 1 columns]"
            ]
          },
          "execution_count": 77,
          "metadata": {},
          "output_type": "execute_result"
        }
      ],
      "source": [
        "data"
      ]
    },
    {
      "cell_type": "code",
      "execution_count": 78,
      "metadata": {
        "colab": {
          "base_uri": "https://localhost:8080/",
          "height": 424
        },
        "id": "n5WKCi8FX7Aj",
        "outputId": "6bb003cd-c4c5-4768-8c7e-73dc970c3fdb"
      },
      "outputs": [
        {
          "data": {
            "text/html": [
              "<div>\n",
              "<style scoped>\n",
              "    .dataframe tbody tr th:only-of-type {\n",
              "        vertical-align: middle;\n",
              "    }\n",
              "\n",
              "    .dataframe tbody tr th {\n",
              "        vertical-align: top;\n",
              "    }\n",
              "\n",
              "    .dataframe thead th {\n",
              "        text-align: right;\n",
              "    }\n",
              "</style>\n",
              "<table border=\"1\" class=\"dataframe\">\n",
              "  <thead>\n",
              "    <tr style=\"text-align: right;\">\n",
              "      <th></th>\n",
              "      <th>text</th>\n",
              "      <th>Emotions</th>\n",
              "      <th>Emotion_id</th>\n",
              "    </tr>\n",
              "  </thead>\n",
              "  <tbody>\n",
              "    <tr>\n",
              "      <th>0</th>\n",
              "      <td>That game hurt.</td>\n",
              "      <td>sadness</td>\n",
              "      <td>26</td>\n",
              "    </tr>\n",
              "    <tr>\n",
              "      <th>1</th>\n",
              "      <td>You do right, if you don't care then fuck 'em!</td>\n",
              "      <td>neutral</td>\n",
              "      <td>20</td>\n",
              "    </tr>\n",
              "    <tr>\n",
              "      <th>2</th>\n",
              "      <td>Man I love reddit.</td>\n",
              "      <td>love</td>\n",
              "      <td>18</td>\n",
              "    </tr>\n",
              "    <tr>\n",
              "      <th>3</th>\n",
              "      <td>[NAME] was nowhere near them, he was by the Fa...</td>\n",
              "      <td>neutral</td>\n",
              "      <td>20</td>\n",
              "    </tr>\n",
              "    <tr>\n",
              "      <th>4</th>\n",
              "      <td>Right? Considering it’s such an important docu...</td>\n",
              "      <td>gratitude</td>\n",
              "      <td>15</td>\n",
              "    </tr>\n",
              "    <tr>\n",
              "      <th>...</th>\n",
              "      <td>...</td>\n",
              "      <td>...</td>\n",
              "      <td>...</td>\n",
              "    </tr>\n",
              "    <tr>\n",
              "      <th>46736</th>\n",
              "      <td>Oh [NAME] i forgot about those. I used to love...</td>\n",
              "      <td>love</td>\n",
              "      <td>18</td>\n",
              "    </tr>\n",
              "    <tr>\n",
              "      <th>46737</th>\n",
              "      <td>I didn’t even notice that one. I noticed the b...</td>\n",
              "      <td>neutral</td>\n",
              "      <td>20</td>\n",
              "    </tr>\n",
              "    <tr>\n",
              "      <th>46738</th>\n",
              "      <td>Thanks, [NAME]</td>\n",
              "      <td>gratitude</td>\n",
              "      <td>15</td>\n",
              "    </tr>\n",
              "    <tr>\n",
              "      <th>46739</th>\n",
              "      <td>Everyone likes [NAME].</td>\n",
              "      <td>love</td>\n",
              "      <td>18</td>\n",
              "    </tr>\n",
              "    <tr>\n",
              "      <th>46740</th>\n",
              "      <td>I just called the Capitol Police. They are not...</td>\n",
              "      <td>relief</td>\n",
              "      <td>24</td>\n",
              "    </tr>\n",
              "  </tbody>\n",
              "</table>\n",
              "<p>46741 rows × 3 columns</p>\n",
              "</div>"
            ],
            "text/plain": [
              "                                                    text   Emotions  \\\n",
              "0                                        That game hurt.    sadness   \n",
              "1         You do right, if you don't care then fuck 'em!    neutral   \n",
              "2                                     Man I love reddit.       love   \n",
              "3      [NAME] was nowhere near them, he was by the Fa...    neutral   \n",
              "4      Right? Considering it’s such an important docu...  gratitude   \n",
              "...                                                  ...        ...   \n",
              "46736  Oh [NAME] i forgot about those. I used to love...       love   \n",
              "46737  I didn’t even notice that one. I noticed the b...    neutral   \n",
              "46738                                     Thanks, [NAME]  gratitude   \n",
              "46739                             Everyone likes [NAME].       love   \n",
              "46740  I just called the Capitol Police. They are not...     relief   \n",
              "\n",
              "       Emotion_id  \n",
              "0              26  \n",
              "1              20  \n",
              "2              18  \n",
              "3              20  \n",
              "4              15  \n",
              "...           ...  \n",
              "46736          18  \n",
              "46737          20  \n",
              "46738          15  \n",
              "46739          18  \n",
              "46740          24  \n",
              "\n",
              "[46741 rows x 3 columns]"
            ]
          },
          "execution_count": 78,
          "metadata": {},
          "output_type": "execute_result"
        }
      ],
      "source": [
        "data['Emotions']= emo\n",
        "\n",
        "from sklearn.preprocessing import LabelEncoder\n",
        "le = LabelEncoder()\n",
        "data['Emotion_id'] = le.fit_transform(data['Emotions'])\n",
        "\n",
        "data"
      ]
    },
    {
      "cell_type": "code",
      "execution_count": 79,
      "metadata": {
        "colab": {
          "base_uri": "https://localhost:8080/",
          "height": 358
        },
        "id": "SfDO8JNRYWOC",
        "outputId": "46f45530-0cf6-4b89-d85c-6cfa251a302a"
      },
      "outputs": [
        {
          "name": "stderr",
          "output_type": "stream",
          "text": [
            "c:\\Users\\mayur\\anaconda3\\lib\\site-packages\\seaborn\\distributions.py:2619: FutureWarning: `distplot` is a deprecated function and will be removed in a future version. Please adapt your code to use either `displot` (a figure-level function with similar flexibility) or `histplot` (an axes-level function for histograms).\n",
            "  warnings.warn(msg, FutureWarning)\n"
          ]
        },
        {
          "data": {
            "text/plain": [
              "<AxesSubplot:xlabel='Emotion_id'>"
            ]
          },
          "execution_count": 79,
          "metadata": {},
          "output_type": "execute_result"
        },
        {
          "data": {
            "image/png": "[encoded data removed]",
            "text/plain": [
              "<Figure size 640x480 with 1 Axes>"
            ]
          },
          "metadata": {},
          "output_type": "display_data"
        }
      ],
      "source": [
        "from seaborn import distplot\n",
        "\n",
        "distplot(data['Emotion_id'], kde=False, color='red', bins=100)"
      ]
    },
    {
      "cell_type": "markdown",
      "metadata": {
        "id": "0urO_Hbs2yxu"
      },
      "source": [
        "Preprocessing the data"
      ]
    },
    {
      "cell_type": "code",
      "execution_count": 80,
      "metadata": {
        "id": "cyd9zK7t0NB7"
      },
      "outputs": [],
      "source": [
        "def text_lowercase(text):\n",
        "\treturn text.lower()\n",
        " \n",
        "import string\n",
        "# remove punctuation\n",
        "def remove_punctuation(text):\n",
        "\treturn text.translate(str.maketrans('', '', string.punctuation))"
      ]
    },
    {
      "cell_type": "markdown",
      "metadata": {
        "id": "Z_XlZLz23jrL"
      },
      "source": [
        "Removing stop words"
      ]
    },
    {
      "cell_type": "code",
      "execution_count": 81,
      "metadata": {
        "id": "jZsrNIiM3WLh"
      },
      "outputs": [],
      "source": [
        "from nltk.corpus import stopwords\n",
        "from nltk.tokenize import word_tokenize\n",
        "from nltk.stem.porter import PorterStemmer\n",
        "\n",
        "stemmer = PorterStemmer()\n",
        "# remove stopwords function\n",
        "def remove_stopwords_tokenize_and_stem(text):\n",
        "\tstop_words = set(stopwords.words(\"english\"))\n",
        "\tword_tokens = word_tokenize(text)\n",
        "\tfiltered_text = [word for word in word_tokens if word not in stop_words]\n",
        "\tstems = [stemmer.stem(word) for word in filtered_text]\n",
        "\treturn stems"
      ]
    },
    {
      "cell_type": "markdown",
      "metadata": {
        "id": "j6xVzmzq3fnh"
      },
      "source": [
        "Stemming the data"
      ]
    },
    {
      "cell_type": "code",
      "execution_count": 82,
      "metadata": {
        "id": "tSZINYhw03fV"
      },
      "outputs": [],
      "source": [
        "from nltk.stem.porter import PorterStemmer\n",
        "from nltk.tokenize import word_tokenize\n",
        "stemmer = PorterStemmer()\n",
        "\n",
        "# stem words in the list of tokenized words\n",
        "def stem_words(text):\n",
        "\tword_tokens = word_tokenize(text)\n",
        "\tstems = [stemmer.stem(word) for word in word_tokens]\n",
        "\treturn stems"
      ]
    },
    {
      "cell_type": "code",
      "execution_count": 83,
      "metadata": {
        "id": "MO_eb7Dg-yyn"
      },
      "outputs": [],
      "source": [
        "def text_preprocess(text):\n",
        "  t = remove_punctuation(text)\n",
        "  t = text_lowercase(t)\n",
        "  t = remove_stopwords_tokenize_and_stem(t)\n",
        "  return t"
      ]
    },
    {
      "cell_type": "code",
      "execution_count": 84,
      "metadata": {
        "colab": {
          "base_uri": "https://localhost:8080/",
          "height": 424
        },
        "id": "q5wgW7AWFgUK",
        "outputId": "644f855e-f9d6-417c-c9f7-96b765ccbf32"
      },
      "outputs": [
        {
          "data": {
            "text/html": [
              "<div>\n",
              "<style scoped>\n",
              "    .dataframe tbody tr th:only-of-type {\n",
              "        vertical-align: middle;\n",
              "    }\n",
              "\n",
              "    .dataframe tbody tr th {\n",
              "        vertical-align: top;\n",
              "    }\n",
              "\n",
              "    .dataframe thead th {\n",
              "        text-align: right;\n",
              "    }\n",
              "</style>\n",
              "<table border=\"1\" class=\"dataframe\">\n",
              "  <thead>\n",
              "    <tr style=\"text-align: right;\">\n",
              "      <th></th>\n",
              "      <th>text</th>\n",
              "      <th>Emotions</th>\n",
              "      <th>Emotion_id</th>\n",
              "    </tr>\n",
              "  </thead>\n",
              "  <tbody>\n",
              "    <tr>\n",
              "      <th>0</th>\n",
              "      <td>That game hurt.</td>\n",
              "      <td>sadness</td>\n",
              "      <td>26</td>\n",
              "    </tr>\n",
              "    <tr>\n",
              "      <th>1</th>\n",
              "      <td>You do right, if you don't care then fuck 'em!</td>\n",
              "      <td>neutral</td>\n",
              "      <td>20</td>\n",
              "    </tr>\n",
              "    <tr>\n",
              "      <th>2</th>\n",
              "      <td>Man I love reddit.</td>\n",
              "      <td>love</td>\n",
              "      <td>18</td>\n",
              "    </tr>\n",
              "    <tr>\n",
              "      <th>3</th>\n",
              "      <td>[NAME] was nowhere near them, he was by the Fa...</td>\n",
              "      <td>neutral</td>\n",
              "      <td>20</td>\n",
              "    </tr>\n",
              "    <tr>\n",
              "      <th>4</th>\n",
              "      <td>Right? Considering it’s such an important docu...</td>\n",
              "      <td>gratitude</td>\n",
              "      <td>15</td>\n",
              "    </tr>\n",
              "    <tr>\n",
              "      <th>...</th>\n",
              "      <td>...</td>\n",
              "      <td>...</td>\n",
              "      <td>...</td>\n",
              "    </tr>\n",
              "    <tr>\n",
              "      <th>46736</th>\n",
              "      <td>Oh [NAME] i forgot about those. I used to love...</td>\n",
              "      <td>love</td>\n",
              "      <td>18</td>\n",
              "    </tr>\n",
              "    <tr>\n",
              "      <th>46737</th>\n",
              "      <td>I didn’t even notice that one. I noticed the b...</td>\n",
              "      <td>neutral</td>\n",
              "      <td>20</td>\n",
              "    </tr>\n",
              "    <tr>\n",
              "      <th>46738</th>\n",
              "      <td>Thanks, [NAME]</td>\n",
              "      <td>gratitude</td>\n",
              "      <td>15</td>\n",
              "    </tr>\n",
              "    <tr>\n",
              "      <th>46739</th>\n",
              "      <td>Everyone likes [NAME].</td>\n",
              "      <td>love</td>\n",
              "      <td>18</td>\n",
              "    </tr>\n",
              "    <tr>\n",
              "      <th>46740</th>\n",
              "      <td>I just called the Capitol Police. They are not...</td>\n",
              "      <td>relief</td>\n",
              "      <td>24</td>\n",
              "    </tr>\n",
              "  </tbody>\n",
              "</table>\n",
              "<p>46741 rows × 3 columns</p>\n",
              "</div>"
            ],
            "text/plain": [
              "                                                    text   Emotions  \\\n",
              "0                                        That game hurt.    sadness   \n",
              "1         You do right, if you don't care then fuck 'em!    neutral   \n",
              "2                                     Man I love reddit.       love   \n",
              "3      [NAME] was nowhere near them, he was by the Fa...    neutral   \n",
              "4      Right? Considering it’s such an important docu...  gratitude   \n",
              "...                                                  ...        ...   \n",
              "46736  Oh [NAME] i forgot about those. I used to love...       love   \n",
              "46737  I didn’t even notice that one. I noticed the b...    neutral   \n",
              "46738                                     Thanks, [NAME]  gratitude   \n",
              "46739                             Everyone likes [NAME].       love   \n",
              "46740  I just called the Capitol Police. They are not...     relief   \n",
              "\n",
              "       Emotion_id  \n",
              "0              26  \n",
              "1              20  \n",
              "2              18  \n",
              "3              20  \n",
              "4              15  \n",
              "...           ...  \n",
              "46736          18  \n",
              "46737          20  \n",
              "46738          15  \n",
              "46739          18  \n",
              "46740          24  \n",
              "\n",
              "[46741 rows x 3 columns]"
            ]
          },
          "execution_count": 84,
          "metadata": {},
          "output_type": "execute_result"
        }
      ],
      "source": [
        "data"
      ]
    },
    {
      "cell_type": "code",
      "execution_count": 85,
      "metadata": {
        "id": "hHGpycsfAMeb"
      },
      "outputs": [],
      "source": [
        "data['tokenized'] = data.apply(lambda x: text_preprocess(x['text']), axis=1)"
      ]
    },
    {
      "cell_type": "code",
      "execution_count": 86,
      "metadata": {},
      "outputs": [
        {
          "data": {
            "text/html": [
              "<div>\n",
              "<style scoped>\n",
              "    .dataframe tbody tr th:only-of-type {\n",
              "        vertical-align: middle;\n",
              "    }\n",
              "\n",
              "    .dataframe tbody tr th {\n",
              "        vertical-align: top;\n",
              "    }\n",
              "\n",
              "    .dataframe thead th {\n",
              "        text-align: right;\n",
              "    }\n",
              "</style>\n",
              "<table border=\"1\" class=\"dataframe\">\n",
              "  <thead>\n",
              "    <tr style=\"text-align: right;\">\n",
              "      <th></th>\n",
              "      <th>text</th>\n",
              "      <th>Emotions</th>\n",
              "      <th>Emotion_id</th>\n",
              "      <th>tokenized</th>\n",
              "    </tr>\n",
              "  </thead>\n",
              "  <tbody>\n",
              "    <tr>\n",
              "      <th>0</th>\n",
              "      <td>That game hurt.</td>\n",
              "      <td>sadness</td>\n",
              "      <td>26</td>\n",
              "      <td>[game, hurt]</td>\n",
              "    </tr>\n",
              "    <tr>\n",
              "      <th>1</th>\n",
              "      <td>You do right, if you don't care then fuck 'em!</td>\n",
              "      <td>neutral</td>\n",
              "      <td>20</td>\n",
              "      <td>[right, dont, care, fuck, em]</td>\n",
              "    </tr>\n",
              "    <tr>\n",
              "      <th>2</th>\n",
              "      <td>Man I love reddit.</td>\n",
              "      <td>love</td>\n",
              "      <td>18</td>\n",
              "      <td>[man, love, reddit]</td>\n",
              "    </tr>\n",
              "    <tr>\n",
              "      <th>3</th>\n",
              "      <td>[NAME] was nowhere near them, he was by the Fa...</td>\n",
              "      <td>neutral</td>\n",
              "      <td>20</td>\n",
              "      <td>[name, nowher, near, falcon]</td>\n",
              "    </tr>\n",
              "    <tr>\n",
              "      <th>4</th>\n",
              "      <td>Right? Considering it’s such an important docu...</td>\n",
              "      <td>gratitude</td>\n",
              "      <td>15</td>\n",
              "      <td>[right, consid, ’, import, document, know, dam...</td>\n",
              "    </tr>\n",
              "    <tr>\n",
              "      <th>...</th>\n",
              "      <td>...</td>\n",
              "      <td>...</td>\n",
              "      <td>...</td>\n",
              "      <td>...</td>\n",
              "    </tr>\n",
              "    <tr>\n",
              "      <th>46736</th>\n",
              "      <td>Oh [NAME] i forgot about those. I used to love...</td>\n",
              "      <td>love</td>\n",
              "      <td>18</td>\n",
              "      <td>[oh, name, forgot, use, love]</td>\n",
              "    </tr>\n",
              "    <tr>\n",
              "      <th>46737</th>\n",
              "      <td>I didn’t even notice that one. I noticed the b...</td>\n",
              "      <td>neutral</td>\n",
              "      <td>20</td>\n",
              "      <td>[’, even, notic, one, notic, bottom, right, one]</td>\n",
              "    </tr>\n",
              "    <tr>\n",
              "      <th>46738</th>\n",
              "      <td>Thanks, [NAME]</td>\n",
              "      <td>gratitude</td>\n",
              "      <td>15</td>\n",
              "      <td>[thank, name]</td>\n",
              "    </tr>\n",
              "    <tr>\n",
              "      <th>46739</th>\n",
              "      <td>Everyone likes [NAME].</td>\n",
              "      <td>love</td>\n",
              "      <td>18</td>\n",
              "      <td>[everyon, like, name]</td>\n",
              "    </tr>\n",
              "    <tr>\n",
              "      <th>46740</th>\n",
              "      <td>I just called the Capitol Police. They are not...</td>\n",
              "      <td>relief</td>\n",
              "      <td>24</td>\n",
              "      <td>[call, capitol, polic, affect, shutdown, name,...</td>\n",
              "    </tr>\n",
              "  </tbody>\n",
              "</table>\n",
              "<p>46741 rows × 4 columns</p>\n",
              "</div>"
            ],
            "text/plain": [
              "                                                    text   Emotions  \\\n",
              "0                                        That game hurt.    sadness   \n",
              "1         You do right, if you don't care then fuck 'em!    neutral   \n",
              "2                                     Man I love reddit.       love   \n",
              "3      [NAME] was nowhere near them, he was by the Fa...    neutral   \n",
              "4      Right? Considering it’s such an important docu...  gratitude   \n",
              "...                                                  ...        ...   \n",
              "46736  Oh [NAME] i forgot about those. I used to love...       love   \n",
              "46737  I didn’t even notice that one. I noticed the b...    neutral   \n",
              "46738                                     Thanks, [NAME]  gratitude   \n",
              "46739                             Everyone likes [NAME].       love   \n",
              "46740  I just called the Capitol Police. They are not...     relief   \n",
              "\n",
              "       Emotion_id                                          tokenized  \n",
              "0              26                                       [game, hurt]  \n",
              "1              20                      [right, dont, care, fuck, em]  \n",
              "2              18                                [man, love, reddit]  \n",
              "3              20                       [name, nowher, near, falcon]  \n",
              "4              15  [right, consid, ’, import, document, know, dam...  \n",
              "...           ...                                                ...  \n",
              "46736          18                      [oh, name, forgot, use, love]  \n",
              "46737          20   [’, even, notic, one, notic, bottom, right, one]  \n",
              "46738          15                                      [thank, name]  \n",
              "46739          18                              [everyon, like, name]  \n",
              "46740          24  [call, capitol, polic, affect, shutdown, name,...  \n",
              "\n",
              "[46741 rows x 4 columns]"
            ]
          },
          "execution_count": 86,
          "metadata": {},
          "output_type": "execute_result"
        }
      ],
      "source": [
        "data"
      ]
    },
    {
      "attachments": {},
      "cell_type": "markdown",
      "metadata": {},
      "source": [
        "**Removing rows in which the token list is empty (this occurs due to stemming)**"
      ]
    },
    {
      "cell_type": "code",
      "execution_count": 87,
      "metadata": {
        "colab": {
          "base_uri": "https://localhost:8080/",
          "height": 424
        },
        "id": "38-lhBSlAZ9n",
        "outputId": "7c064135-743c-4de4-8a4c-37e2d0a6cb68"
      },
      "outputs": [],
      "source": [
        "emp_token_ind = []\n",
        "\n",
        "tokens = data['tokenized'].to_numpy()\n",
        "for i in range(0, tokens.size):\n",
        "    if len(tokens[i]) == 0:\n",
        "        emp_token_ind.append(i)\n",
        "\n",
        "data.drop(emp_token_ind ,axis=0, inplace=True)\n",
        "data.reset_index(drop=True, inplace=True)"
      ]
    },
    {
      "cell_type": "code",
      "execution_count": 88,
      "metadata": {},
      "outputs": [
        {
          "data": {
            "text/html": [
              "<div>\n",
              "<style scoped>\n",
              "    .dataframe tbody tr th:only-of-type {\n",
              "        vertical-align: middle;\n",
              "    }\n",
              "\n",
              "    .dataframe tbody tr th {\n",
              "        vertical-align: top;\n",
              "    }\n",
              "\n",
              "    .dataframe thead th {\n",
              "        text-align: right;\n",
              "    }\n",
              "</style>\n",
              "<table border=\"1\" class=\"dataframe\">\n",
              "  <thead>\n",
              "    <tr style=\"text-align: right;\">\n",
              "      <th></th>\n",
              "      <th>text</th>\n",
              "      <th>Emotions</th>\n",
              "      <th>Emotion_id</th>\n",
              "      <th>tokenized</th>\n",
              "    </tr>\n",
              "  </thead>\n",
              "  <tbody>\n",
              "    <tr>\n",
              "      <th>0</th>\n",
              "      <td>That game hurt.</td>\n",
              "      <td>sadness</td>\n",
              "      <td>26</td>\n",
              "      <td>[game, hurt]</td>\n",
              "    </tr>\n",
              "    <tr>\n",
              "      <th>1</th>\n",
              "      <td>You do right, if you don't care then fuck 'em!</td>\n",
              "      <td>neutral</td>\n",
              "      <td>20</td>\n",
              "      <td>[right, dont, care, fuck, em]</td>\n",
              "    </tr>\n",
              "    <tr>\n",
              "      <th>2</th>\n",
              "      <td>Man I love reddit.</td>\n",
              "      <td>love</td>\n",
              "      <td>18</td>\n",
              "      <td>[man, love, reddit]</td>\n",
              "    </tr>\n",
              "    <tr>\n",
              "      <th>3</th>\n",
              "      <td>[NAME] was nowhere near them, he was by the Fa...</td>\n",
              "      <td>neutral</td>\n",
              "      <td>20</td>\n",
              "      <td>[name, nowher, near, falcon]</td>\n",
              "    </tr>\n",
              "    <tr>\n",
              "      <th>4</th>\n",
              "      <td>Right? Considering it’s such an important docu...</td>\n",
              "      <td>gratitude</td>\n",
              "      <td>15</td>\n",
              "      <td>[right, consid, ’, import, document, know, dam...</td>\n",
              "    </tr>\n",
              "    <tr>\n",
              "      <th>...</th>\n",
              "      <td>...</td>\n",
              "      <td>...</td>\n",
              "      <td>...</td>\n",
              "      <td>...</td>\n",
              "    </tr>\n",
              "    <tr>\n",
              "      <th>46637</th>\n",
              "      <td>Oh [NAME] i forgot about those. I used to love...</td>\n",
              "      <td>love</td>\n",
              "      <td>18</td>\n",
              "      <td>[oh, name, forgot, use, love]</td>\n",
              "    </tr>\n",
              "    <tr>\n",
              "      <th>46638</th>\n",
              "      <td>I didn’t even notice that one. I noticed the b...</td>\n",
              "      <td>neutral</td>\n",
              "      <td>20</td>\n",
              "      <td>[’, even, notic, one, notic, bottom, right, one]</td>\n",
              "    </tr>\n",
              "    <tr>\n",
              "      <th>46639</th>\n",
              "      <td>Thanks, [NAME]</td>\n",
              "      <td>gratitude</td>\n",
              "      <td>15</td>\n",
              "      <td>[thank, name]</td>\n",
              "    </tr>\n",
              "    <tr>\n",
              "      <th>46640</th>\n",
              "      <td>Everyone likes [NAME].</td>\n",
              "      <td>love</td>\n",
              "      <td>18</td>\n",
              "      <td>[everyon, like, name]</td>\n",
              "    </tr>\n",
              "    <tr>\n",
              "      <th>46641</th>\n",
              "      <td>I just called the Capitol Police. They are not...</td>\n",
              "      <td>relief</td>\n",
              "      <td>24</td>\n",
              "      <td>[call, capitol, polic, affect, shutdown, name,...</td>\n",
              "    </tr>\n",
              "  </tbody>\n",
              "</table>\n",
              "<p>46642 rows × 4 columns</p>\n",
              "</div>"
            ],
            "text/plain": [
              "                                                    text   Emotions  \\\n",
              "0                                        That game hurt.    sadness   \n",
              "1         You do right, if you don't care then fuck 'em!    neutral   \n",
              "2                                     Man I love reddit.       love   \n",
              "3      [NAME] was nowhere near them, he was by the Fa...    neutral   \n",
              "4      Right? Considering it’s such an important docu...  gratitude   \n",
              "...                                                  ...        ...   \n",
              "46637  Oh [NAME] i forgot about those. I used to love...       love   \n",
              "46638  I didn’t even notice that one. I noticed the b...    neutral   \n",
              "46639                                     Thanks, [NAME]  gratitude   \n",
              "46640                             Everyone likes [NAME].       love   \n",
              "46641  I just called the Capitol Police. They are not...     relief   \n",
              "\n",
              "       Emotion_id                                          tokenized  \n",
              "0              26                                       [game, hurt]  \n",
              "1              20                      [right, dont, care, fuck, em]  \n",
              "2              18                                [man, love, reddit]  \n",
              "3              20                       [name, nowher, near, falcon]  \n",
              "4              15  [right, consid, ’, import, document, know, dam...  \n",
              "...           ...                                                ...  \n",
              "46637          18                      [oh, name, forgot, use, love]  \n",
              "46638          20   [’, even, notic, one, notic, bottom, right, one]  \n",
              "46639          15                                      [thank, name]  \n",
              "46640          18                              [everyon, like, name]  \n",
              "46641          24  [call, capitol, polic, affect, shutdown, name,...  \n",
              "\n",
              "[46642 rows x 4 columns]"
            ]
          },
          "execution_count": 88,
          "metadata": {},
          "output_type": "execute_result"
        }
      ],
      "source": [
        "data"
      ]
    },
    {
      "cell_type": "code",
      "execution_count": 89,
      "metadata": {
        "id": "xzQqKXQaCten"
      },
      "outputs": [],
      "source": [
        "import gensim\n",
        "from gensim.models import Word2Vec, KeyedVectors\n",
        "\n",
        "model = Word2Vec(window=5, min_count=1, workers=4, sg=0)\n",
        "\n",
        "model.build_vocab(data['tokenized'], progress_per=1000)\n",
        "model.train(data['tokenized'], total_examples=model.corpus_count, epochs=model.epochs)\n",
        "\n",
        "model.save(\"main/saved models/word2vec.model\")"
      ]
    },
    {
      "cell_type": "code",
      "execution_count": 90,
      "metadata": {
        "colab": {
          "base_uri": "https://localhost:8080/"
        },
        "id": "31hSgLXaCyNp",
        "outputId": "4cf18d0e-e2ad-43cb-cae4-268c7ef5988c"
      },
      "outputs": [
        {
          "data": {
            "text/plain": [
              "array([-0.30261147,  0.26176733,  0.1866504 ,  0.25571012,  0.24776149,\n",
              "       -0.95814013,  0.32849348,  1.1878123 , -0.78501815, -0.38097623,\n",
              "       -0.45976058, -0.69068325, -0.20034996,  0.25893027,  0.13567428,\n",
              "       -0.30115867, -0.18865202, -0.42014045, -0.04275019, -1.1013728 ,\n",
              "        0.34176898,  0.15480022,  0.39784724, -0.6065619 , -0.10443486,\n",
              "       -0.03162997, -0.06404519, -0.5308155 , -0.63378537, -0.03699438,\n",
              "        0.6107504 ,  0.1457814 ,  0.35861638, -0.40513313,  0.0196539 ,\n",
              "        1.1608706 , -0.17513372, -0.5440571 , -0.4265335 , -1.0347345 ,\n",
              "        0.19026089, -0.51676285, -0.4938383 ,  0.03504951,  0.4776766 ,\n",
              "       -0.45484382, -0.2810979 , -0.05856519,  0.45563117,  0.4641859 ,\n",
              "        0.39389154, -0.2720823 , -0.2729907 , -0.0079833 , -0.36532187,\n",
              "        0.42244607,  0.37231117, -0.0543617 , -0.4906149 ,  0.19640894,\n",
              "        0.00546399,  0.3237471 , -0.0927534 , -0.11725763, -0.53164876,\n",
              "        0.59930044,  0.26625717,  0.45939773, -1.000041  ,  0.81013393,\n",
              "       -0.12455146,  0.3017931 ,  0.39084673, -0.03154201,  0.5968854 ,\n",
              "        0.0275856 ,  0.4443788 , -0.1574114 , -0.3364467 ,  0.28318298,\n",
              "       -0.07305846,  0.02072218, -0.46089157,  0.62090397, -0.15318266,\n",
              "       -0.16643828,  0.088875  ,  0.73588586,  0.7945016 ,  0.1923595 ,\n",
              "        0.9672023 ,  0.11662459,  0.18030627, -0.03313771,  0.92643356,\n",
              "        0.6199488 ,  0.28660578, -0.28857422,  0.32117572, -0.25869605],\n",
              "      dtype=float32)"
            ]
          },
          "execution_count": 90,
          "metadata": {},
          "output_type": "execute_result"
        }
      ],
      "source": [
        "model.wv.most_similar('best')\n",
        "(model.wv['game'] + model.wv['hurt'])/2"
      ]
    },
    {
      "attachments": {},
      "cell_type": "markdown",
      "metadata": {},
      "source": [
        "Vectorize the tokenized lists"
      ]
    },
    {
      "cell_type": "code",
      "execution_count": 91,
      "metadata": {
        "colab": {
          "base_uri": "https://localhost:8080/",
          "height": 424
        },
        "id": "zkqxZZCSEv88",
        "outputId": "03645b33-11e4-457d-8efa-f78668cdf3d2"
      },
      "outputs": [],
      "source": [
        "inputs = []\n",
        "\n",
        "for token in data['tokenized']:\n",
        "    inputs.append(model.wv[token])\n",
        "\n",
        "data['Inputs'] = inputs\n"
      ]
    },
    {
      "cell_type": "code",
      "execution_count": 92,
      "metadata": {},
      "outputs": [
        {
          "name": "stdout",
          "output_type": "stream",
          "text": [
            "[[-4.74988461e-01  9.29299220e-02  3.06610942e-01  3.38018417e-01\n",
            "   4.20355767e-01 -1.16017056e+00  5.27506649e-01  1.21456981e+00\n",
            "  -1.05778849e+00 -3.33108187e-01 -6.20506287e-01 -6.54106617e-01\n",
            "  -2.28818744e-01  2.72215068e-01  7.59876594e-02 -3.71189117e-01\n",
            "  -3.48889887e-01 -5.18441081e-01 -2.30895415e-01 -1.24454010e+00\n",
            "   4.15214121e-01  1.03632830e-01  4.16955203e-01 -8.08706939e-01\n",
            "  -1.55432239e-01 -1.14694424e-01 -3.68382260e-02 -6.43112421e-01\n",
            "  -8.03711772e-01 -9.96097103e-02  6.89423978e-01  3.11697066e-01\n",
            "   4.79926884e-01 -3.05700898e-01  2.96911709e-02  1.61580789e+00\n",
            "  -3.51437062e-01 -6.29315555e-01 -4.81152773e-01 -1.26470196e+00\n",
            "   2.08524793e-01 -5.90791404e-01 -5.95241249e-01  6.38035610e-02\n",
            "   5.32642484e-01 -5.19159913e-01 -2.28586495e-01 -1.43717095e-01\n",
            "   6.23739839e-01  5.95582843e-01  6.01371348e-01 -1.64545730e-01\n",
            "  -3.20434034e-01  1.23332597e-01 -4.69849706e-01  5.15085161e-01\n",
            "   4.67009634e-01 -5.66342995e-02 -5.26452124e-01  7.13161528e-02\n",
            "  -6.22816943e-02  4.77973312e-01 -1.91192627e-01 -3.25407743e-01\n",
            "  -6.78611457e-01  5.80582738e-01  3.35380018e-01  4.31808263e-01\n",
            "  -1.27572668e+00  9.02735710e-01  2.80965306e-02  2.58646667e-01\n",
            "   2.65941709e-01  1.09712429e-01  6.84965670e-01 -1.09376617e-01\n",
            "   6.36621118e-01 -2.52838880e-01 -3.54642957e-01  4.08773512e-01\n",
            "  -5.64261060e-03  1.99150205e-01 -4.07896161e-01  7.35661268e-01\n",
            "  -1.57671556e-01 -1.49499938e-01 -2.02343818e-02  1.01545858e+00\n",
            "   9.13524508e-01  2.95523673e-01  1.16260862e+00  1.29294693e-01\n",
            "   1.86877981e-01 -1.70103565e-01  1.01763713e+00  8.07140827e-01\n",
            "   2.11859107e-01 -2.46887311e-01  4.06971842e-01 -3.51584613e-01]\n",
            " [-1.30234495e-01  4.30604726e-01  6.66898638e-02  1.73401818e-01\n",
            "   7.51672015e-02 -7.56109774e-01  1.29480302e-01  1.16105497e+00\n",
            "  -5.12247801e-01 -4.28844273e-01 -2.99014866e-01 -7.27259934e-01\n",
            "  -1.71881169e-01  2.45645463e-01  1.95360914e-01 -2.31128201e-01\n",
            "  -2.84141526e-02 -3.21839780e-01  1.45395041e-01 -9.58205640e-01\n",
            "   2.68323869e-01  2.05967605e-01  3.78739238e-01 -4.04416919e-01\n",
            "  -5.34374826e-02  5.14344834e-02 -9.12521482e-02 -4.18518513e-01\n",
            "  -4.63858902e-01  2.56209634e-02  5.32076776e-01 -2.01342702e-02\n",
            "   2.37305880e-01 -5.04565358e-01  9.61662829e-03  7.05933332e-01\n",
            "   1.16960891e-03 -4.58798587e-01 -3.71914208e-01 -8.04766953e-01\n",
            "   1.71996996e-01 -4.42734241e-01 -3.92435372e-01  6.29544863e-03\n",
            "   4.22710717e-01 -3.90527755e-01 -3.33609283e-01  2.65867095e-02\n",
            "   2.87522495e-01  3.32788944e-01  1.86411753e-01 -3.79618883e-01\n",
            "  -2.25547343e-01 -1.39299199e-01 -2.60794073e-01  3.29807013e-01\n",
            "   2.77612716e-01 -5.20891026e-02 -4.54777658e-01  3.21501732e-01\n",
            "   7.32096657e-02  1.69520885e-01  5.68583095e-03  9.08924788e-02\n",
            "  -3.84686023e-01  6.18018150e-01  1.97134301e-01  4.86987233e-01\n",
            "  -7.24355340e-01  7.17532218e-01 -2.77199447e-01  3.44939530e-01\n",
            "   5.15751719e-01 -1.72796443e-01  5.08805096e-01  1.64547816e-01\n",
            "   2.52136439e-01 -6.19839206e-02 -3.18250418e-01  1.57592431e-01\n",
            "  -1.40474305e-01 -1.57705843e-01 -5.13886988e-01  5.06146669e-01\n",
            "  -1.48693755e-01 -1.83376625e-01  1.97984368e-01  4.56313103e-01\n",
            "   6.75478697e-01  8.91953334e-02  7.71796048e-01  1.03954501e-01\n",
            "   1.73734561e-01  1.03828140e-01  8.35229993e-01  4.32756752e-01\n",
            "   3.61352444e-01 -3.30261141e-01  2.35379592e-01 -1.65807486e-01]]\n"
          ]
        }
      ],
      "source": [
        "print(data['Inputs'][0])"
      ]
    },
    {
      "attachments": {},
      "cell_type": "markdown",
      "metadata": {},
      "source": [
        "Perform **Average Word2Vec** on the input column"
      ]
    },
    {
      "cell_type": "code",
      "execution_count": 93,
      "metadata": {},
      "outputs": [],
      "source": [
        "inputs = []\n",
        "for input in data['Inputs']:\n",
        "    sum = 0\n",
        "    for i in input:\n",
        "        sum = sum + i\n",
        "    avg = sum/len(input)\n",
        "    inputs.append(avg)\n",
        "\n",
        "data['Inputs'] = inputs\n"
      ]
    },
    {
      "cell_type": "code",
      "execution_count": 94,
      "metadata": {},
      "outputs": [
        {
          "data": {
            "text/html": [
              "<div>\n",
              "<style scoped>\n",
              "    .dataframe tbody tr th:only-of-type {\n",
              "        vertical-align: middle;\n",
              "    }\n",
              "\n",
              "    .dataframe tbody tr th {\n",
              "        vertical-align: top;\n",
              "    }\n",
              "\n",
              "    .dataframe thead th {\n",
              "        text-align: right;\n",
              "    }\n",
              "</style>\n",
              "<table border=\"1\" class=\"dataframe\">\n",
              "  <thead>\n",
              "    <tr style=\"text-align: right;\">\n",
              "      <th></th>\n",
              "      <th>text</th>\n",
              "      <th>Emotions</th>\n",
              "      <th>Emotion_id</th>\n",
              "      <th>tokenized</th>\n",
              "      <th>Inputs</th>\n",
              "    </tr>\n",
              "  </thead>\n",
              "  <tbody>\n",
              "    <tr>\n",
              "      <th>0</th>\n",
              "      <td>That game hurt.</td>\n",
              "      <td>sadness</td>\n",
              "      <td>26</td>\n",
              "      <td>[game, hurt]</td>\n",
              "      <td>[-0.30261147, 0.26176733, 0.1866504, 0.2557101...</td>\n",
              "    </tr>\n",
              "    <tr>\n",
              "      <th>1</th>\n",
              "      <td>You do right, if you don't care then fuck 'em!</td>\n",
              "      <td>neutral</td>\n",
              "      <td>20</td>\n",
              "      <td>[right, dont, care, fuck, em]</td>\n",
              "      <td>[-0.004342124, 0.6495292, 0.10369728, 0.225765...</td>\n",
              "    </tr>\n",
              "    <tr>\n",
              "      <th>2</th>\n",
              "      <td>Man I love reddit.</td>\n",
              "      <td>love</td>\n",
              "      <td>18</td>\n",
              "      <td>[man, love, reddit]</td>\n",
              "      <td>[-0.22838438, 0.37147006, 0.15810378, 0.262436...</td>\n",
              "    </tr>\n",
              "    <tr>\n",
              "      <th>3</th>\n",
              "      <td>[NAME] was nowhere near them, he was by the Fa...</td>\n",
              "      <td>neutral</td>\n",
              "      <td>20</td>\n",
              "      <td>[name, nowher, near, falcon]</td>\n",
              "      <td>[-0.122107826, 0.10563669, 0.19321139, 0.15848...</td>\n",
              "    </tr>\n",
              "    <tr>\n",
              "      <th>4</th>\n",
              "      <td>Right? Considering it’s such an important docu...</td>\n",
              "      <td>gratitude</td>\n",
              "      <td>15</td>\n",
              "      <td>[right, consid, ’, import, document, know, dam...</td>\n",
              "      <td>[-0.07131839, 0.5125465, 0.015754245, 0.179584...</td>\n",
              "    </tr>\n",
              "    <tr>\n",
              "      <th>...</th>\n",
              "      <td>...</td>\n",
              "      <td>...</td>\n",
              "      <td>...</td>\n",
              "      <td>...</td>\n",
              "      <td>...</td>\n",
              "    </tr>\n",
              "    <tr>\n",
              "      <th>46637</th>\n",
              "      <td>Oh [NAME] i forgot about those. I used to love...</td>\n",
              "      <td>love</td>\n",
              "      <td>18</td>\n",
              "      <td>[oh, name, forgot, use, love]</td>\n",
              "      <td>[-0.20389645, 0.35728028, 0.2398278, 0.2687414...</td>\n",
              "    </tr>\n",
              "    <tr>\n",
              "      <th>46638</th>\n",
              "      <td>I didn’t even notice that one. I noticed the b...</td>\n",
              "      <td>neutral</td>\n",
              "      <td>20</td>\n",
              "      <td>[’, even, notic, one, notic, bottom, right, one]</td>\n",
              "      <td>[-0.10808791, 0.5555765, 0.09670617, 0.2207206...</td>\n",
              "    </tr>\n",
              "    <tr>\n",
              "      <th>46639</th>\n",
              "      <td>Thanks, [NAME]</td>\n",
              "      <td>gratitude</td>\n",
              "      <td>15</td>\n",
              "      <td>[thank, name]</td>\n",
              "      <td>[-0.25972205, 0.2130062, 0.23486057, 0.3517770...</td>\n",
              "    </tr>\n",
              "    <tr>\n",
              "      <th>46640</th>\n",
              "      <td>Everyone likes [NAME].</td>\n",
              "      <td>love</td>\n",
              "      <td>18</td>\n",
              "      <td>[everyon, like, name]</td>\n",
              "      <td>[-0.096411705, 0.4445345, 0.25959486, 0.462432...</td>\n",
              "    </tr>\n",
              "    <tr>\n",
              "      <th>46641</th>\n",
              "      <td>I just called the Capitol Police. They are not...</td>\n",
              "      <td>relief</td>\n",
              "      <td>24</td>\n",
              "      <td>[call, capitol, polic, affect, shutdown, name,...</td>\n",
              "      <td>[-0.1512463, 0.319934, 0.17120215, 0.17913133,...</td>\n",
              "    </tr>\n",
              "  </tbody>\n",
              "</table>\n",
              "<p>46642 rows × 5 columns</p>\n",
              "</div>"
            ],
            "text/plain": [
              "                                                    text   Emotions  \\\n",
              "0                                        That game hurt.    sadness   \n",
              "1         You do right, if you don't care then fuck 'em!    neutral   \n",
              "2                                     Man I love reddit.       love   \n",
              "3      [NAME] was nowhere near them, he was by the Fa...    neutral   \n",
              "4      Right? Considering it’s such an important docu...  gratitude   \n",
              "...                                                  ...        ...   \n",
              "46637  Oh [NAME] i forgot about those. I used to love...       love   \n",
              "46638  I didn’t even notice that one. I noticed the b...    neutral   \n",
              "46639                                     Thanks, [NAME]  gratitude   \n",
              "46640                             Everyone likes [NAME].       love   \n",
              "46641  I just called the Capitol Police. They are not...     relief   \n",
              "\n",
              "       Emotion_id                                          tokenized  \\\n",
              "0              26                                       [game, hurt]   \n",
              "1              20                      [right, dont, care, fuck, em]   \n",
              "2              18                                [man, love, reddit]   \n",
              "3              20                       [name, nowher, near, falcon]   \n",
              "4              15  [right, consid, ’, import, document, know, dam...   \n",
              "...           ...                                                ...   \n",
              "46637          18                      [oh, name, forgot, use, love]   \n",
              "46638          20   [’, even, notic, one, notic, bottom, right, one]   \n",
              "46639          15                                      [thank, name]   \n",
              "46640          18                              [everyon, like, name]   \n",
              "46641          24  [call, capitol, polic, affect, shutdown, name,...   \n",
              "\n",
              "                                                  Inputs  \n",
              "0      [-0.30261147, 0.26176733, 0.1866504, 0.2557101...  \n",
              "1      [-0.004342124, 0.6495292, 0.10369728, 0.225765...  \n",
              "2      [-0.22838438, 0.37147006, 0.15810378, 0.262436...  \n",
              "3      [-0.122107826, 0.10563669, 0.19321139, 0.15848...  \n",
              "4      [-0.07131839, 0.5125465, 0.015754245, 0.179584...  \n",
              "...                                                  ...  \n",
              "46637  [-0.20389645, 0.35728028, 0.2398278, 0.2687414...  \n",
              "46638  [-0.10808791, 0.5555765, 0.09670617, 0.2207206...  \n",
              "46639  [-0.25972205, 0.2130062, 0.23486057, 0.3517770...  \n",
              "46640  [-0.096411705, 0.4445345, 0.25959486, 0.462432...  \n",
              "46641  [-0.1512463, 0.319934, 0.17120215, 0.17913133,...  \n",
              "\n",
              "[46642 rows x 5 columns]"
            ]
          },
          "execution_count": 94,
          "metadata": {},
          "output_type": "execute_result"
        }
      ],
      "source": [
        "data"
      ]
    },
    {
      "cell_type": "code",
      "execution_count": 95,
      "metadata": {
        "id": "dcV_ULNgITDA"
      },
      "outputs": [],
      "source": [
        "data.to_csv('main/saved data/tokenized_inputs.csv')"
      ]
    },
    {
      "attachments": {},
      "cell_type": "markdown",
      "metadata": {},
      "source": [
        "Since the emotions classes are imbalanced we apply **SMOTE algorithm** to generate synthetic data"
      ]
    },
    {
      "cell_type": "code",
      "execution_count": 96,
      "metadata": {},
      "outputs": [],
      "source": [
        "X = [input for input in data['Inputs']]\n",
        "y = np.array(data['Emotion_id'])"
      ]
    },
    {
      "cell_type": "code",
      "execution_count": 97,
      "metadata": {},
      "outputs": [],
      "source": [
        "smt = SMOTE(random_state=42)\n",
        "X, y = smt.fit_resample(X, y)"
      ]
    },
    {
      "cell_type": "code",
      "execution_count": 98,
      "metadata": {},
      "outputs": [
        {
          "name": "stderr",
          "output_type": "stream",
          "text": [
            "c:\\Users\\mayur\\anaconda3\\lib\\site-packages\\seaborn\\distributions.py:2619: FutureWarning: `distplot` is a deprecated function and will be removed in a future version. Please adapt your code to use either `displot` (a figure-level function with similar flexibility) or `histplot` (an axes-level function for histograms).\n",
            "  warnings.warn(msg, FutureWarning)\n"
          ]
        },
        {
          "data": {
            "text/plain": [
              "<AxesSubplot:>"
            ]
          },
          "execution_count": 98,
          "metadata": {},
          "output_type": "execute_result"
        },
        {
          "data": {
            "image/png": "[encoded data removed]",
            "text/plain": [
              "<Figure size 640x480 with 1 Axes>"
            ]
          },
          "metadata": {},
          "output_type": "display_data"
        }
      ],
      "source": [
        "distplot(y, kde=False, color='red', bins=100)"
      ]
    },
    {
      "cell_type": "code",
      "execution_count": 99,
      "metadata": {},
      "outputs": [
        {
          "data": {
            "text/html": [
              "<div>\n",
              "<style scoped>\n",
              "    .dataframe tbody tr th:only-of-type {\n",
              "        vertical-align: middle;\n",
              "    }\n",
              "\n",
              "    .dataframe tbody tr th {\n",
              "        vertical-align: top;\n",
              "    }\n",
              "\n",
              "    .dataframe thead th {\n",
              "        text-align: right;\n",
              "    }\n",
              "</style>\n",
              "<table border=\"1\" class=\"dataframe\">\n",
              "  <thead>\n",
              "    <tr style=\"text-align: right;\">\n",
              "      <th></th>\n",
              "      <th>Input</th>\n",
              "      <th>Output</th>\n",
              "      <th>Emotions</th>\n",
              "    </tr>\n",
              "  </thead>\n",
              "  <tbody>\n",
              "    <tr>\n",
              "      <th>0</th>\n",
              "      <td>[-0.30261147022247314, 0.26176732778549194, 0....</td>\n",
              "      <td>26</td>\n",
              "      <td>sadness</td>\n",
              "    </tr>\n",
              "    <tr>\n",
              "      <th>1</th>\n",
              "      <td>[-0.004342123866081238, 0.649529218673706, 0.1...</td>\n",
              "      <td>20</td>\n",
              "      <td>neutral</td>\n",
              "    </tr>\n",
              "    <tr>\n",
              "      <th>2</th>\n",
              "      <td>[-0.2283843755722046, 0.37147006392478943, 0.1...</td>\n",
              "      <td>18</td>\n",
              "      <td>love</td>\n",
              "    </tr>\n",
              "    <tr>\n",
              "      <th>3</th>\n",
              "      <td>[-0.12210782617330551, 0.10563669353723526, 0....</td>\n",
              "      <td>20</td>\n",
              "      <td>neutral</td>\n",
              "    </tr>\n",
              "    <tr>\n",
              "      <th>4</th>\n",
              "      <td>[-0.07131838798522949, 0.5125464797019958, 0.0...</td>\n",
              "      <td>15</td>\n",
              "      <td>gratitude</td>\n",
              "    </tr>\n",
              "    <tr>\n",
              "      <th>...</th>\n",
              "      <td>...</td>\n",
              "      <td>...</td>\n",
              "      <td>...</td>\n",
              "    </tr>\n",
              "    <tr>\n",
              "      <th>431559</th>\n",
              "      <td>[-0.07701147347688675, 0.19827160239219666, 0....</td>\n",
              "      <td>27</td>\n",
              "      <td>surprise</td>\n",
              "    </tr>\n",
              "    <tr>\n",
              "      <th>431560</th>\n",
              "      <td>[-0.13109228014945984, 0.2900468707084656, 0.0...</td>\n",
              "      <td>27</td>\n",
              "      <td>surprise</td>\n",
              "    </tr>\n",
              "    <tr>\n",
              "      <th>431561</th>\n",
              "      <td>[-0.1740868240594864, 0.31000813841819763, 0.1...</td>\n",
              "      <td>27</td>\n",
              "      <td>surprise</td>\n",
              "    </tr>\n",
              "    <tr>\n",
              "      <th>431562</th>\n",
              "      <td>[-0.20114217698574066, 0.5391176342964172, 0.0...</td>\n",
              "      <td>27</td>\n",
              "      <td>surprise</td>\n",
              "    </tr>\n",
              "    <tr>\n",
              "      <th>431563</th>\n",
              "      <td>[-0.1193828359246254, 0.35820066928863525, 0.0...</td>\n",
              "      <td>27</td>\n",
              "      <td>surprise</td>\n",
              "    </tr>\n",
              "  </tbody>\n",
              "</table>\n",
              "<p>431564 rows × 3 columns</p>\n",
              "</div>"
            ],
            "text/plain": [
              "                                                    Input  Output   Emotions\n",
              "0       [-0.30261147022247314, 0.26176732778549194, 0....      26    sadness\n",
              "1       [-0.004342123866081238, 0.649529218673706, 0.1...      20    neutral\n",
              "2       [-0.2283843755722046, 0.37147006392478943, 0.1...      18       love\n",
              "3       [-0.12210782617330551, 0.10563669353723526, 0....      20    neutral\n",
              "4       [-0.07131838798522949, 0.5125464797019958, 0.0...      15  gratitude\n",
              "...                                                   ...     ...        ...\n",
              "431559  [-0.07701147347688675, 0.19827160239219666, 0....      27   surprise\n",
              "431560  [-0.13109228014945984, 0.2900468707084656, 0.0...      27   surprise\n",
              "431561  [-0.1740868240594864, 0.31000813841819763, 0.1...      27   surprise\n",
              "431562  [-0.20114217698574066, 0.5391176342964172, 0.0...      27   surprise\n",
              "431563  [-0.1193828359246254, 0.35820066928863525, 0.0...      27   surprise\n",
              "\n",
              "[431564 rows x 3 columns]"
            ]
          },
          "execution_count": 99,
          "metadata": {},
          "output_type": "execute_result"
        }
      ],
      "source": [
        "df = {'Input':X, 'Output':y, 'Emotions':le.inverse_transform(y)}\n",
        "df_io = pd.DataFrame(df)\n",
        "df_io.to_csv('main/saved data/balanced_io.csv')\n",
        "df_io"
      ]
    }
  ],
  "metadata": {
    "accelerator": "GPU",
    "colab": {
      "include_colab_link": true,
      "provenance": []
    },
    "gpuClass": "standard",
    "kernelspec": {
      "display_name": "Python 3",
      "name": "python3"
    },
    "language_info": {
      "codemirror_mode": {
        "name": "ipython",
        "version": 3
      },
      "file_extension": ".py",
      "mimetype": "text/x-python",
      "name": "python",
      "nbconvert_exporter": "python",
      "pygments_lexer": "ipython3",
      "version": "3.9.13"
    }
  },
  "nbformat": 4,
  "nbformat_minor": 0
}
