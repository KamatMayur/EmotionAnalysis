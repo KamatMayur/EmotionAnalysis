{
  "cells": [
    {
      "cell_type": "markdown",
      "metadata": {
        "colab_type": "text",
        "id": "view-in-github"
      },
      "source": [
        "<a href=\"https://colab.research.google.com/github/coder-rakeshpaul/EmotionAnalysis/blob/main/Emotion.ipynb\" target=\"_parent\"><img src=\"https://colab.research.google.com/assets/colab-badge.svg\" alt=\"Open In Colab\"/></a>"
      ]
    },
    {
      "cell_type": "code",
      "execution_count": 1,
      "metadata": {
        "colab": {
          "base_uri": "https://localhost:8080/"
        },
        "id": "LMGHMTMxT5W2",
        "outputId": "fdaf6311-7b94-465f-b9ca-e337c39624a4"
      },
      "outputs": [
        {
          "name": "stderr",
          "output_type": "stream",
          "text": [
            "[nltk_data] Downloading package stopwords to\n",
            "[nltk_data]     C:\\Users\\mayur\\AppData\\Roaming\\nltk_data...\n",
            "[nltk_data]   Package stopwords is already up-to-date!\n",
            "[nltk_data] Downloading package punkt to\n",
            "[nltk_data]     C:\\Users\\mayur\\AppData\\Roaming\\nltk_data...\n",
            "[nltk_data]   Package punkt is already up-to-date!\n"
          ]
        },
        {
          "data": {
            "text/plain": [
              "True"
            ]
          },
          "execution_count": 1,
          "metadata": {},
          "output_type": "execute_result"
        }
      ],
      "source": [
        "import pandas as pd\n",
        "import numpy as np\n",
        "import matplotlib.pyplot as plt\n",
        "from imblearn.over_sampling import SMOTE\n",
        "import seaborn as sns\n",
        "import nltk\n",
        "import string\n",
        "import re\n",
        "import inflect\n",
        "\n",
        "nltk.download('stopwords')\n",
        "nltk.download('punkt')"
      ]
    },
    {
      "cell_type": "markdown",
      "metadata": {
        "id": "FL0duwMh0-PO"
      },
      "source": [
        "Reading the data amd converting it into a dataframe"
      ]
    },
    {
      "cell_type": "code",
      "execution_count": 2,
      "metadata": {
        "id": "YVOttT7rUBqq"
      },
      "outputs": [],
      "source": [
        "df1 = pd.read_csv('https://storage.googleapis.com/gresearch/goemotions/data/full_dataset/goemotions_1.csv')\n",
        "df2 = pd.read_csv('https://storage.googleapis.com/gresearch/goemotions/data/full_dataset/goemotions_2.csv')\n",
        "df3 = pd.read_csv('https://storage.googleapis.com/gresearch/goemotions/data/full_dataset/goemotions_3.csv')\n",
        "frames = [df1, df2, df3]\n",
        "data = pd.concat(frames)"
      ]
    },
    {
      "cell_type": "markdown",
      "metadata": {
        "id": "hqJYJd1G1JxN"
      },
      "source": [
        "Droping unnecessary columns"
      ]
    },
    {
      "cell_type": "code",
      "execution_count": 3,
      "metadata": {
        "colab": {
          "base_uri": "https://localhost:8080/"
        },
        "id": "0Wxha2UdUIRZ",
        "outputId": "ed24f8a8-b0ea-4798-9e3c-b1e710a1d18e"
      },
      "outputs": [
        {
          "data": {
            "text/plain": [
              "(211225, 29)"
            ]
          },
          "execution_count": 3,
          "metadata": {},
          "output_type": "execute_result"
        }
      ],
      "source": [
        "data=data.drop(['id','author','subreddit','link_id','parent_id','created_utc','rater_id','example_very_unclear'], axis=1)\n",
        "data.shape"
      ]
    },
    {
      "cell_type": "markdown",
      "metadata": {
        "id": "TVKS4nCz1an2"
      },
      "source": [
        "Droping the duplicates"
      ]
    },
    {
      "cell_type": "code",
      "execution_count": 4,
      "metadata": {
        "colab": {
          "base_uri": "https://localhost:8080/"
        },
        "id": "4opruBEBUl1k",
        "outputId": "77cc1c50-4214-433d-a837-d216d9f92f97"
      },
      "outputs": [
        {
          "data": {
            "text/plain": [
              "(57732, 29)"
            ]
          },
          "execution_count": 4,
          "metadata": {},
          "output_type": "execute_result"
        }
      ],
      "source": [
        "data.drop_duplicates(subset='text', inplace=True)\n",
        "data.reset_index(drop=True, inplace=True)\n",
        "data.shape"
      ]
    },
    {
      "cell_type": "markdown",
      "metadata": {
        "id": "vk19WqhS1sdT"
      },
      "source": [
        "Droping data with mixed emotions"
      ]
    },
    {
      "cell_type": "code",
      "execution_count": 5,
      "metadata": {
        "colab": {
          "base_uri": "https://localhost:8080/"
        },
        "id": "DXF-vlhFUtWJ",
        "outputId": "6dd7f263-ba5a-4a0b-8350-f4dde14d5640"
      },
      "outputs": [
        {
          "name": "stderr",
          "output_type": "stream",
          "text": [
            "C:\\Users\\mayur\\AppData\\Local\\Temp\\ipykernel_4132\\1218242578.py:1: FutureWarning: Dropping of nuisance columns in DataFrame reductions (with 'numeric_only=None') is deprecated; in a future version this will raise TypeError.  Select only valid columns before calling the reduction.\n",
            "  sum = np.array(data.sum(axis=1))\n"
          ]
        },
        {
          "data": {
            "text/plain": [
              "(46741, 29)"
            ]
          },
          "execution_count": 5,
          "metadata": {},
          "output_type": "execute_result"
        }
      ],
      "source": [
        "sum = np.array(data.sum(axis=1))\n",
        "ind = np.where(np.logical_or(sum>1, sum==0))[0].tolist()\n",
        "data.drop(ind, inplace = True)\n",
        "data.reset_index(drop=True, inplace=True)\n",
        "data.shape"
      ]
    },
    {
      "cell_type": "markdown",
      "metadata": {
        "id": "ULgeed2N118-"
      },
      "source": [
        "Creating a list of emotions"
      ]
    },
    {
      "cell_type": "code",
      "execution_count": 6,
      "metadata": {
        "id": "rWpayA_mTmfB"
      },
      "outputs": [],
      "source": [
        "emotions = list(data.columns)[1:]"
      ]
    },
    {
      "cell_type": "code",
      "execution_count": 7,
      "metadata": {
        "id": "w3zLcXwIWasU"
      },
      "outputs": [],
      "source": [
        "emo = []\n",
        "for text in range(0, data.shape[0]):\n",
        "  for emotion in emotions:\n",
        "    if data.loc[text][emotion] == 1:\n",
        "      emo.append(emotion)\n"
      ]
    },
    {
      "cell_type": "code",
      "execution_count": 8,
      "metadata": {
        "id": "F8ldYHy-brpF"
      },
      "outputs": [],
      "source": [
        "data.drop(data.iloc[:, 1:29], inplace=True, axis=1)"
      ]
    },
    {
      "cell_type": "code",
      "execution_count": 9,
      "metadata": {
        "colab": {
          "base_uri": "https://localhost:8080/",
          "height": 424
        },
        "id": "LhixacjwG-OC",
        "outputId": "06600a89-e02b-40f0-9c60-a1b29bba3d3d"
      },
      "outputs": [
        {
          "data": {
            "text/html": [
              "<div>\n",
              "<style scoped>\n",
              "    .dataframe tbody tr th:only-of-type {\n",
              "        vertical-align: middle;\n",
              "    }\n",
              "\n",
              "    .dataframe tbody tr th {\n",
              "        vertical-align: top;\n",
              "    }\n",
              "\n",
              "    .dataframe thead th {\n",
              "        text-align: right;\n",
              "    }\n",
              "</style>\n",
              "<table border=\"1\" class=\"dataframe\">\n",
              "  <thead>\n",
              "    <tr style=\"text-align: right;\">\n",
              "      <th></th>\n",
              "      <th>text</th>\n",
              "    </tr>\n",
              "  </thead>\n",
              "  <tbody>\n",
              "    <tr>\n",
              "      <th>0</th>\n",
              "      <td>That game hurt.</td>\n",
              "    </tr>\n",
              "    <tr>\n",
              "      <th>1</th>\n",
              "      <td>You do right, if you don't care then fuck 'em!</td>\n",
              "    </tr>\n",
              "    <tr>\n",
              "      <th>2</th>\n",
              "      <td>Man I love reddit.</td>\n",
              "    </tr>\n",
              "    <tr>\n",
              "      <th>3</th>\n",
              "      <td>[NAME] was nowhere near them, he was by the Fa...</td>\n",
              "    </tr>\n",
              "    <tr>\n",
              "      <th>4</th>\n",
              "      <td>Right? Considering it’s such an important docu...</td>\n",
              "    </tr>\n",
              "    <tr>\n",
              "      <th>...</th>\n",
              "      <td>...</td>\n",
              "    </tr>\n",
              "    <tr>\n",
              "      <th>46736</th>\n",
              "      <td>Oh [NAME] i forgot about those. I used to love...</td>\n",
              "    </tr>\n",
              "    <tr>\n",
              "      <th>46737</th>\n",
              "      <td>I didn’t even notice that one. I noticed the b...</td>\n",
              "    </tr>\n",
              "    <tr>\n",
              "      <th>46738</th>\n",
              "      <td>Thanks, [NAME]</td>\n",
              "    </tr>\n",
              "    <tr>\n",
              "      <th>46739</th>\n",
              "      <td>Everyone likes [NAME].</td>\n",
              "    </tr>\n",
              "    <tr>\n",
              "      <th>46740</th>\n",
              "      <td>I just called the Capitol Police. They are not...</td>\n",
              "    </tr>\n",
              "  </tbody>\n",
              "</table>\n",
              "<p>46741 rows × 1 columns</p>\n",
              "</div>"
            ],
            "text/plain": [
              "                                                    text\n",
              "0                                        That game hurt.\n",
              "1         You do right, if you don't care then fuck 'em!\n",
              "2                                     Man I love reddit.\n",
              "3      [NAME] was nowhere near them, he was by the Fa...\n",
              "4      Right? Considering it’s such an important docu...\n",
              "...                                                  ...\n",
              "46736  Oh [NAME] i forgot about those. I used to love...\n",
              "46737  I didn’t even notice that one. I noticed the b...\n",
              "46738                                     Thanks, [NAME]\n",
              "46739                             Everyone likes [NAME].\n",
              "46740  I just called the Capitol Police. They are not...\n",
              "\n",
              "[46741 rows x 1 columns]"
            ]
          },
          "execution_count": 9,
          "metadata": {},
          "output_type": "execute_result"
        }
      ],
      "source": [
        "data"
      ]
    },
    {
      "cell_type": "code",
      "execution_count": 10,
      "metadata": {
        "colab": {
          "base_uri": "https://localhost:8080/",
          "height": 424
        },
        "id": "n5WKCi8FX7Aj",
        "outputId": "6bb003cd-c4c5-4768-8c7e-73dc970c3fdb"
      },
      "outputs": [
        {
          "data": {
            "text/html": [
              "<div>\n",
              "<style scoped>\n",
              "    .dataframe tbody tr th:only-of-type {\n",
              "        vertical-align: middle;\n",
              "    }\n",
              "\n",
              "    .dataframe tbody tr th {\n",
              "        vertical-align: top;\n",
              "    }\n",
              "\n",
              "    .dataframe thead th {\n",
              "        text-align: right;\n",
              "    }\n",
              "</style>\n",
              "<table border=\"1\" class=\"dataframe\">\n",
              "  <thead>\n",
              "    <tr style=\"text-align: right;\">\n",
              "      <th></th>\n",
              "      <th>text</th>\n",
              "      <th>Emotions</th>\n",
              "      <th>Emotion_id</th>\n",
              "    </tr>\n",
              "  </thead>\n",
              "  <tbody>\n",
              "    <tr>\n",
              "      <th>0</th>\n",
              "      <td>That game hurt.</td>\n",
              "      <td>sadness</td>\n",
              "      <td>26</td>\n",
              "    </tr>\n",
              "    <tr>\n",
              "      <th>1</th>\n",
              "      <td>You do right, if you don't care then fuck 'em!</td>\n",
              "      <td>neutral</td>\n",
              "      <td>20</td>\n",
              "    </tr>\n",
              "    <tr>\n",
              "      <th>2</th>\n",
              "      <td>Man I love reddit.</td>\n",
              "      <td>love</td>\n",
              "      <td>18</td>\n",
              "    </tr>\n",
              "    <tr>\n",
              "      <th>3</th>\n",
              "      <td>[NAME] was nowhere near them, he was by the Fa...</td>\n",
              "      <td>neutral</td>\n",
              "      <td>20</td>\n",
              "    </tr>\n",
              "    <tr>\n",
              "      <th>4</th>\n",
              "      <td>Right? Considering it’s such an important docu...</td>\n",
              "      <td>gratitude</td>\n",
              "      <td>15</td>\n",
              "    </tr>\n",
              "    <tr>\n",
              "      <th>...</th>\n",
              "      <td>...</td>\n",
              "      <td>...</td>\n",
              "      <td>...</td>\n",
              "    </tr>\n",
              "    <tr>\n",
              "      <th>46736</th>\n",
              "      <td>Oh [NAME] i forgot about those. I used to love...</td>\n",
              "      <td>love</td>\n",
              "      <td>18</td>\n",
              "    </tr>\n",
              "    <tr>\n",
              "      <th>46737</th>\n",
              "      <td>I didn’t even notice that one. I noticed the b...</td>\n",
              "      <td>neutral</td>\n",
              "      <td>20</td>\n",
              "    </tr>\n",
              "    <tr>\n",
              "      <th>46738</th>\n",
              "      <td>Thanks, [NAME]</td>\n",
              "      <td>gratitude</td>\n",
              "      <td>15</td>\n",
              "    </tr>\n",
              "    <tr>\n",
              "      <th>46739</th>\n",
              "      <td>Everyone likes [NAME].</td>\n",
              "      <td>love</td>\n",
              "      <td>18</td>\n",
              "    </tr>\n",
              "    <tr>\n",
              "      <th>46740</th>\n",
              "      <td>I just called the Capitol Police. They are not...</td>\n",
              "      <td>relief</td>\n",
              "      <td>24</td>\n",
              "    </tr>\n",
              "  </tbody>\n",
              "</table>\n",
              "<p>46741 rows × 3 columns</p>\n",
              "</div>"
            ],
            "text/plain": [
              "                                                    text   Emotions  \\\n",
              "0                                        That game hurt.    sadness   \n",
              "1         You do right, if you don't care then fuck 'em!    neutral   \n",
              "2                                     Man I love reddit.       love   \n",
              "3      [NAME] was nowhere near them, he was by the Fa...    neutral   \n",
              "4      Right? Considering it’s such an important docu...  gratitude   \n",
              "...                                                  ...        ...   \n",
              "46736  Oh [NAME] i forgot about those. I used to love...       love   \n",
              "46737  I didn’t even notice that one. I noticed the b...    neutral   \n",
              "46738                                     Thanks, [NAME]  gratitude   \n",
              "46739                             Everyone likes [NAME].       love   \n",
              "46740  I just called the Capitol Police. They are not...     relief   \n",
              "\n",
              "       Emotion_id  \n",
              "0              26  \n",
              "1              20  \n",
              "2              18  \n",
              "3              20  \n",
              "4              15  \n",
              "...           ...  \n",
              "46736          18  \n",
              "46737          20  \n",
              "46738          15  \n",
              "46739          18  \n",
              "46740          24  \n",
              "\n",
              "[46741 rows x 3 columns]"
            ]
          },
          "execution_count": 10,
          "metadata": {},
          "output_type": "execute_result"
        }
      ],
      "source": [
        "data['Emotions']= emo\n",
        "\n",
        "from sklearn.preprocessing import LabelEncoder\n",
        "le = LabelEncoder()\n",
        "data['Emotion_id'] = le.fit_transform(data['Emotions'])\n",
        "\n",
        "data"
      ]
    },
    {
      "cell_type": "code",
      "execution_count": 11,
      "metadata": {
        "colab": {
          "base_uri": "https://localhost:8080/",
          "height": 358
        },
        "id": "SfDO8JNRYWOC",
        "outputId": "46f45530-0cf6-4b89-d85c-6cfa251a302a"
      },
      "outputs": [
        {
          "name": "stderr",
          "output_type": "stream",
          "text": [
            "c:\\Users\\mayur\\anaconda3\\lib\\site-packages\\seaborn\\distributions.py:2619: FutureWarning: `distplot` is a deprecated function and will be removed in a future version. Please adapt your code to use either `displot` (a figure-level function with similar flexibility) or `histplot` (an axes-level function for histograms).\n",
            "  warnings.warn(msg, FutureWarning)\n"
          ]
        },
        {
          "data": {
            "text/plain": [
              "<AxesSubplot:xlabel='Emotion_id'>"
            ]
          },
          "execution_count": 11,
          "metadata": {},
          "output_type": "execute_result"
        },
        {
          "data": {
            "image/png": "[encoded data removed]",
            "text/plain": [
              "<Figure size 640x480 with 1 Axes>"
            ]
          },
          "metadata": {},
          "output_type": "display_data"
        }
      ],
      "source": [
        "from seaborn import distplot\n",
        "\n",
        "distplot(data['Emotion_id'], kde=False, color='red', bins=100)"
      ]
    },
    {
      "cell_type": "markdown",
      "metadata": {
        "id": "0urO_Hbs2yxu"
      },
      "source": [
        "Preprocessing the data"
      ]
    },
    {
      "cell_type": "code",
      "execution_count": 12,
      "metadata": {
        "id": "cyd9zK7t0NB7"
      },
      "outputs": [],
      "source": [
        "def text_lowercase(text):\n",
        "\treturn text.lower()\n",
        " \n",
        "import string\n",
        "# remove punctuation\n",
        "def remove_punctuation(text):\n",
        "\treturn text.translate(str.maketrans('', '', string.punctuation))"
      ]
    },
    {
      "cell_type": "markdown",
      "metadata": {
        "id": "Z_XlZLz23jrL"
      },
      "source": [
        "Removing stop words"
      ]
    },
    {
      "cell_type": "code",
      "execution_count": 13,
      "metadata": {
        "id": "jZsrNIiM3WLh"
      },
      "outputs": [],
      "source": [
        "from nltk.corpus import stopwords\n",
        "from nltk.tokenize import word_tokenize\n",
        "from nltk.stem.porter import PorterStemmer\n",
        "\n",
        "stemmer = PorterStemmer()\n",
        "# remove stopwords function\n",
        "def remove_stopwords_tokenize_and_stem(text):\n",
        "\tstop_words = set(stopwords.words(\"english\"))\n",
        "\tword_tokens = word_tokenize(text)\n",
        "\tfiltered_text = [word for word in word_tokens if word not in stop_words]\n",
        "\tstems = [stemmer.stem(word) for word in filtered_text]\n",
        "\treturn stems"
      ]
    },
    {
      "cell_type": "markdown",
      "metadata": {
        "id": "j6xVzmzq3fnh"
      },
      "source": [
        "Stemming the data"
      ]
    },
    {
      "cell_type": "code",
      "execution_count": 14,
      "metadata": {
        "id": "tSZINYhw03fV"
      },
      "outputs": [],
      "source": [
        "from nltk.stem.porter import PorterStemmer\n",
        "from nltk.tokenize import word_tokenize\n",
        "stemmer = PorterStemmer()\n",
        "\n",
        "# stem words in the list of tokenized words\n",
        "def stem_words(text):\n",
        "\tword_tokens = word_tokenize(text)\n",
        "\tstems = [stemmer.stem(word) for word in word_tokens]\n",
        "\treturn stems"
      ]
    },
    {
      "cell_type": "code",
      "execution_count": 15,
      "metadata": {
        "id": "MO_eb7Dg-yyn"
      },
      "outputs": [],
      "source": [
        "def text_preprocess(text):\n",
        "  t = remove_punctuation(text)\n",
        "  t = text_lowercase(t)\n",
        "  t = remove_stopwords_tokenize_and_stem(t)\n",
        "  return t"
      ]
    },
    {
      "cell_type": "code",
      "execution_count": 16,
      "metadata": {
        "colab": {
          "base_uri": "https://localhost:8080/",
          "height": 424
        },
        "id": "q5wgW7AWFgUK",
        "outputId": "644f855e-f9d6-417c-c9f7-96b765ccbf32"
      },
      "outputs": [
        {
          "data": {
            "text/html": [
              "<div>\n",
              "<style scoped>\n",
              "    .dataframe tbody tr th:only-of-type {\n",
              "        vertical-align: middle;\n",
              "    }\n",
              "\n",
              "    .dataframe tbody tr th {\n",
              "        vertical-align: top;\n",
              "    }\n",
              "\n",
              "    .dataframe thead th {\n",
              "        text-align: right;\n",
              "    }\n",
              "</style>\n",
              "<table border=\"1\" class=\"dataframe\">\n",
              "  <thead>\n",
              "    <tr style=\"text-align: right;\">\n",
              "      <th></th>\n",
              "      <th>text</th>\n",
              "      <th>Emotions</th>\n",
              "      <th>Emotion_id</th>\n",
              "    </tr>\n",
              "  </thead>\n",
              "  <tbody>\n",
              "    <tr>\n",
              "      <th>0</th>\n",
              "      <td>That game hurt.</td>\n",
              "      <td>sadness</td>\n",
              "      <td>26</td>\n",
              "    </tr>\n",
              "    <tr>\n",
              "      <th>1</th>\n",
              "      <td>You do right, if you don't care then fuck 'em!</td>\n",
              "      <td>neutral</td>\n",
              "      <td>20</td>\n",
              "    </tr>\n",
              "    <tr>\n",
              "      <th>2</th>\n",
              "      <td>Man I love reddit.</td>\n",
              "      <td>love</td>\n",
              "      <td>18</td>\n",
              "    </tr>\n",
              "    <tr>\n",
              "      <th>3</th>\n",
              "      <td>[NAME] was nowhere near them, he was by the Fa...</td>\n",
              "      <td>neutral</td>\n",
              "      <td>20</td>\n",
              "    </tr>\n",
              "    <tr>\n",
              "      <th>4</th>\n",
              "      <td>Right? Considering it’s such an important docu...</td>\n",
              "      <td>gratitude</td>\n",
              "      <td>15</td>\n",
              "    </tr>\n",
              "    <tr>\n",
              "      <th>...</th>\n",
              "      <td>...</td>\n",
              "      <td>...</td>\n",
              "      <td>...</td>\n",
              "    </tr>\n",
              "    <tr>\n",
              "      <th>46736</th>\n",
              "      <td>Oh [NAME] i forgot about those. I used to love...</td>\n",
              "      <td>love</td>\n",
              "      <td>18</td>\n",
              "    </tr>\n",
              "    <tr>\n",
              "      <th>46737</th>\n",
              "      <td>I didn’t even notice that one. I noticed the b...</td>\n",
              "      <td>neutral</td>\n",
              "      <td>20</td>\n",
              "    </tr>\n",
              "    <tr>\n",
              "      <th>46738</th>\n",
              "      <td>Thanks, [NAME]</td>\n",
              "      <td>gratitude</td>\n",
              "      <td>15</td>\n",
              "    </tr>\n",
              "    <tr>\n",
              "      <th>46739</th>\n",
              "      <td>Everyone likes [NAME].</td>\n",
              "      <td>love</td>\n",
              "      <td>18</td>\n",
              "    </tr>\n",
              "    <tr>\n",
              "      <th>46740</th>\n",
              "      <td>I just called the Capitol Police. They are not...</td>\n",
              "      <td>relief</td>\n",
              "      <td>24</td>\n",
              "    </tr>\n",
              "  </tbody>\n",
              "</table>\n",
              "<p>46741 rows × 3 columns</p>\n",
              "</div>"
            ],
            "text/plain": [
              "                                                    text   Emotions  \\\n",
              "0                                        That game hurt.    sadness   \n",
              "1         You do right, if you don't care then fuck 'em!    neutral   \n",
              "2                                     Man I love reddit.       love   \n",
              "3      [NAME] was nowhere near them, he was by the Fa...    neutral   \n",
              "4      Right? Considering it’s such an important docu...  gratitude   \n",
              "...                                                  ...        ...   \n",
              "46736  Oh [NAME] i forgot about those. I used to love...       love   \n",
              "46737  I didn’t even notice that one. I noticed the b...    neutral   \n",
              "46738                                     Thanks, [NAME]  gratitude   \n",
              "46739                             Everyone likes [NAME].       love   \n",
              "46740  I just called the Capitol Police. They are not...     relief   \n",
              "\n",
              "       Emotion_id  \n",
              "0              26  \n",
              "1              20  \n",
              "2              18  \n",
              "3              20  \n",
              "4              15  \n",
              "...           ...  \n",
              "46736          18  \n",
              "46737          20  \n",
              "46738          15  \n",
              "46739          18  \n",
              "46740          24  \n",
              "\n",
              "[46741 rows x 3 columns]"
            ]
          },
          "execution_count": 16,
          "metadata": {},
          "output_type": "execute_result"
        }
      ],
      "source": [
        "data"
      ]
    },
    {
      "cell_type": "code",
      "execution_count": 17,
      "metadata": {
        "id": "hHGpycsfAMeb"
      },
      "outputs": [],
      "source": [
        "data['tokenized'] = data.apply(lambda x: text_preprocess(x['text']), axis=1)"
      ]
    },
    {
      "cell_type": "code",
      "execution_count": 18,
      "metadata": {},
      "outputs": [
        {
          "data": {
            "text/html": [
              "<div>\n",
              "<style scoped>\n",
              "    .dataframe tbody tr th:only-of-type {\n",
              "        vertical-align: middle;\n",
              "    }\n",
              "\n",
              "    .dataframe tbody tr th {\n",
              "        vertical-align: top;\n",
              "    }\n",
              "\n",
              "    .dataframe thead th {\n",
              "        text-align: right;\n",
              "    }\n",
              "</style>\n",
              "<table border=\"1\" class=\"dataframe\">\n",
              "  <thead>\n",
              "    <tr style=\"text-align: right;\">\n",
              "      <th></th>\n",
              "      <th>text</th>\n",
              "      <th>Emotions</th>\n",
              "      <th>Emotion_id</th>\n",
              "      <th>tokenized</th>\n",
              "    </tr>\n",
              "  </thead>\n",
              "  <tbody>\n",
              "    <tr>\n",
              "      <th>0</th>\n",
              "      <td>That game hurt.</td>\n",
              "      <td>sadness</td>\n",
              "      <td>26</td>\n",
              "      <td>[game, hurt]</td>\n",
              "    </tr>\n",
              "    <tr>\n",
              "      <th>1</th>\n",
              "      <td>You do right, if you don't care then fuck 'em!</td>\n",
              "      <td>neutral</td>\n",
              "      <td>20</td>\n",
              "      <td>[right, dont, care, fuck, em]</td>\n",
              "    </tr>\n",
              "    <tr>\n",
              "      <th>2</th>\n",
              "      <td>Man I love reddit.</td>\n",
              "      <td>love</td>\n",
              "      <td>18</td>\n",
              "      <td>[man, love, reddit]</td>\n",
              "    </tr>\n",
              "    <tr>\n",
              "      <th>3</th>\n",
              "      <td>[NAME] was nowhere near them, he was by the Fa...</td>\n",
              "      <td>neutral</td>\n",
              "      <td>20</td>\n",
              "      <td>[name, nowher, near, falcon]</td>\n",
              "    </tr>\n",
              "    <tr>\n",
              "      <th>4</th>\n",
              "      <td>Right? Considering it’s such an important docu...</td>\n",
              "      <td>gratitude</td>\n",
              "      <td>15</td>\n",
              "      <td>[right, consid, ’, import, document, know, dam...</td>\n",
              "    </tr>\n",
              "    <tr>\n",
              "      <th>...</th>\n",
              "      <td>...</td>\n",
              "      <td>...</td>\n",
              "      <td>...</td>\n",
              "      <td>...</td>\n",
              "    </tr>\n",
              "    <tr>\n",
              "      <th>46736</th>\n",
              "      <td>Oh [NAME] i forgot about those. I used to love...</td>\n",
              "      <td>love</td>\n",
              "      <td>18</td>\n",
              "      <td>[oh, name, forgot, use, love]</td>\n",
              "    </tr>\n",
              "    <tr>\n",
              "      <th>46737</th>\n",
              "      <td>I didn’t even notice that one. I noticed the b...</td>\n",
              "      <td>neutral</td>\n",
              "      <td>20</td>\n",
              "      <td>[’, even, notic, one, notic, bottom, right, one]</td>\n",
              "    </tr>\n",
              "    <tr>\n",
              "      <th>46738</th>\n",
              "      <td>Thanks, [NAME]</td>\n",
              "      <td>gratitude</td>\n",
              "      <td>15</td>\n",
              "      <td>[thank, name]</td>\n",
              "    </tr>\n",
              "    <tr>\n",
              "      <th>46739</th>\n",
              "      <td>Everyone likes [NAME].</td>\n",
              "      <td>love</td>\n",
              "      <td>18</td>\n",
              "      <td>[everyon, like, name]</td>\n",
              "    </tr>\n",
              "    <tr>\n",
              "      <th>46740</th>\n",
              "      <td>I just called the Capitol Police. They are not...</td>\n",
              "      <td>relief</td>\n",
              "      <td>24</td>\n",
              "      <td>[call, capitol, polic, affect, shutdown, name,...</td>\n",
              "    </tr>\n",
              "  </tbody>\n",
              "</table>\n",
              "<p>46741 rows × 4 columns</p>\n",
              "</div>"
            ],
            "text/plain": [
              "                                                    text   Emotions  \\\n",
              "0                                        That game hurt.    sadness   \n",
              "1         You do right, if you don't care then fuck 'em!    neutral   \n",
              "2                                     Man I love reddit.       love   \n",
              "3      [NAME] was nowhere near them, he was by the Fa...    neutral   \n",
              "4      Right? Considering it’s such an important docu...  gratitude   \n",
              "...                                                  ...        ...   \n",
              "46736  Oh [NAME] i forgot about those. I used to love...       love   \n",
              "46737  I didn’t even notice that one. I noticed the b...    neutral   \n",
              "46738                                     Thanks, [NAME]  gratitude   \n",
              "46739                             Everyone likes [NAME].       love   \n",
              "46740  I just called the Capitol Police. They are not...     relief   \n",
              "\n",
              "       Emotion_id                                          tokenized  \n",
              "0              26                                       [game, hurt]  \n",
              "1              20                      [right, dont, care, fuck, em]  \n",
              "2              18                                [man, love, reddit]  \n",
              "3              20                       [name, nowher, near, falcon]  \n",
              "4              15  [right, consid, ’, import, document, know, dam...  \n",
              "...           ...                                                ...  \n",
              "46736          18                      [oh, name, forgot, use, love]  \n",
              "46737          20   [’, even, notic, one, notic, bottom, right, one]  \n",
              "46738          15                                      [thank, name]  \n",
              "46739          18                              [everyon, like, name]  \n",
              "46740          24  [call, capitol, polic, affect, shutdown, name,...  \n",
              "\n",
              "[46741 rows x 4 columns]"
            ]
          },
          "execution_count": 18,
          "metadata": {},
          "output_type": "execute_result"
        }
      ],
      "source": [
        "data"
      ]
    },
    {
      "attachments": {},
      "cell_type": "markdown",
      "metadata": {},
      "source": [
        "**Removing rows in which the token list is empty (this occurs due to stemming)**"
      ]
    },
    {
      "cell_type": "code",
      "execution_count": 19,
      "metadata": {
        "colab": {
          "base_uri": "https://localhost:8080/",
          "height": 424
        },
        "id": "38-lhBSlAZ9n",
        "outputId": "7c064135-743c-4de4-8a4c-37e2d0a6cb68"
      },
      "outputs": [],
      "source": [
        "emp_token_ind = []\n",
        "\n",
        "tokens = data['tokenized'].to_numpy()\n",
        "for i in range(0, tokens.size):\n",
        "    if len(tokens[i]) == 0:\n",
        "        emp_token_ind.append(i)\n",
        "\n",
        "data.drop(emp_token_ind ,axis=0, inplace=True)\n",
        "data.reset_index(drop=True, inplace=True)"
      ]
    },
    {
      "cell_type": "code",
      "execution_count": 20,
      "metadata": {},
      "outputs": [
        {
          "data": {
            "text/html": [
              "<div>\n",
              "<style scoped>\n",
              "    .dataframe tbody tr th:only-of-type {\n",
              "        vertical-align: middle;\n",
              "    }\n",
              "\n",
              "    .dataframe tbody tr th {\n",
              "        vertical-align: top;\n",
              "    }\n",
              "\n",
              "    .dataframe thead th {\n",
              "        text-align: right;\n",
              "    }\n",
              "</style>\n",
              "<table border=\"1\" class=\"dataframe\">\n",
              "  <thead>\n",
              "    <tr style=\"text-align: right;\">\n",
              "      <th></th>\n",
              "      <th>text</th>\n",
              "      <th>Emotions</th>\n",
              "      <th>Emotion_id</th>\n",
              "      <th>tokenized</th>\n",
              "    </tr>\n",
              "  </thead>\n",
              "  <tbody>\n",
              "    <tr>\n",
              "      <th>0</th>\n",
              "      <td>That game hurt.</td>\n",
              "      <td>sadness</td>\n",
              "      <td>26</td>\n",
              "      <td>[game, hurt]</td>\n",
              "    </tr>\n",
              "    <tr>\n",
              "      <th>1</th>\n",
              "      <td>You do right, if you don't care then fuck 'em!</td>\n",
              "      <td>neutral</td>\n",
              "      <td>20</td>\n",
              "      <td>[right, dont, care, fuck, em]</td>\n",
              "    </tr>\n",
              "    <tr>\n",
              "      <th>2</th>\n",
              "      <td>Man I love reddit.</td>\n",
              "      <td>love</td>\n",
              "      <td>18</td>\n",
              "      <td>[man, love, reddit]</td>\n",
              "    </tr>\n",
              "    <tr>\n",
              "      <th>3</th>\n",
              "      <td>[NAME] was nowhere near them, he was by the Fa...</td>\n",
              "      <td>neutral</td>\n",
              "      <td>20</td>\n",
              "      <td>[name, nowher, near, falcon]</td>\n",
              "    </tr>\n",
              "    <tr>\n",
              "      <th>4</th>\n",
              "      <td>Right? Considering it’s such an important docu...</td>\n",
              "      <td>gratitude</td>\n",
              "      <td>15</td>\n",
              "      <td>[right, consid, ’, import, document, know, dam...</td>\n",
              "    </tr>\n",
              "    <tr>\n",
              "      <th>...</th>\n",
              "      <td>...</td>\n",
              "      <td>...</td>\n",
              "      <td>...</td>\n",
              "      <td>...</td>\n",
              "    </tr>\n",
              "    <tr>\n",
              "      <th>46637</th>\n",
              "      <td>Oh [NAME] i forgot about those. I used to love...</td>\n",
              "      <td>love</td>\n",
              "      <td>18</td>\n",
              "      <td>[oh, name, forgot, use, love]</td>\n",
              "    </tr>\n",
              "    <tr>\n",
              "      <th>46638</th>\n",
              "      <td>I didn’t even notice that one. I noticed the b...</td>\n",
              "      <td>neutral</td>\n",
              "      <td>20</td>\n",
              "      <td>[’, even, notic, one, notic, bottom, right, one]</td>\n",
              "    </tr>\n",
              "    <tr>\n",
              "      <th>46639</th>\n",
              "      <td>Thanks, [NAME]</td>\n",
              "      <td>gratitude</td>\n",
              "      <td>15</td>\n",
              "      <td>[thank, name]</td>\n",
              "    </tr>\n",
              "    <tr>\n",
              "      <th>46640</th>\n",
              "      <td>Everyone likes [NAME].</td>\n",
              "      <td>love</td>\n",
              "      <td>18</td>\n",
              "      <td>[everyon, like, name]</td>\n",
              "    </tr>\n",
              "    <tr>\n",
              "      <th>46641</th>\n",
              "      <td>I just called the Capitol Police. They are not...</td>\n",
              "      <td>relief</td>\n",
              "      <td>24</td>\n",
              "      <td>[call, capitol, polic, affect, shutdown, name,...</td>\n",
              "    </tr>\n",
              "  </tbody>\n",
              "</table>\n",
              "<p>46642 rows × 4 columns</p>\n",
              "</div>"
            ],
            "text/plain": [
              "                                                    text   Emotions  \\\n",
              "0                                        That game hurt.    sadness   \n",
              "1         You do right, if you don't care then fuck 'em!    neutral   \n",
              "2                                     Man I love reddit.       love   \n",
              "3      [NAME] was nowhere near them, he was by the Fa...    neutral   \n",
              "4      Right? Considering it’s such an important docu...  gratitude   \n",
              "...                                                  ...        ...   \n",
              "46637  Oh [NAME] i forgot about those. I used to love...       love   \n",
              "46638  I didn’t even notice that one. I noticed the b...    neutral   \n",
              "46639                                     Thanks, [NAME]  gratitude   \n",
              "46640                             Everyone likes [NAME].       love   \n",
              "46641  I just called the Capitol Police. They are not...     relief   \n",
              "\n",
              "       Emotion_id                                          tokenized  \n",
              "0              26                                       [game, hurt]  \n",
              "1              20                      [right, dont, care, fuck, em]  \n",
              "2              18                                [man, love, reddit]  \n",
              "3              20                       [name, nowher, near, falcon]  \n",
              "4              15  [right, consid, ’, import, document, know, dam...  \n",
              "...           ...                                                ...  \n",
              "46637          18                      [oh, name, forgot, use, love]  \n",
              "46638          20   [’, even, notic, one, notic, bottom, right, one]  \n",
              "46639          15                                      [thank, name]  \n",
              "46640          18                              [everyon, like, name]  \n",
              "46641          24  [call, capitol, polic, affect, shutdown, name,...  \n",
              "\n",
              "[46642 rows x 4 columns]"
            ]
          },
          "execution_count": 20,
          "metadata": {},
          "output_type": "execute_result"
        }
      ],
      "source": [
        "data"
      ]
    },
    {
      "cell_type": "code",
      "execution_count": 21,
      "metadata": {
        "id": "xzQqKXQaCten"
      },
      "outputs": [],
      "source": [
        "import gensim\n",
        "from gensim.models import Word2Vec, KeyedVectors\n",
        "\n",
        "model = Word2Vec(window=5, min_count=1, workers=4, sg=0)\n",
        "\n",
        "model.build_vocab(data['tokenized'], progress_per=1000)\n",
        "model.train(data['tokenized'], total_examples=model.corpus_count, epochs=model.epochs)\n",
        "\n",
        "model.save(\"main/saved models/word2vec.model\")"
      ]
    },
    {
      "cell_type": "code",
      "execution_count": 22,
      "metadata": {
        "colab": {
          "base_uri": "https://localhost:8080/"
        },
        "id": "31hSgLXaCyNp",
        "outputId": "4cf18d0e-e2ad-43cb-cae4-268c7ef5988c"
      },
      "outputs": [
        {
          "data": {
            "text/plain": [
              "array([-0.3973438 ,  0.35081518,  0.2689892 ,  0.19921818,  0.17258641,\n",
              "       -1.0310723 ,  0.30202582,  1.3513718 , -0.6655251 , -0.5250918 ,\n",
              "       -0.44280535, -0.68056643, -0.29470333,  0.29624873,  0.21318057,\n",
              "       -0.21513933, -0.14844549, -0.46180987,  0.01194771, -1.0862317 ,\n",
              "        0.34368485,  0.0898204 ,  0.42637837, -0.6332368 , -0.0751239 ,\n",
              "        0.06046883, -0.11419323, -0.50458664, -0.7542591 , -0.18876371,\n",
              "        0.41058606,  0.14714493,  0.3791031 , -0.45376545,  0.12115659,\n",
              "        0.9776548 , -0.07194802, -0.5998069 , -0.521863  , -0.94673234,\n",
              "        0.15371007, -0.46404582, -0.35749963, -0.04238157,  0.5677838 ,\n",
              "       -0.40379792, -0.23396711, -0.1248076 ,  0.30823198,  0.59973043,\n",
              "        0.40816563, -0.26451978, -0.33816725,  0.03378657, -0.3106585 ,\n",
              "        0.34004307,  0.3293491 , -0.09609746, -0.57579374,  0.15945634,\n",
              "        0.20678605,  0.428821  , -0.15131907, -0.19092134, -0.5672572 ,\n",
              "        0.48885918,  0.27739733,  0.4544645 , -0.8963984 ,  0.8216419 ,\n",
              "       -0.05425962,  0.21789712,  0.3373277 ,  0.12290749,  0.72516155,\n",
              "        0.03668869,  0.41477874, -0.19737372, -0.3881333 ,  0.33242175,\n",
              "        0.08808997,  0.0865389 , -0.3394842 ,  0.65284353, -0.15207069,\n",
              "       -0.03374226,  0.14266016,  0.6373105 ,  0.64938194,  0.1860292 ,\n",
              "        1.0267874 ,  0.23365626,  0.14355683, -0.1764834 ,  0.9152377 ,\n",
              "        0.641796  ,  0.44197032, -0.39192498,  0.23743865, -0.21694985],\n",
              "      dtype=float32)"
            ]
          },
          "execution_count": 22,
          "metadata": {},
          "output_type": "execute_result"
        }
      ],
      "source": [
        "model.wv.most_similar('best')\n",
        "(model.wv['game'] + model.wv['hurt'])/2"
      ]
    },
    {
      "attachments": {},
      "cell_type": "markdown",
      "metadata": {},
      "source": [
        "Vectorize the tokenized lists"
      ]
    },
    {
      "cell_type": "code",
      "execution_count": 23,
      "metadata": {
        "colab": {
          "base_uri": "https://localhost:8080/",
          "height": 424
        },
        "id": "zkqxZZCSEv88",
        "outputId": "03645b33-11e4-457d-8efa-f78668cdf3d2"
      },
      "outputs": [],
      "source": [
        "inputs = []\n",
        "\n",
        "for token in data['tokenized']:\n",
        "    inputs.append(model.wv[token])\n",
        "\n",
        "data['Inputs'] = inputs\n"
      ]
    },
    {
      "cell_type": "code",
      "execution_count": 24,
      "metadata": {},
      "outputs": [
        {
          "name": "stdout",
          "output_type": "stream",
          "text": [
            "[[-0.55873543  0.22207835  0.35822698  0.26257202  0.28263277 -1.2718939\n",
            "   0.47653553  1.5410419  -0.890885   -0.5789248  -0.56829876 -0.6406763\n",
            "  -0.34027362  0.33496866  0.20147468 -0.26416835 -0.3361619  -0.55682623\n",
            "  -0.12980743 -1.2060918   0.49532172  0.01381759  0.43292242 -0.8905526\n",
            "  -0.05970089  0.02615761 -0.02942573 -0.6351065  -0.9500053  -0.31050315\n",
            "   0.34692597  0.2550373   0.5042237  -0.33158547  0.18572031  1.3447797\n",
            "  -0.13707036 -0.68203586 -0.54063    -1.1405815   0.16237809 -0.5030103\n",
            "  -0.45552775 -0.03384733  0.6777265  -0.45706385 -0.19670328 -0.22331902\n",
            "   0.3910365   0.763216    0.5785145  -0.1476085  -0.48426464  0.09990761\n",
            "  -0.366725    0.46316642  0.3783078  -0.17667386 -0.6330125   0.10290302\n",
            "   0.27077663  0.63601077 -0.27672946 -0.4446697  -0.72576255  0.44665655\n",
            "   0.31827965  0.4721102  -1.0572621   0.86245114  0.16949694  0.1778366\n",
            "   0.19795658  0.22300814  0.87668097 -0.10385139  0.6609683  -0.26383954\n",
            "  -0.49843735  0.45225534  0.27965513  0.27362978 -0.22660731  0.7389531\n",
            "  -0.14909293  0.05177715  0.0049793   0.815258    0.73714733  0.15966159\n",
            "   1.2962587   0.26408398  0.1475605  -0.37720826  1.0317237   0.8676607\n",
            "   0.4225467  -0.39816892  0.32262072 -0.25012705]\n",
            " [-0.2359522   0.479552    0.17975146  0.13586433  0.06254006 -0.79025066\n",
            "   0.12751612  1.1617018  -0.44016513 -0.47125885 -0.31731194 -0.7204565\n",
            "  -0.24913307  0.25752884  0.22488646 -0.16611029  0.03927094 -0.3667935\n",
            "   0.15370284 -0.9663716   0.19204798  0.1658232   0.41983432 -0.37592107\n",
            "  -0.09054691  0.09478006 -0.19896074 -0.37406677 -0.558513   -0.06702425\n",
            "   0.4742461   0.03925256  0.25398248 -0.57594544  0.05659286  0.6105299\n",
            "  -0.00682569 -0.5175779  -0.50309604 -0.7528832   0.14504205 -0.42508134\n",
            "  -0.2594715  -0.0509158   0.457841   -0.350532   -0.27123094 -0.02629619\n",
            "   0.22542745  0.43624485  0.23781674 -0.38143104 -0.19206983 -0.03233448\n",
            "  -0.25459203  0.2169197   0.2803904  -0.01552107 -0.518575    0.21600968\n",
            "   0.14279547  0.22163124 -0.02590868  0.06282701 -0.40875193  0.53106177\n",
            "   0.23651499  0.4368188  -0.7355347   0.7808327  -0.27801618  0.25795764\n",
            "   0.47669882  0.02280684  0.5736421   0.17722876  0.16858916 -0.13090788\n",
            "  -0.27782923  0.21258816 -0.10347519 -0.100552   -0.45236114  0.56673396\n",
            "  -0.15504844 -0.11926166  0.280341    0.459363    0.56161654  0.21239679\n",
            "   0.7573162   0.20322853  0.13955316  0.02424148  0.7987517   0.41593128\n",
            "   0.46139392 -0.38568103  0.15225658 -0.18377264]]\n"
          ]
        }
      ],
      "source": [
        "print(data['Inputs'][0])"
      ]
    },
    {
      "attachments": {},
      "cell_type": "markdown",
      "metadata": {},
      "source": [
        "Perform **Average Word2Vec** on the input column"
      ]
    },
    {
      "cell_type": "code",
      "execution_count": 25,
      "metadata": {},
      "outputs": [],
      "source": [
        "inputs = []\n",
        "for input in data['Inputs']:\n",
        "    sum = 0\n",
        "    for i in input:\n",
        "        sum = sum + i\n",
        "    avg = sum/len(input)\n",
        "    inputs.append(avg)\n",
        "\n",
        "data['Inputs'] = inputs\n"
      ]
    },
    {
      "cell_type": "code",
      "execution_count": 26,
      "metadata": {},
      "outputs": [
        {
          "data": {
            "text/html": [
              "<div>\n",
              "<style scoped>\n",
              "    .dataframe tbody tr th:only-of-type {\n",
              "        vertical-align: middle;\n",
              "    }\n",
              "\n",
              "    .dataframe tbody tr th {\n",
              "        vertical-align: top;\n",
              "    }\n",
              "\n",
              "    .dataframe thead th {\n",
              "        text-align: right;\n",
              "    }\n",
              "</style>\n",
              "<table border=\"1\" class=\"dataframe\">\n",
              "  <thead>\n",
              "    <tr style=\"text-align: right;\">\n",
              "      <th></th>\n",
              "      <th>text</th>\n",
              "      <th>Emotions</th>\n",
              "      <th>Emotion_id</th>\n",
              "      <th>tokenized</th>\n",
              "      <th>Inputs</th>\n",
              "    </tr>\n",
              "  </thead>\n",
              "  <tbody>\n",
              "    <tr>\n",
              "      <th>0</th>\n",
              "      <td>That game hurt.</td>\n",
              "      <td>sadness</td>\n",
              "      <td>26</td>\n",
              "      <td>[game, hurt]</td>\n",
              "      <td>[-0.3973438, 0.35081518, 0.2689892, 0.19921818...</td>\n",
              "    </tr>\n",
              "    <tr>\n",
              "      <th>1</th>\n",
              "      <td>You do right, if you don't care then fuck 'em!</td>\n",
              "      <td>neutral</td>\n",
              "      <td>20</td>\n",
              "      <td>[right, dont, care, fuck, em]</td>\n",
              "      <td>[-0.1381881, 0.6441082, 0.20774241, 0.14830495...</td>\n",
              "    </tr>\n",
              "    <tr>\n",
              "      <th>2</th>\n",
              "      <td>Man I love reddit.</td>\n",
              "      <td>love</td>\n",
              "      <td>18</td>\n",
              "      <td>[man, love, reddit]</td>\n",
              "      <td>[-0.3656633, 0.49714097, 0.2097138, 0.22056825...</td>\n",
              "    </tr>\n",
              "    <tr>\n",
              "      <th>3</th>\n",
              "      <td>[NAME] was nowhere near them, he was by the Fa...</td>\n",
              "      <td>neutral</td>\n",
              "      <td>20</td>\n",
              "      <td>[name, nowher, near, falcon]</td>\n",
              "      <td>[-0.15839972, 0.1606732, 0.15845345, 0.1215725...</td>\n",
              "    </tr>\n",
              "    <tr>\n",
              "      <th>4</th>\n",
              "      <td>Right? Considering it’s such an important docu...</td>\n",
              "      <td>gratitude</td>\n",
              "      <td>15</td>\n",
              "      <td>[right, consid, ’, import, document, know, dam...</td>\n",
              "      <td>[-0.2382009, 0.5450572, 0.12214177, 0.1537656,...</td>\n",
              "    </tr>\n",
              "    <tr>\n",
              "      <th>...</th>\n",
              "      <td>...</td>\n",
              "      <td>...</td>\n",
              "      <td>...</td>\n",
              "      <td>...</td>\n",
              "      <td>...</td>\n",
              "    </tr>\n",
              "    <tr>\n",
              "      <th>46637</th>\n",
              "      <td>Oh [NAME] i forgot about those. I used to love...</td>\n",
              "      <td>love</td>\n",
              "      <td>18</td>\n",
              "      <td>[oh, name, forgot, use, love]</td>\n",
              "      <td>[-0.332473, 0.4800395, 0.24068661, 0.2230895, ...</td>\n",
              "    </tr>\n",
              "    <tr>\n",
              "      <th>46638</th>\n",
              "      <td>I didn’t even notice that one. I noticed the b...</td>\n",
              "      <td>neutral</td>\n",
              "      <td>20</td>\n",
              "      <td>[’, even, notic, one, notic, bottom, right, one]</td>\n",
              "      <td>[-0.29448888, 0.5965891, 0.18924767, 0.1982171...</td>\n",
              "    </tr>\n",
              "    <tr>\n",
              "      <th>46639</th>\n",
              "      <td>Thanks, [NAME]</td>\n",
              "      <td>gratitude</td>\n",
              "      <td>15</td>\n",
              "      <td>[thank, name]</td>\n",
              "      <td>[-0.4047569, 0.35482204, 0.2127144, 0.24781388...</td>\n",
              "    </tr>\n",
              "    <tr>\n",
              "      <th>46640</th>\n",
              "      <td>Everyone likes [NAME].</td>\n",
              "      <td>love</td>\n",
              "      <td>18</td>\n",
              "      <td>[everyon, like, name]</td>\n",
              "      <td>[-0.23960154, 0.6157982, 0.2757593, 0.31679454...</td>\n",
              "    </tr>\n",
              "    <tr>\n",
              "      <th>46641</th>\n",
              "      <td>I just called the Capitol Police. They are not...</td>\n",
              "      <td>relief</td>\n",
              "      <td>24</td>\n",
              "      <td>[call, capitol, polic, affect, shutdown, name,...</td>\n",
              "      <td>[-0.231054, 0.37708434, 0.18582886, 0.15190183...</td>\n",
              "    </tr>\n",
              "  </tbody>\n",
              "</table>\n",
              "<p>46642 rows × 5 columns</p>\n",
              "</div>"
            ],
            "text/plain": [
              "                                                    text   Emotions  \\\n",
              "0                                        That game hurt.    sadness   \n",
              "1         You do right, if you don't care then fuck 'em!    neutral   \n",
              "2                                     Man I love reddit.       love   \n",
              "3      [NAME] was nowhere near them, he was by the Fa...    neutral   \n",
              "4      Right? Considering it’s such an important docu...  gratitude   \n",
              "...                                                  ...        ...   \n",
              "46637  Oh [NAME] i forgot about those. I used to love...       love   \n",
              "46638  I didn’t even notice that one. I noticed the b...    neutral   \n",
              "46639                                     Thanks, [NAME]  gratitude   \n",
              "46640                             Everyone likes [NAME].       love   \n",
              "46641  I just called the Capitol Police. They are not...     relief   \n",
              "\n",
              "       Emotion_id                                          tokenized  \\\n",
              "0              26                                       [game, hurt]   \n",
              "1              20                      [right, dont, care, fuck, em]   \n",
              "2              18                                [man, love, reddit]   \n",
              "3              20                       [name, nowher, near, falcon]   \n",
              "4              15  [right, consid, ’, import, document, know, dam...   \n",
              "...           ...                                                ...   \n",
              "46637          18                      [oh, name, forgot, use, love]   \n",
              "46638          20   [’, even, notic, one, notic, bottom, right, one]   \n",
              "46639          15                                      [thank, name]   \n",
              "46640          18                              [everyon, like, name]   \n",
              "46641          24  [call, capitol, polic, affect, shutdown, name,...   \n",
              "\n",
              "                                                  Inputs  \n",
              "0      [-0.3973438, 0.35081518, 0.2689892, 0.19921818...  \n",
              "1      [-0.1381881, 0.6441082, 0.20774241, 0.14830495...  \n",
              "2      [-0.3656633, 0.49714097, 0.2097138, 0.22056825...  \n",
              "3      [-0.15839972, 0.1606732, 0.15845345, 0.1215725...  \n",
              "4      [-0.2382009, 0.5450572, 0.12214177, 0.1537656,...  \n",
              "...                                                  ...  \n",
              "46637  [-0.332473, 0.4800395, 0.24068661, 0.2230895, ...  \n",
              "46638  [-0.29448888, 0.5965891, 0.18924767, 0.1982171...  \n",
              "46639  [-0.4047569, 0.35482204, 0.2127144, 0.24781388...  \n",
              "46640  [-0.23960154, 0.6157982, 0.2757593, 0.31679454...  \n",
              "46641  [-0.231054, 0.37708434, 0.18582886, 0.15190183...  \n",
              "\n",
              "[46642 rows x 5 columns]"
            ]
          },
          "execution_count": 26,
          "metadata": {},
          "output_type": "execute_result"
        }
      ],
      "source": [
        "data"
      ]
    },
    {
      "cell_type": "code",
      "execution_count": 27,
      "metadata": {
        "id": "dcV_ULNgITDA"
      },
      "outputs": [],
      "source": [
        "data.to_csv('main/saved data/tokenized_inputs.csv')"
      ]
    },
    {
      "attachments": {},
      "cell_type": "markdown",
      "metadata": {},
      "source": [
        "Since the emotions classes are imbalanced we apply **SMOTE algorithm** to generate synthetic data"
      ]
    },
    {
      "cell_type": "code",
      "execution_count": 33,
      "metadata": {},
      "outputs": [],
      "source": [
        "X = np.array([input for input in data['Inputs']])\n",
        "y = np.array(data['Emotion_id'])"
      ]
    },
    {
      "cell_type": "code",
      "execution_count": 34,
      "metadata": {},
      "outputs": [],
      "source": [
        "smt = SMOTE(random_state=42)\n",
        "X, y = smt.fit_resample(X, y)"
      ]
    },
    {
      "cell_type": "code",
      "execution_count": 35,
      "metadata": {},
      "outputs": [
        {
          "name": "stderr",
          "output_type": "stream",
          "text": [
            "c:\\Users\\mayur\\anaconda3\\lib\\site-packages\\seaborn\\distributions.py:2619: FutureWarning: `distplot` is a deprecated function and will be removed in a future version. Please adapt your code to use either `displot` (a figure-level function with similar flexibility) or `histplot` (an axes-level function for histograms).\n",
            "  warnings.warn(msg, FutureWarning)\n"
          ]
        },
        {
          "data": {
            "text/plain": [
              "<AxesSubplot:>"
            ]
          },
          "execution_count": 35,
          "metadata": {},
          "output_type": "execute_result"
        },
        {
          "data": {
            "image/png": "[encoded data removed]",
            "text/plain": [
              "<Figure size 640x480 with 1 Axes>"
            ]
          },
          "metadata": {},
          "output_type": "display_data"
        }
      ],
      "source": [
        "distplot(y, kde=False, color='red', bins=100)"
      ]
    },
    {
      "cell_type": "code",
      "execution_count": 36,
      "metadata": {},
      "outputs": [],
      "source": [
        "df = {'Input':X.tolist(), 'Output':y, 'Emotions':le.inverse_transform(y)}\n",
        "df_io = pd.DataFrame(df)"
      ]
    },
    {
      "cell_type": "code",
      "execution_count": 37,
      "metadata": {},
      "outputs": [],
      "source": [
        "X = np.array([input for input in df_io['Input']])\n",
        "y = np.array(df_io['Output'])"
      ]
    },
    {
      "cell_type": "code",
      "execution_count": 39,
      "metadata": {},
      "outputs": [],
      "source": [
        "from sklearn.model_selection import train_test_split\n",
        "X_train, X_test, y_train, y_test = train_test_split(X, y, test_size = 0.20, shuffle=True)"
      ]
    },
    {
      "cell_type": "code",
      "execution_count": 40,
      "metadata": {},
      "outputs": [
        {
          "data": {
            "text/plain": [
              "RandomForestClassifier()"
            ]
          },
          "execution_count": 40,
          "metadata": {},
          "output_type": "execute_result"
        }
      ],
      "source": [
        "from sklearn.ensemble import RandomForestClassifier\n",
        "\n",
        "RFC = RandomForestClassifier(n_estimators = 100)  \n",
        "RFC.fit(X_train, y_train)"
      ]
    },
    {
      "cell_type": "code",
      "execution_count": 42,
      "metadata": {},
      "outputs": [
        {
          "data": {
            "text/plain": [
              "0.9454427490644515"
            ]
          },
          "execution_count": 42,
          "metadata": {},
          "output_type": "execute_result"
        }
      ],
      "source": [
        "from sklearn.metrics import accuracy_score\n",
        "\n",
        "y_pred = RFC.predict(X_test)\n",
        "accuracy_score(y_test, y_pred)"
      ]
    },
    {
      "cell_type": "code",
      "execution_count": 44,
      "metadata": {},
      "outputs": [
        {
          "data": {
            "text/plain": [
              "['main\\\\saved models\\\\model_RVC.joblib']"
            ]
          },
          "execution_count": 44,
          "metadata": {},
          "output_type": "execute_result"
        }
      ],
      "source": [
        "import joblib\n",
        "\n",
        "joblib.dump(RFC, 'main\\saved models\\model_RVC.joblib')"
      ]
    }
  ],
  "metadata": {
    "accelerator": "GPU",
    "colab": {
      "include_colab_link": true,
      "provenance": []
    },
    "gpuClass": "standard",
    "kernelspec": {
      "display_name": "Python 3",
      "name": "python3"
    },
    "language_info": {
      "codemirror_mode": {
        "name": "ipython",
        "version": 3
      },
      "file_extension": ".py",
      "mimetype": "text/x-python",
      "name": "python",
      "nbconvert_exporter": "python",
      "pygments_lexer": "ipython3",
      "version": "3.9.13"
    }
  },
  "nbformat": 4,
  "nbformat_minor": 0
}
