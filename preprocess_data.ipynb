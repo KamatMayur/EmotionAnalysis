{
  "cells": [
    {
      "cell_type": "markdown",
      "metadata": {
        "colab_type": "text",
        "id": "view-in-github"
      },
      "source": [
        "<a href=\"https://colab.research.google.com/github/coder-rakeshpaul/EmotionAnalysis/blob/main/Emotion.ipynb\" target=\"_parent\"><img src=\"https://colab.research.google.com/assets/colab-badge.svg\" alt=\"Open In Colab\"/></a>"
      ]
    },
    {
      "cell_type": "code",
      "execution_count": 13,
      "metadata": {
        "colab": {
          "base_uri": "https://localhost:8080/"
        },
        "id": "LMGHMTMxT5W2",
        "outputId": "fdaf6311-7b94-465f-b9ca-e337c39624a4"
      },
      "outputs": [
        {
          "name": "stderr",
          "output_type": "stream",
          "text": [
            "[nltk_data] Downloading package stopwords to\n",
            "[nltk_data]     C:\\Users\\mayur\\AppData\\Roaming\\nltk_data...\n",
            "[nltk_data]   Package stopwords is already up-to-date!\n",
            "[nltk_data] Downloading package punkt to\n",
            "[nltk_data]     C:\\Users\\mayur\\AppData\\Roaming\\nltk_data...\n",
            "[nltk_data]   Package punkt is already up-to-date!\n"
          ]
        },
        {
          "data": {
            "text/plain": [
              "True"
            ]
          },
          "execution_count": 13,
          "metadata": {},
          "output_type": "execute_result"
        }
      ],
      "source": [
        "import pandas as pd\n",
        "import numpy as np\n",
        "import matplotlib.pyplot as plt\n",
        "from imblearn.over_sampling import SMOTE\n",
        "import seaborn as sns\n",
        "import nltk\n",
        "import string\n",
        "import re\n",
        "import inflect\n",
        "\n",
        "nltk.download('stopwords')\n",
        "nltk.download('punkt')"
      ]
    },
    {
      "cell_type": "markdown",
      "metadata": {
        "id": "FL0duwMh0-PO"
      },
      "source": [
        "Reading the data amd converting it into a dataframe"
      ]
    },
    {
      "cell_type": "code",
      "execution_count": 14,
      "metadata": {
        "id": "YVOttT7rUBqq"
      },
      "outputs": [],
      "source": [
        "df1 = pd.read_csv('https://storage.googleapis.com/gresearch/goemotions/data/full_dataset/goemotions_1.csv')\n",
        "df2 = pd.read_csv('https://storage.googleapis.com/gresearch/goemotions/data/full_dataset/goemotions_2.csv')\n",
        "df3 = pd.read_csv('https://storage.googleapis.com/gresearch/goemotions/data/full_dataset/goemotions_3.csv')\n",
        "frames = [df1, df2, df3]\n",
        "data = pd.concat(frames)"
      ]
    },
    {
      "cell_type": "markdown",
      "metadata": {
        "id": "hqJYJd1G1JxN"
      },
      "source": [
        "Droping unnecessary columns"
      ]
    },
    {
      "cell_type": "code",
      "execution_count": 15,
      "metadata": {
        "colab": {
          "base_uri": "https://localhost:8080/"
        },
        "id": "0Wxha2UdUIRZ",
        "outputId": "ed24f8a8-b0ea-4798-9e3c-b1e710a1d18e"
      },
      "outputs": [
        {
          "data": {
            "text/plain": [
              "(211225, 29)"
            ]
          },
          "execution_count": 15,
          "metadata": {},
          "output_type": "execute_result"
        }
      ],
      "source": [
        "data=data.drop(['id','author','subreddit','link_id','parent_id','created_utc','rater_id','example_very_unclear'], axis=1)\n",
        "data.shape"
      ]
    },
    {
      "cell_type": "markdown",
      "metadata": {
        "id": "TVKS4nCz1an2"
      },
      "source": [
        "Droping the duplicates"
      ]
    },
    {
      "cell_type": "code",
      "execution_count": 16,
      "metadata": {
        "colab": {
          "base_uri": "https://localhost:8080/"
        },
        "id": "4opruBEBUl1k",
        "outputId": "77cc1c50-4214-433d-a837-d216d9f92f97"
      },
      "outputs": [
        {
          "data": {
            "text/plain": [
              "(57732, 29)"
            ]
          },
          "execution_count": 16,
          "metadata": {},
          "output_type": "execute_result"
        }
      ],
      "source": [
        "data.drop_duplicates(subset='text', inplace=True)\n",
        "data.reset_index(drop=True, inplace=True)\n",
        "data.shape"
      ]
    },
    {
      "cell_type": "markdown",
      "metadata": {
        "id": "vk19WqhS1sdT"
      },
      "source": [
        "Droping data with mixed emotions"
      ]
    },
    {
      "cell_type": "code",
      "execution_count": 17,
      "metadata": {
        "colab": {
          "base_uri": "https://localhost:8080/"
        },
        "id": "DXF-vlhFUtWJ",
        "outputId": "6dd7f263-ba5a-4a0b-8350-f4dde14d5640"
      },
      "outputs": [
        {
          "name": "stderr",
          "output_type": "stream",
          "text": [
            "C:\\Users\\mayur\\AppData\\Local\\Temp\\ipykernel_16536\\1218242578.py:1: FutureWarning: Dropping of nuisance columns in DataFrame reductions (with 'numeric_only=None') is deprecated; in a future version this will raise TypeError.  Select only valid columns before calling the reduction.\n",
            "  sum = np.array(data.sum(axis=1))\n"
          ]
        },
        {
          "data": {
            "text/plain": [
              "(46741, 29)"
            ]
          },
          "execution_count": 17,
          "metadata": {},
          "output_type": "execute_result"
        }
      ],
      "source": [
        "sum = np.array(data.sum(axis=1))\n",
        "ind = np.where(np.logical_or(sum>1, sum==0))[0].tolist()\n",
        "data.drop(ind, inplace = True)\n",
        "data.reset_index(drop=True, inplace=True)\n",
        "data.shape"
      ]
    },
    {
      "cell_type": "markdown",
      "metadata": {
        "id": "ULgeed2N118-"
      },
      "source": [
        "Creating a list of emotions"
      ]
    },
    {
      "cell_type": "code",
      "execution_count": 18,
      "metadata": {
        "id": "rWpayA_mTmfB"
      },
      "outputs": [],
      "source": [
        "emotions = list(data.columns)[1:]"
      ]
    },
    {
      "cell_type": "code",
      "execution_count": 19,
      "metadata": {
        "id": "w3zLcXwIWasU"
      },
      "outputs": [],
      "source": [
        "emo = []\n",
        "for text in range(0, data.shape[0]):\n",
        "  for emotion in emotions:\n",
        "    if data.loc[text][emotion] == 1:\n",
        "      emo.append(emotion)\n"
      ]
    },
    {
      "cell_type": "code",
      "execution_count": 20,
      "metadata": {
        "id": "F8ldYHy-brpF"
      },
      "outputs": [],
      "source": [
        "data.drop(data.iloc[:, 1:29], inplace=True, axis=1)"
      ]
    },
    {
      "cell_type": "code",
      "execution_count": 21,
      "metadata": {
        "colab": {
          "base_uri": "https://localhost:8080/",
          "height": 424
        },
        "id": "LhixacjwG-OC",
        "outputId": "06600a89-e02b-40f0-9c60-a1b29bba3d3d"
      },
      "outputs": [
        {
          "data": {
            "text/html": [
              "<div>\n",
              "<style scoped>\n",
              "    .dataframe tbody tr th:only-of-type {\n",
              "        vertical-align: middle;\n",
              "    }\n",
              "\n",
              "    .dataframe tbody tr th {\n",
              "        vertical-align: top;\n",
              "    }\n",
              "\n",
              "    .dataframe thead th {\n",
              "        text-align: right;\n",
              "    }\n",
              "</style>\n",
              "<table border=\"1\" class=\"dataframe\">\n",
              "  <thead>\n",
              "    <tr style=\"text-align: right;\">\n",
              "      <th></th>\n",
              "      <th>text</th>\n",
              "    </tr>\n",
              "  </thead>\n",
              "  <tbody>\n",
              "    <tr>\n",
              "      <th>0</th>\n",
              "      <td>That game hurt.</td>\n",
              "    </tr>\n",
              "    <tr>\n",
              "      <th>1</th>\n",
              "      <td>You do right, if you don't care then fuck 'em!</td>\n",
              "    </tr>\n",
              "    <tr>\n",
              "      <th>2</th>\n",
              "      <td>Man I love reddit.</td>\n",
              "    </tr>\n",
              "    <tr>\n",
              "      <th>3</th>\n",
              "      <td>[NAME] was nowhere near them, he was by the Fa...</td>\n",
              "    </tr>\n",
              "    <tr>\n",
              "      <th>4</th>\n",
              "      <td>Right? Considering it’s such an important docu...</td>\n",
              "    </tr>\n",
              "    <tr>\n",
              "      <th>...</th>\n",
              "      <td>...</td>\n",
              "    </tr>\n",
              "    <tr>\n",
              "      <th>46736</th>\n",
              "      <td>Oh [NAME] i forgot about those. I used to love...</td>\n",
              "    </tr>\n",
              "    <tr>\n",
              "      <th>46737</th>\n",
              "      <td>I didn’t even notice that one. I noticed the b...</td>\n",
              "    </tr>\n",
              "    <tr>\n",
              "      <th>46738</th>\n",
              "      <td>Thanks, [NAME]</td>\n",
              "    </tr>\n",
              "    <tr>\n",
              "      <th>46739</th>\n",
              "      <td>Everyone likes [NAME].</td>\n",
              "    </tr>\n",
              "    <tr>\n",
              "      <th>46740</th>\n",
              "      <td>I just called the Capitol Police. They are not...</td>\n",
              "    </tr>\n",
              "  </tbody>\n",
              "</table>\n",
              "<p>46741 rows × 1 columns</p>\n",
              "</div>"
            ],
            "text/plain": [
              "                                                    text\n",
              "0                                        That game hurt.\n",
              "1         You do right, if you don't care then fuck 'em!\n",
              "2                                     Man I love reddit.\n",
              "3      [NAME] was nowhere near them, he was by the Fa...\n",
              "4      Right? Considering it’s such an important docu...\n",
              "...                                                  ...\n",
              "46736  Oh [NAME] i forgot about those. I used to love...\n",
              "46737  I didn’t even notice that one. I noticed the b...\n",
              "46738                                     Thanks, [NAME]\n",
              "46739                             Everyone likes [NAME].\n",
              "46740  I just called the Capitol Police. They are not...\n",
              "\n",
              "[46741 rows x 1 columns]"
            ]
          },
          "execution_count": 21,
          "metadata": {},
          "output_type": "execute_result"
        }
      ],
      "source": [
        "data"
      ]
    },
    {
      "cell_type": "code",
      "execution_count": 22,
      "metadata": {
        "colab": {
          "base_uri": "https://localhost:8080/",
          "height": 424
        },
        "id": "n5WKCi8FX7Aj",
        "outputId": "6bb003cd-c4c5-4768-8c7e-73dc970c3fdb"
      },
      "outputs": [
        {
          "data": {
            "text/html": [
              "<div>\n",
              "<style scoped>\n",
              "    .dataframe tbody tr th:only-of-type {\n",
              "        vertical-align: middle;\n",
              "    }\n",
              "\n",
              "    .dataframe tbody tr th {\n",
              "        vertical-align: top;\n",
              "    }\n",
              "\n",
              "    .dataframe thead th {\n",
              "        text-align: right;\n",
              "    }\n",
              "</style>\n",
              "<table border=\"1\" class=\"dataframe\">\n",
              "  <thead>\n",
              "    <tr style=\"text-align: right;\">\n",
              "      <th></th>\n",
              "      <th>text</th>\n",
              "      <th>Emotions</th>\n",
              "      <th>Emotion_id</th>\n",
              "    </tr>\n",
              "  </thead>\n",
              "  <tbody>\n",
              "    <tr>\n",
              "      <th>0</th>\n",
              "      <td>That game hurt.</td>\n",
              "      <td>sadness</td>\n",
              "      <td>26</td>\n",
              "    </tr>\n",
              "    <tr>\n",
              "      <th>1</th>\n",
              "      <td>You do right, if you don't care then fuck 'em!</td>\n",
              "      <td>neutral</td>\n",
              "      <td>20</td>\n",
              "    </tr>\n",
              "    <tr>\n",
              "      <th>2</th>\n",
              "      <td>Man I love reddit.</td>\n",
              "      <td>love</td>\n",
              "      <td>18</td>\n",
              "    </tr>\n",
              "    <tr>\n",
              "      <th>3</th>\n",
              "      <td>[NAME] was nowhere near them, he was by the Fa...</td>\n",
              "      <td>neutral</td>\n",
              "      <td>20</td>\n",
              "    </tr>\n",
              "    <tr>\n",
              "      <th>4</th>\n",
              "      <td>Right? Considering it’s such an important docu...</td>\n",
              "      <td>gratitude</td>\n",
              "      <td>15</td>\n",
              "    </tr>\n",
              "    <tr>\n",
              "      <th>...</th>\n",
              "      <td>...</td>\n",
              "      <td>...</td>\n",
              "      <td>...</td>\n",
              "    </tr>\n",
              "    <tr>\n",
              "      <th>46736</th>\n",
              "      <td>Oh [NAME] i forgot about those. I used to love...</td>\n",
              "      <td>love</td>\n",
              "      <td>18</td>\n",
              "    </tr>\n",
              "    <tr>\n",
              "      <th>46737</th>\n",
              "      <td>I didn’t even notice that one. I noticed the b...</td>\n",
              "      <td>neutral</td>\n",
              "      <td>20</td>\n",
              "    </tr>\n",
              "    <tr>\n",
              "      <th>46738</th>\n",
              "      <td>Thanks, [NAME]</td>\n",
              "      <td>gratitude</td>\n",
              "      <td>15</td>\n",
              "    </tr>\n",
              "    <tr>\n",
              "      <th>46739</th>\n",
              "      <td>Everyone likes [NAME].</td>\n",
              "      <td>love</td>\n",
              "      <td>18</td>\n",
              "    </tr>\n",
              "    <tr>\n",
              "      <th>46740</th>\n",
              "      <td>I just called the Capitol Police. They are not...</td>\n",
              "      <td>relief</td>\n",
              "      <td>24</td>\n",
              "    </tr>\n",
              "  </tbody>\n",
              "</table>\n",
              "<p>46741 rows × 3 columns</p>\n",
              "</div>"
            ],
            "text/plain": [
              "                                                    text   Emotions  \\\n",
              "0                                        That game hurt.    sadness   \n",
              "1         You do right, if you don't care then fuck 'em!    neutral   \n",
              "2                                     Man I love reddit.       love   \n",
              "3      [NAME] was nowhere near them, he was by the Fa...    neutral   \n",
              "4      Right? Considering it’s such an important docu...  gratitude   \n",
              "...                                                  ...        ...   \n",
              "46736  Oh [NAME] i forgot about those. I used to love...       love   \n",
              "46737  I didn’t even notice that one. I noticed the b...    neutral   \n",
              "46738                                     Thanks, [NAME]  gratitude   \n",
              "46739                             Everyone likes [NAME].       love   \n",
              "46740  I just called the Capitol Police. They are not...     relief   \n",
              "\n",
              "       Emotion_id  \n",
              "0              26  \n",
              "1              20  \n",
              "2              18  \n",
              "3              20  \n",
              "4              15  \n",
              "...           ...  \n",
              "46736          18  \n",
              "46737          20  \n",
              "46738          15  \n",
              "46739          18  \n",
              "46740          24  \n",
              "\n",
              "[46741 rows x 3 columns]"
            ]
          },
          "execution_count": 22,
          "metadata": {},
          "output_type": "execute_result"
        }
      ],
      "source": [
        "data['Emotions']= emo\n",
        "\n",
        "from sklearn.preprocessing import LabelEncoder\n",
        "le = LabelEncoder()\n",
        "data['Emotion_id'] = le.fit_transform(data['Emotions'])\n",
        "\n",
        "data"
      ]
    },
    {
      "cell_type": "code",
      "execution_count": 23,
      "metadata": {
        "colab": {
          "base_uri": "https://localhost:8080/",
          "height": 358
        },
        "id": "SfDO8JNRYWOC",
        "outputId": "46f45530-0cf6-4b89-d85c-6cfa251a302a"
      },
      "outputs": [
        {
          "name": "stderr",
          "output_type": "stream",
          "text": [
            "c:\\Users\\mayur\\anaconda3\\lib\\site-packages\\seaborn\\distributions.py:2619: FutureWarning: `distplot` is a deprecated function and will be removed in a future version. Please adapt your code to use either `displot` (a figure-level function with similar flexibility) or `histplot` (an axes-level function for histograms).\n",
            "  warnings.warn(msg, FutureWarning)\n"
          ]
        },
        {
          "data": {
            "text/plain": [
              "<AxesSubplot:xlabel='Emotion_id'>"
            ]
          },
          "execution_count": 23,
          "metadata": {},
          "output_type": "execute_result"
        },
        {
          "data": {
            "image/png": "[encoded data removed]",
            "text/plain": [
              "<Figure size 640x480 with 1 Axes>"
            ]
          },
          "metadata": {},
          "output_type": "display_data"
        }
      ],
      "source": [
        "from seaborn import distplot\n",
        "\n",
        "distplot(data['Emotion_id'], kde=False, color='red', bins=100)"
      ]
    },
    {
      "cell_type": "markdown",
      "metadata": {
        "id": "0urO_Hbs2yxu"
      },
      "source": [
        "Preprocessing the data"
      ]
    },
    {
      "cell_type": "code",
      "execution_count": 24,
      "metadata": {
        "id": "cyd9zK7t0NB7"
      },
      "outputs": [],
      "source": [
        "def text_lowercase(text):\n",
        "\treturn text.lower()\n",
        " \n",
        "import string\n",
        "# remove punctuation\n",
        "def remove_punctuation(text):\n",
        "\treturn text.translate(str.maketrans('', '', string.punctuation))"
      ]
    },
    {
      "cell_type": "markdown",
      "metadata": {
        "id": "Z_XlZLz23jrL"
      },
      "source": [
        "Removing stop words"
      ]
    },
    {
      "cell_type": "code",
      "execution_count": 25,
      "metadata": {
        "id": "jZsrNIiM3WLh"
      },
      "outputs": [],
      "source": [
        "from nltk.corpus import stopwords\n",
        "from nltk.tokenize import word_tokenize\n",
        "from nltk.stem.porter import PorterStemmer\n",
        "\n",
        "stemmer = PorterStemmer()\n",
        "# remove stopwords function\n",
        "def remove_stopwords_tokenize_and_stem(text):\n",
        "\tstop_words = set(stopwords.words(\"english\"))\n",
        "\tword_tokens = word_tokenize(text)\n",
        "\tfiltered_text = [word for word in word_tokens if word not in stop_words]\n",
        "\tstems = [stemmer.stem(word) for word in filtered_text]\n",
        "\treturn stems"
      ]
    },
    {
      "cell_type": "markdown",
      "metadata": {
        "id": "j6xVzmzq3fnh"
      },
      "source": [
        "Stemming the data"
      ]
    },
    {
      "cell_type": "code",
      "execution_count": 26,
      "metadata": {
        "id": "tSZINYhw03fV"
      },
      "outputs": [],
      "source": [
        "from nltk.stem.porter import PorterStemmer\n",
        "from nltk.tokenize import word_tokenize\n",
        "stemmer = PorterStemmer()\n",
        "\n",
        "# stem words in the list of tokenized words\n",
        "def stem_words(text):\n",
        "\tword_tokens = word_tokenize(text)\n",
        "\tstems = [stemmer.stem(word) for word in word_tokens]\n",
        "\treturn stems"
      ]
    },
    {
      "cell_type": "code",
      "execution_count": 27,
      "metadata": {
        "id": "MO_eb7Dg-yyn"
      },
      "outputs": [],
      "source": [
        "def text_preprocess(text):\n",
        "  t = remove_punctuation(text)\n",
        "  t = text_lowercase(t)\n",
        "  t = remove_stopwords_tokenize_and_stem(t)\n",
        "  return t"
      ]
    },
    {
      "cell_type": "code",
      "execution_count": 28,
      "metadata": {
        "colab": {
          "base_uri": "https://localhost:8080/",
          "height": 424
        },
        "id": "q5wgW7AWFgUK",
        "outputId": "644f855e-f9d6-417c-c9f7-96b765ccbf32"
      },
      "outputs": [
        {
          "data": {
            "text/html": [
              "<div>\n",
              "<style scoped>\n",
              "    .dataframe tbody tr th:only-of-type {\n",
              "        vertical-align: middle;\n",
              "    }\n",
              "\n",
              "    .dataframe tbody tr th {\n",
              "        vertical-align: top;\n",
              "    }\n",
              "\n",
              "    .dataframe thead th {\n",
              "        text-align: right;\n",
              "    }\n",
              "</style>\n",
              "<table border=\"1\" class=\"dataframe\">\n",
              "  <thead>\n",
              "    <tr style=\"text-align: right;\">\n",
              "      <th></th>\n",
              "      <th>text</th>\n",
              "      <th>Emotions</th>\n",
              "      <th>Emotion_id</th>\n",
              "    </tr>\n",
              "  </thead>\n",
              "  <tbody>\n",
              "    <tr>\n",
              "      <th>0</th>\n",
              "      <td>That game hurt.</td>\n",
              "      <td>sadness</td>\n",
              "      <td>26</td>\n",
              "    </tr>\n",
              "    <tr>\n",
              "      <th>1</th>\n",
              "      <td>You do right, if you don't care then fuck 'em!</td>\n",
              "      <td>neutral</td>\n",
              "      <td>20</td>\n",
              "    </tr>\n",
              "    <tr>\n",
              "      <th>2</th>\n",
              "      <td>Man I love reddit.</td>\n",
              "      <td>love</td>\n",
              "      <td>18</td>\n",
              "    </tr>\n",
              "    <tr>\n",
              "      <th>3</th>\n",
              "      <td>[NAME] was nowhere near them, he was by the Fa...</td>\n",
              "      <td>neutral</td>\n",
              "      <td>20</td>\n",
              "    </tr>\n",
              "    <tr>\n",
              "      <th>4</th>\n",
              "      <td>Right? Considering it’s such an important docu...</td>\n",
              "      <td>gratitude</td>\n",
              "      <td>15</td>\n",
              "    </tr>\n",
              "    <tr>\n",
              "      <th>...</th>\n",
              "      <td>...</td>\n",
              "      <td>...</td>\n",
              "      <td>...</td>\n",
              "    </tr>\n",
              "    <tr>\n",
              "      <th>46736</th>\n",
              "      <td>Oh [NAME] i forgot about those. I used to love...</td>\n",
              "      <td>love</td>\n",
              "      <td>18</td>\n",
              "    </tr>\n",
              "    <tr>\n",
              "      <th>46737</th>\n",
              "      <td>I didn’t even notice that one. I noticed the b...</td>\n",
              "      <td>neutral</td>\n",
              "      <td>20</td>\n",
              "    </tr>\n",
              "    <tr>\n",
              "      <th>46738</th>\n",
              "      <td>Thanks, [NAME]</td>\n",
              "      <td>gratitude</td>\n",
              "      <td>15</td>\n",
              "    </tr>\n",
              "    <tr>\n",
              "      <th>46739</th>\n",
              "      <td>Everyone likes [NAME].</td>\n",
              "      <td>love</td>\n",
              "      <td>18</td>\n",
              "    </tr>\n",
              "    <tr>\n",
              "      <th>46740</th>\n",
              "      <td>I just called the Capitol Police. They are not...</td>\n",
              "      <td>relief</td>\n",
              "      <td>24</td>\n",
              "    </tr>\n",
              "  </tbody>\n",
              "</table>\n",
              "<p>46741 rows × 3 columns</p>\n",
              "</div>"
            ],
            "text/plain": [
              "                                                    text   Emotions  \\\n",
              "0                                        That game hurt.    sadness   \n",
              "1         You do right, if you don't care then fuck 'em!    neutral   \n",
              "2                                     Man I love reddit.       love   \n",
              "3      [NAME] was nowhere near them, he was by the Fa...    neutral   \n",
              "4      Right? Considering it’s such an important docu...  gratitude   \n",
              "...                                                  ...        ...   \n",
              "46736  Oh [NAME] i forgot about those. I used to love...       love   \n",
              "46737  I didn’t even notice that one. I noticed the b...    neutral   \n",
              "46738                                     Thanks, [NAME]  gratitude   \n",
              "46739                             Everyone likes [NAME].       love   \n",
              "46740  I just called the Capitol Police. They are not...     relief   \n",
              "\n",
              "       Emotion_id  \n",
              "0              26  \n",
              "1              20  \n",
              "2              18  \n",
              "3              20  \n",
              "4              15  \n",
              "...           ...  \n",
              "46736          18  \n",
              "46737          20  \n",
              "46738          15  \n",
              "46739          18  \n",
              "46740          24  \n",
              "\n",
              "[46741 rows x 3 columns]"
            ]
          },
          "execution_count": 28,
          "metadata": {},
          "output_type": "execute_result"
        }
      ],
      "source": [
        "data"
      ]
    },
    {
      "cell_type": "code",
      "execution_count": 29,
      "metadata": {
        "id": "hHGpycsfAMeb"
      },
      "outputs": [],
      "source": [
        "data['tokenized'] = data.apply(lambda x: text_preprocess(x['text']), axis=1)"
      ]
    },
    {
      "cell_type": "code",
      "execution_count": 30,
      "metadata": {},
      "outputs": [
        {
          "data": {
            "text/html": [
              "<div>\n",
              "<style scoped>\n",
              "    .dataframe tbody tr th:only-of-type {\n",
              "        vertical-align: middle;\n",
              "    }\n",
              "\n",
              "    .dataframe tbody tr th {\n",
              "        vertical-align: top;\n",
              "    }\n",
              "\n",
              "    .dataframe thead th {\n",
              "        text-align: right;\n",
              "    }\n",
              "</style>\n",
              "<table border=\"1\" class=\"dataframe\">\n",
              "  <thead>\n",
              "    <tr style=\"text-align: right;\">\n",
              "      <th></th>\n",
              "      <th>text</th>\n",
              "      <th>Emotions</th>\n",
              "      <th>Emotion_id</th>\n",
              "      <th>tokenized</th>\n",
              "    </tr>\n",
              "  </thead>\n",
              "  <tbody>\n",
              "    <tr>\n",
              "      <th>0</th>\n",
              "      <td>That game hurt.</td>\n",
              "      <td>sadness</td>\n",
              "      <td>26</td>\n",
              "      <td>[game, hurt]</td>\n",
              "    </tr>\n",
              "    <tr>\n",
              "      <th>1</th>\n",
              "      <td>You do right, if you don't care then fuck 'em!</td>\n",
              "      <td>neutral</td>\n",
              "      <td>20</td>\n",
              "      <td>[right, dont, care, fuck, em]</td>\n",
              "    </tr>\n",
              "    <tr>\n",
              "      <th>2</th>\n",
              "      <td>Man I love reddit.</td>\n",
              "      <td>love</td>\n",
              "      <td>18</td>\n",
              "      <td>[man, love, reddit]</td>\n",
              "    </tr>\n",
              "    <tr>\n",
              "      <th>3</th>\n",
              "      <td>[NAME] was nowhere near them, he was by the Fa...</td>\n",
              "      <td>neutral</td>\n",
              "      <td>20</td>\n",
              "      <td>[name, nowher, near, falcon]</td>\n",
              "    </tr>\n",
              "    <tr>\n",
              "      <th>4</th>\n",
              "      <td>Right? Considering it’s such an important docu...</td>\n",
              "      <td>gratitude</td>\n",
              "      <td>15</td>\n",
              "      <td>[right, consid, ’, import, document, know, dam...</td>\n",
              "    </tr>\n",
              "    <tr>\n",
              "      <th>...</th>\n",
              "      <td>...</td>\n",
              "      <td>...</td>\n",
              "      <td>...</td>\n",
              "      <td>...</td>\n",
              "    </tr>\n",
              "    <tr>\n",
              "      <th>46736</th>\n",
              "      <td>Oh [NAME] i forgot about those. I used to love...</td>\n",
              "      <td>love</td>\n",
              "      <td>18</td>\n",
              "      <td>[oh, name, forgot, use, love]</td>\n",
              "    </tr>\n",
              "    <tr>\n",
              "      <th>46737</th>\n",
              "      <td>I didn’t even notice that one. I noticed the b...</td>\n",
              "      <td>neutral</td>\n",
              "      <td>20</td>\n",
              "      <td>[’, even, notic, one, notic, bottom, right, one]</td>\n",
              "    </tr>\n",
              "    <tr>\n",
              "      <th>46738</th>\n",
              "      <td>Thanks, [NAME]</td>\n",
              "      <td>gratitude</td>\n",
              "      <td>15</td>\n",
              "      <td>[thank, name]</td>\n",
              "    </tr>\n",
              "    <tr>\n",
              "      <th>46739</th>\n",
              "      <td>Everyone likes [NAME].</td>\n",
              "      <td>love</td>\n",
              "      <td>18</td>\n",
              "      <td>[everyon, like, name]</td>\n",
              "    </tr>\n",
              "    <tr>\n",
              "      <th>46740</th>\n",
              "      <td>I just called the Capitol Police. They are not...</td>\n",
              "      <td>relief</td>\n",
              "      <td>24</td>\n",
              "      <td>[call, capitol, polic, affect, shutdown, name,...</td>\n",
              "    </tr>\n",
              "  </tbody>\n",
              "</table>\n",
              "<p>46741 rows × 4 columns</p>\n",
              "</div>"
            ],
            "text/plain": [
              "                                                    text   Emotions  \\\n",
              "0                                        That game hurt.    sadness   \n",
              "1         You do right, if you don't care then fuck 'em!    neutral   \n",
              "2                                     Man I love reddit.       love   \n",
              "3      [NAME] was nowhere near them, he was by the Fa...    neutral   \n",
              "4      Right? Considering it’s such an important docu...  gratitude   \n",
              "...                                                  ...        ...   \n",
              "46736  Oh [NAME] i forgot about those. I used to love...       love   \n",
              "46737  I didn’t even notice that one. I noticed the b...    neutral   \n",
              "46738                                     Thanks, [NAME]  gratitude   \n",
              "46739                             Everyone likes [NAME].       love   \n",
              "46740  I just called the Capitol Police. They are not...     relief   \n",
              "\n",
              "       Emotion_id                                          tokenized  \n",
              "0              26                                       [game, hurt]  \n",
              "1              20                      [right, dont, care, fuck, em]  \n",
              "2              18                                [man, love, reddit]  \n",
              "3              20                       [name, nowher, near, falcon]  \n",
              "4              15  [right, consid, ’, import, document, know, dam...  \n",
              "...           ...                                                ...  \n",
              "46736          18                      [oh, name, forgot, use, love]  \n",
              "46737          20   [’, even, notic, one, notic, bottom, right, one]  \n",
              "46738          15                                      [thank, name]  \n",
              "46739          18                              [everyon, like, name]  \n",
              "46740          24  [call, capitol, polic, affect, shutdown, name,...  \n",
              "\n",
              "[46741 rows x 4 columns]"
            ]
          },
          "execution_count": 30,
          "metadata": {},
          "output_type": "execute_result"
        }
      ],
      "source": [
        "data"
      ]
    },
    {
      "attachments": {},
      "cell_type": "markdown",
      "metadata": {},
      "source": [
        "**Removing rows in which the token list is empty (this occurs due to stemming)**"
      ]
    },
    {
      "cell_type": "code",
      "execution_count": 31,
      "metadata": {
        "colab": {
          "base_uri": "https://localhost:8080/",
          "height": 424
        },
        "id": "38-lhBSlAZ9n",
        "outputId": "7c064135-743c-4de4-8a4c-37e2d0a6cb68"
      },
      "outputs": [],
      "source": [
        "emp_token_ind = []\n",
        "\n",
        "tokens = data['tokenized'].to_numpy()\n",
        "for i in range(0, tokens.size):\n",
        "    if len(tokens[i]) == 0:\n",
        "        emp_token_ind.append(i)\n",
        "\n",
        "data.drop(emp_token_ind ,axis=0, inplace=True)\n",
        "data.reset_index(drop=True, inplace=True)"
      ]
    },
    {
      "cell_type": "code",
      "execution_count": 32,
      "metadata": {},
      "outputs": [
        {
          "data": {
            "text/html": [
              "<div>\n",
              "<style scoped>\n",
              "    .dataframe tbody tr th:only-of-type {\n",
              "        vertical-align: middle;\n",
              "    }\n",
              "\n",
              "    .dataframe tbody tr th {\n",
              "        vertical-align: top;\n",
              "    }\n",
              "\n",
              "    .dataframe thead th {\n",
              "        text-align: right;\n",
              "    }\n",
              "</style>\n",
              "<table border=\"1\" class=\"dataframe\">\n",
              "  <thead>\n",
              "    <tr style=\"text-align: right;\">\n",
              "      <th></th>\n",
              "      <th>text</th>\n",
              "      <th>Emotions</th>\n",
              "      <th>Emotion_id</th>\n",
              "      <th>tokenized</th>\n",
              "    </tr>\n",
              "  </thead>\n",
              "  <tbody>\n",
              "    <tr>\n",
              "      <th>0</th>\n",
              "      <td>That game hurt.</td>\n",
              "      <td>sadness</td>\n",
              "      <td>26</td>\n",
              "      <td>[game, hurt]</td>\n",
              "    </tr>\n",
              "    <tr>\n",
              "      <th>1</th>\n",
              "      <td>You do right, if you don't care then fuck 'em!</td>\n",
              "      <td>neutral</td>\n",
              "      <td>20</td>\n",
              "      <td>[right, dont, care, fuck, em]</td>\n",
              "    </tr>\n",
              "    <tr>\n",
              "      <th>2</th>\n",
              "      <td>Man I love reddit.</td>\n",
              "      <td>love</td>\n",
              "      <td>18</td>\n",
              "      <td>[man, love, reddit]</td>\n",
              "    </tr>\n",
              "    <tr>\n",
              "      <th>3</th>\n",
              "      <td>[NAME] was nowhere near them, he was by the Fa...</td>\n",
              "      <td>neutral</td>\n",
              "      <td>20</td>\n",
              "      <td>[name, nowher, near, falcon]</td>\n",
              "    </tr>\n",
              "    <tr>\n",
              "      <th>4</th>\n",
              "      <td>Right? Considering it’s such an important docu...</td>\n",
              "      <td>gratitude</td>\n",
              "      <td>15</td>\n",
              "      <td>[right, consid, ’, import, document, know, dam...</td>\n",
              "    </tr>\n",
              "    <tr>\n",
              "      <th>...</th>\n",
              "      <td>...</td>\n",
              "      <td>...</td>\n",
              "      <td>...</td>\n",
              "      <td>...</td>\n",
              "    </tr>\n",
              "    <tr>\n",
              "      <th>46637</th>\n",
              "      <td>Oh [NAME] i forgot about those. I used to love...</td>\n",
              "      <td>love</td>\n",
              "      <td>18</td>\n",
              "      <td>[oh, name, forgot, use, love]</td>\n",
              "    </tr>\n",
              "    <tr>\n",
              "      <th>46638</th>\n",
              "      <td>I didn’t even notice that one. I noticed the b...</td>\n",
              "      <td>neutral</td>\n",
              "      <td>20</td>\n",
              "      <td>[’, even, notic, one, notic, bottom, right, one]</td>\n",
              "    </tr>\n",
              "    <tr>\n",
              "      <th>46639</th>\n",
              "      <td>Thanks, [NAME]</td>\n",
              "      <td>gratitude</td>\n",
              "      <td>15</td>\n",
              "      <td>[thank, name]</td>\n",
              "    </tr>\n",
              "    <tr>\n",
              "      <th>46640</th>\n",
              "      <td>Everyone likes [NAME].</td>\n",
              "      <td>love</td>\n",
              "      <td>18</td>\n",
              "      <td>[everyon, like, name]</td>\n",
              "    </tr>\n",
              "    <tr>\n",
              "      <th>46641</th>\n",
              "      <td>I just called the Capitol Police. They are not...</td>\n",
              "      <td>relief</td>\n",
              "      <td>24</td>\n",
              "      <td>[call, capitol, polic, affect, shutdown, name,...</td>\n",
              "    </tr>\n",
              "  </tbody>\n",
              "</table>\n",
              "<p>46642 rows × 4 columns</p>\n",
              "</div>"
            ],
            "text/plain": [
              "                                                    text   Emotions  \\\n",
              "0                                        That game hurt.    sadness   \n",
              "1         You do right, if you don't care then fuck 'em!    neutral   \n",
              "2                                     Man I love reddit.       love   \n",
              "3      [NAME] was nowhere near them, he was by the Fa...    neutral   \n",
              "4      Right? Considering it’s such an important docu...  gratitude   \n",
              "...                                                  ...        ...   \n",
              "46637  Oh [NAME] i forgot about those. I used to love...       love   \n",
              "46638  I didn’t even notice that one. I noticed the b...    neutral   \n",
              "46639                                     Thanks, [NAME]  gratitude   \n",
              "46640                             Everyone likes [NAME].       love   \n",
              "46641  I just called the Capitol Police. They are not...     relief   \n",
              "\n",
              "       Emotion_id                                          tokenized  \n",
              "0              26                                       [game, hurt]  \n",
              "1              20                      [right, dont, care, fuck, em]  \n",
              "2              18                                [man, love, reddit]  \n",
              "3              20                       [name, nowher, near, falcon]  \n",
              "4              15  [right, consid, ’, import, document, know, dam...  \n",
              "...           ...                                                ...  \n",
              "46637          18                      [oh, name, forgot, use, love]  \n",
              "46638          20   [’, even, notic, one, notic, bottom, right, one]  \n",
              "46639          15                                      [thank, name]  \n",
              "46640          18                              [everyon, like, name]  \n",
              "46641          24  [call, capitol, polic, affect, shutdown, name,...  \n",
              "\n",
              "[46642 rows x 4 columns]"
            ]
          },
          "execution_count": 32,
          "metadata": {},
          "output_type": "execute_result"
        }
      ],
      "source": [
        "data"
      ]
    },
    {
      "cell_type": "code",
      "execution_count": 33,
      "metadata": {
        "id": "xzQqKXQaCten"
      },
      "outputs": [],
      "source": [
        "import gensim\n",
        "from gensim.models import Word2Vec, KeyedVectors\n",
        "\n",
        "model = Word2Vec(window=5, min_count=1, workers=4, sg=0)\n",
        "\n",
        "model.build_vocab(data['tokenized'], progress_per=1000)\n",
        "model.train(data['tokenized'], total_examples=model.corpus_count, epochs=model.epochs)\n",
        "\n",
        "model.save(\"./text.model\")"
      ]
    },
    {
      "cell_type": "code",
      "execution_count": 34,
      "metadata": {
        "colab": {
          "base_uri": "https://localhost:8080/"
        },
        "id": "31hSgLXaCyNp",
        "outputId": "4cf18d0e-e2ad-43cb-cae4-268c7ef5988c"
      },
      "outputs": [
        {
          "data": {
            "text/plain": [
              "array([-0.24714997,  0.3763563 ,  0.33402038,  0.29230085,  0.21662268,\n",
              "       -1.0962281 ,  0.22528604,  1.2550234 , -0.847237  , -0.45665532,\n",
              "       -0.38500008, -0.6951548 , -0.23915628,  0.2900486 ,  0.19498497,\n",
              "       -0.35366502, -0.17187366, -0.52492404, -0.12401633, -1.1418847 ,\n",
              "        0.38822365,  0.2088257 ,  0.48258322, -0.6513941 , -0.1239507 ,\n",
              "       -0.01371156, -0.08657651, -0.41938484, -0.63562953, -0.05809261,\n",
              "        0.62522644,  0.17146182,  0.40953398, -0.48190928, -0.02311178,\n",
              "        0.9093884 , -0.18507874, -0.57489276, -0.46909946, -1.0228376 ,\n",
              "        0.15946528, -0.43890655, -0.36876902,  0.17435479,  0.43711066,\n",
              "       -0.28138006, -0.31235   , -0.1697917 ,  0.34997404,  0.64377373,\n",
              "        0.3678166 , -0.23366395, -0.31301308, -0.00157481, -0.42875054,\n",
              "        0.3207389 ,  0.32699215, -0.00568381, -0.6068968 ,  0.19927424,\n",
              "        0.03346918,  0.3128084 , -0.21775217, -0.0616007 , -0.46058285,\n",
              "        0.48575932,  0.14685485,  0.58328986, -0.9125644 ,  0.733788  ,\n",
              "       -0.1397266 ,  0.27231696,  0.36714566,  0.05906047,  0.76793283,\n",
              "        0.04506383,  0.4258177 , -0.09757695, -0.4121753 ,  0.33990076,\n",
              "        0.04039607, -0.01435518, -0.40320396,  0.6899398 , -0.2560773 ,\n",
              "       -0.16431862,  0.12316035,  0.64387226,  0.6118978 ,  0.22911072,\n",
              "        0.88614374,  0.2607857 ,  0.19162127, -0.18562934,  0.96233463,\n",
              "        0.67253035,  0.41155958, -0.39739633,  0.12441532, -0.13037243],\n",
              "      dtype=float32)"
            ]
          },
          "execution_count": 34,
          "metadata": {},
          "output_type": "execute_result"
        }
      ],
      "source": [
        "model.wv.most_similar('best')\n",
        "(model.wv['game'] + model.wv['hurt'])/2"
      ]
    },
    {
      "attachments": {},
      "cell_type": "markdown",
      "metadata": {},
      "source": [
        "Vectorize the tokenized lists"
      ]
    },
    {
      "cell_type": "code",
      "execution_count": 35,
      "metadata": {
        "colab": {
          "base_uri": "https://localhost:8080/",
          "height": 424
        },
        "id": "zkqxZZCSEv88",
        "outputId": "03645b33-11e4-457d-8efa-f78668cdf3d2"
      },
      "outputs": [],
      "source": [
        "inputs = []\n",
        "\n",
        "for token in data['tokenized']:\n",
        "    inputs.append(model.wv[token])\n",
        "\n",
        "data['Inputs'] = inputs\n"
      ]
    },
    {
      "cell_type": "code",
      "execution_count": 36,
      "metadata": {},
      "outputs": [
        {
          "name": "stdout",
          "output_type": "stream",
          "text": [
            "[[-3.23168844e-01  2.93941408e-01  5.16052067e-01  4.31392968e-01\n",
            "   3.07961464e-01 -1.35991597e+00  3.66283953e-01  1.30305529e+00\n",
            "  -1.17543983e+00 -5.01802146e-01 -5.46562552e-01 -6.59910202e-01\n",
            "  -2.71060824e-01  3.26410592e-01  1.71859011e-01 -4.69478697e-01\n",
            "  -3.61605942e-01 -6.10571921e-01 -3.11689198e-01 -1.31680393e+00\n",
            "   4.83299732e-01  2.05271870e-01  5.70640326e-01 -8.42132449e-01\n",
            "  -1.68263108e-01 -6.78365901e-02  1.26497401e-03 -5.23867011e-01\n",
            "  -7.49642789e-01 -1.20785445e-01  6.75441206e-01  3.39838237e-01\n",
            "   5.58207631e-01 -4.32472378e-01 -2.46664584e-02  1.20020080e+00\n",
            "  -3.32178891e-01 -6.49456978e-01 -5.42897642e-01 -1.28680480e+00\n",
            "   1.77233458e-01 -5.14433980e-01 -4.33529496e-01  2.85147995e-01\n",
            "   4.28862423e-01 -3.00640076e-01 -2.75366873e-01 -3.31198841e-01\n",
            "   4.44263935e-01  8.36629450e-01  5.01316905e-01 -1.24628775e-01\n",
            "  -3.46174210e-01  1.40420645e-01 -5.31027973e-01  4.36797500e-01\n",
            "   3.37894589e-01 -2.10626610e-02 -7.09745288e-01  7.96795338e-02\n",
            "   1.20332614e-01  4.05079871e-01 -3.30616087e-01 -2.00900689e-01\n",
            "  -5.32214463e-01  4.55253720e-01  1.83762491e-01  6.74097717e-01\n",
            "  -1.10411012e+00  7.58913040e-01  5.35890460e-02  3.15700442e-01\n",
            "   2.44310215e-01  1.37927562e-01  8.82385194e-01 -5.89883188e-04\n",
            "   6.14035785e-01 -6.86025769e-02 -4.90113080e-01  4.38495874e-01\n",
            "   1.85104564e-01  1.58498704e-01 -2.75430799e-01  7.68628597e-01\n",
            "  -3.04300874e-01 -1.30729645e-01  8.95287190e-03  8.67566764e-01\n",
            "   6.50639772e-01  2.77076900e-01  1.08244896e+00  3.05026352e-01\n",
            "   2.53556281e-01 -3.40998560e-01  1.05964661e+00  8.71103048e-01\n",
            "   4.03671265e-01 -3.78336102e-01  1.58710003e-01 -2.18641475e-01]\n",
            " [-1.71131089e-01  4.58771229e-01  1.51988700e-01  1.53208718e-01\n",
            "   1.25283882e-01 -8.32540393e-01  8.42881128e-02  1.20699143e+00\n",
            "  -5.19034147e-01 -4.11508501e-01 -2.23437607e-01 -7.30399370e-01\n",
            "  -2.07251713e-01  2.53686577e-01  2.18110919e-01 -2.37851337e-01\n",
            "   1.78586151e-02 -4.39276099e-01  6.36565462e-02 -9.66965437e-01\n",
            "   2.93147534e-01  2.12379545e-01  3.94526124e-01 -4.60655749e-01\n",
            "  -7.96383023e-02  4.04134728e-02 -1.74418002e-01 -3.14902693e-01\n",
            "  -5.21616340e-01  4.60023386e-03  5.75011671e-01  3.08539905e-03\n",
            "   2.60860324e-01 -5.31346142e-01 -2.15571001e-02  6.18576050e-01\n",
            "  -3.79785970e-02 -5.00328541e-01 -3.95301282e-01 -7.58870363e-01\n",
            "   1.41697124e-01 -3.63379151e-01 -3.04008543e-01  6.35615811e-02\n",
            "   4.45358902e-01 -2.62120068e-01 -3.49333137e-01 -8.38457048e-03\n",
            "   2.55684167e-01  4.50917989e-01  2.34316275e-01 -3.42699111e-01\n",
            "  -2.79851973e-01 -1.43570259e-01 -3.26473117e-01  2.04680294e-01\n",
            "   3.16089720e-01  9.69504192e-03 -5.04048347e-01  3.18868965e-01\n",
            "  -5.33942617e-02  2.20536932e-01 -1.04888260e-01  7.76992962e-02\n",
            "  -3.88951242e-01  5.16264915e-01  1.09947197e-01  4.92481947e-01\n",
            "  -7.21018672e-01  7.08663046e-01 -3.33042234e-01  2.28933468e-01\n",
            "   4.89981115e-01 -1.98066160e-02  6.53480470e-01  9.07175466e-02\n",
            "   2.37599611e-01 -1.26551315e-01 -3.34237516e-01  2.41305649e-01\n",
            "  -1.04312420e-01 -1.87209070e-01 -5.30977130e-01  6.11250997e-01\n",
            "  -2.07853675e-01 -1.97907612e-01  2.37367839e-01  4.20177758e-01\n",
            "   5.73155940e-01  1.81144521e-01  6.89838529e-01  2.16545060e-01\n",
            "   1.29686251e-01 -3.02601010e-02  8.65022600e-01  4.73957628e-01\n",
            "   4.19447869e-01 -4.16456550e-01  9.01206359e-02 -4.21033911e-02]]\n"
          ]
        }
      ],
      "source": [
        "print(data['Inputs'][0])"
      ]
    },
    {
      "attachments": {},
      "cell_type": "markdown",
      "metadata": {},
      "source": [
        "Perform **Average Word2Vec** on the input column"
      ]
    },
    {
      "cell_type": "code",
      "execution_count": 37,
      "metadata": {},
      "outputs": [],
      "source": [
        "inputs = []\n",
        "for input in data['Inputs']:\n",
        "    sum = 0\n",
        "    for i in input:\n",
        "        sum = sum + i\n",
        "    avg = sum/len(input)\n",
        "    inputs.append(avg)\n",
        "\n",
        "data['Inputs'] = inputs\n"
      ]
    },
    {
      "cell_type": "code",
      "execution_count": 39,
      "metadata": {},
      "outputs": [
        {
          "data": {
            "text/html": [
              "<div>\n",
              "<style scoped>\n",
              "    .dataframe tbody tr th:only-of-type {\n",
              "        vertical-align: middle;\n",
              "    }\n",
              "\n",
              "    .dataframe tbody tr th {\n",
              "        vertical-align: top;\n",
              "    }\n",
              "\n",
              "    .dataframe thead th {\n",
              "        text-align: right;\n",
              "    }\n",
              "</style>\n",
              "<table border=\"1\" class=\"dataframe\">\n",
              "  <thead>\n",
              "    <tr style=\"text-align: right;\">\n",
              "      <th></th>\n",
              "      <th>text</th>\n",
              "      <th>Emotions</th>\n",
              "      <th>Emotion_id</th>\n",
              "      <th>tokenized</th>\n",
              "      <th>Inputs</th>\n",
              "    </tr>\n",
              "  </thead>\n",
              "  <tbody>\n",
              "    <tr>\n",
              "      <th>0</th>\n",
              "      <td>That game hurt.</td>\n",
              "      <td>sadness</td>\n",
              "      <td>26</td>\n",
              "      <td>[game, hurt]</td>\n",
              "      <td>[-0.24714997, 0.3763563, 0.33402038, 0.2923008...</td>\n",
              "    </tr>\n",
              "    <tr>\n",
              "      <th>1</th>\n",
              "      <td>You do right, if you don't care then fuck 'em!</td>\n",
              "      <td>neutral</td>\n",
              "      <td>20</td>\n",
              "      <td>[right, dont, care, fuck, em]</td>\n",
              "      <td>[-0.07457395, 0.6170758, 0.11815772, 0.1322848...</td>\n",
              "    </tr>\n",
              "    <tr>\n",
              "      <th>2</th>\n",
              "      <td>Man I love reddit.</td>\n",
              "      <td>love</td>\n",
              "      <td>18</td>\n",
              "      <td>[man, love, reddit]</td>\n",
              "      <td>[-0.21043481, 0.45753253, 0.21583895, 0.302227...</td>\n",
              "    </tr>\n",
              "    <tr>\n",
              "      <th>3</th>\n",
              "      <td>[NAME] was nowhere near them, he was by the Fa...</td>\n",
              "      <td>neutral</td>\n",
              "      <td>20</td>\n",
              "      <td>[name, nowher, near, falcon]</td>\n",
              "      <td>[-0.085021414, 0.15487182, 0.18884279, 0.20029...</td>\n",
              "    </tr>\n",
              "    <tr>\n",
              "      <th>4</th>\n",
              "      <td>Right? Considering it’s such an important docu...</td>\n",
              "      <td>gratitude</td>\n",
              "      <td>15</td>\n",
              "      <td>[right, consid, ’, import, document, know, dam...</td>\n",
              "      <td>[-0.13037217, 0.5357495, 0.07477555, 0.1476951...</td>\n",
              "    </tr>\n",
              "    <tr>\n",
              "      <th>...</th>\n",
              "      <td>...</td>\n",
              "      <td>...</td>\n",
              "      <td>...</td>\n",
              "      <td>...</td>\n",
              "      <td>...</td>\n",
              "    </tr>\n",
              "    <tr>\n",
              "      <th>46637</th>\n",
              "      <td>Oh [NAME] i forgot about those. I used to love...</td>\n",
              "      <td>love</td>\n",
              "      <td>18</td>\n",
              "      <td>[oh, name, forgot, use, love]</td>\n",
              "      <td>[-0.19152609, 0.4453457, 0.2607872, 0.31601018...</td>\n",
              "    </tr>\n",
              "    <tr>\n",
              "      <th>46638</th>\n",
              "      <td>I didn’t even notice that one. I noticed the b...</td>\n",
              "      <td>neutral</td>\n",
              "      <td>20</td>\n",
              "      <td>[’, even, notic, one, notic, bottom, right, one]</td>\n",
              "      <td>[-0.14381416, 0.58646774, 0.1676167, 0.1992540...</td>\n",
              "    </tr>\n",
              "    <tr>\n",
              "      <th>46639</th>\n",
              "      <td>Thanks, [NAME]</td>\n",
              "      <td>gratitude</td>\n",
              "      <td>15</td>\n",
              "      <td>[thank, name]</td>\n",
              "      <td>[-0.26295233, 0.36803508, 0.2292174, 0.4149090...</td>\n",
              "    </tr>\n",
              "    <tr>\n",
              "      <th>46640</th>\n",
              "      <td>Everyone likes [NAME].</td>\n",
              "      <td>love</td>\n",
              "      <td>18</td>\n",
              "      <td>[everyon, like, name]</td>\n",
              "      <td>[-0.13424815, 0.55050105, 0.21493156, 0.357237...</td>\n",
              "    </tr>\n",
              "    <tr>\n",
              "      <th>46641</th>\n",
              "      <td>I just called the Capitol Police. They are not...</td>\n",
              "      <td>relief</td>\n",
              "      <td>24</td>\n",
              "      <td>[call, capitol, polic, affect, shutdown, name,...</td>\n",
              "      <td>[-0.1455791, 0.3549135, 0.20766406, 0.19619775...</td>\n",
              "    </tr>\n",
              "  </tbody>\n",
              "</table>\n",
              "<p>46642 rows × 5 columns</p>\n",
              "</div>"
            ],
            "text/plain": [
              "                                                    text   Emotions  \\\n",
              "0                                        That game hurt.    sadness   \n",
              "1         You do right, if you don't care then fuck 'em!    neutral   \n",
              "2                                     Man I love reddit.       love   \n",
              "3      [NAME] was nowhere near them, he was by the Fa...    neutral   \n",
              "4      Right? Considering it’s such an important docu...  gratitude   \n",
              "...                                                  ...        ...   \n",
              "46637  Oh [NAME] i forgot about those. I used to love...       love   \n",
              "46638  I didn’t even notice that one. I noticed the b...    neutral   \n",
              "46639                                     Thanks, [NAME]  gratitude   \n",
              "46640                             Everyone likes [NAME].       love   \n",
              "46641  I just called the Capitol Police. They are not...     relief   \n",
              "\n",
              "       Emotion_id                                          tokenized  \\\n",
              "0              26                                       [game, hurt]   \n",
              "1              20                      [right, dont, care, fuck, em]   \n",
              "2              18                                [man, love, reddit]   \n",
              "3              20                       [name, nowher, near, falcon]   \n",
              "4              15  [right, consid, ’, import, document, know, dam...   \n",
              "...           ...                                                ...   \n",
              "46637          18                      [oh, name, forgot, use, love]   \n",
              "46638          20   [’, even, notic, one, notic, bottom, right, one]   \n",
              "46639          15                                      [thank, name]   \n",
              "46640          18                              [everyon, like, name]   \n",
              "46641          24  [call, capitol, polic, affect, shutdown, name,...   \n",
              "\n",
              "                                                  Inputs  \n",
              "0      [-0.24714997, 0.3763563, 0.33402038, 0.2923008...  \n",
              "1      [-0.07457395, 0.6170758, 0.11815772, 0.1322848...  \n",
              "2      [-0.21043481, 0.45753253, 0.21583895, 0.302227...  \n",
              "3      [-0.085021414, 0.15487182, 0.18884279, 0.20029...  \n",
              "4      [-0.13037217, 0.5357495, 0.07477555, 0.1476951...  \n",
              "...                                                  ...  \n",
              "46637  [-0.19152609, 0.4453457, 0.2607872, 0.31601018...  \n",
              "46638  [-0.14381416, 0.58646774, 0.1676167, 0.1992540...  \n",
              "46639  [-0.26295233, 0.36803508, 0.2292174, 0.4149090...  \n",
              "46640  [-0.13424815, 0.55050105, 0.21493156, 0.357237...  \n",
              "46641  [-0.1455791, 0.3549135, 0.20766406, 0.19619775...  \n",
              "\n",
              "[46642 rows x 5 columns]"
            ]
          },
          "execution_count": 39,
          "metadata": {},
          "output_type": "execute_result"
        }
      ],
      "source": [
        "data"
      ]
    },
    {
      "cell_type": "code",
      "execution_count": 40,
      "metadata": {
        "id": "dcV_ULNgITDA"
      },
      "outputs": [],
      "source": [
        "data.to_csv('tokenized_text.csv')"
      ]
    },
    {
      "cell_type": "code",
      "execution_count": 41,
      "metadata": {
        "colab": {
          "base_uri": "https://localhost:8080/",
          "height": 424
        },
        "id": "UvfWoFHtIj35",
        "outputId": "39bb3edc-6862-4f38-dcce-4a129fdb3db4"
      },
      "outputs": [
        {
          "data": {
            "text/html": [
              "<div>\n",
              "<style scoped>\n",
              "    .dataframe tbody tr th:only-of-type {\n",
              "        vertical-align: middle;\n",
              "    }\n",
              "\n",
              "    .dataframe tbody tr th {\n",
              "        vertical-align: top;\n",
              "    }\n",
              "\n",
              "    .dataframe thead th {\n",
              "        text-align: right;\n",
              "    }\n",
              "</style>\n",
              "<table border=\"1\" class=\"dataframe\">\n",
              "  <thead>\n",
              "    <tr style=\"text-align: right;\">\n",
              "      <th></th>\n",
              "      <th>Unnamed: 0</th>\n",
              "      <th>text</th>\n",
              "      <th>Emotions</th>\n",
              "      <th>Emotion_id</th>\n",
              "      <th>tokenized</th>\n",
              "      <th>Inputs</th>\n",
              "    </tr>\n",
              "  </thead>\n",
              "  <tbody>\n",
              "    <tr>\n",
              "      <th>0</th>\n",
              "      <td>0</td>\n",
              "      <td>That game hurt.</td>\n",
              "      <td>sadness</td>\n",
              "      <td>26</td>\n",
              "      <td>['game', 'hurt']</td>\n",
              "      <td>[-0.24714997  0.3763563   0.33402038  0.292300...</td>\n",
              "    </tr>\n",
              "    <tr>\n",
              "      <th>1</th>\n",
              "      <td>1</td>\n",
              "      <td>You do right, if you don't care then fuck 'em!</td>\n",
              "      <td>neutral</td>\n",
              "      <td>20</td>\n",
              "      <td>['right', 'dont', 'care', 'fuck', 'em']</td>\n",
              "      <td>[-0.07457395  0.6170758   0.11815772  0.132284...</td>\n",
              "    </tr>\n",
              "    <tr>\n",
              "      <th>2</th>\n",
              "      <td>2</td>\n",
              "      <td>Man I love reddit.</td>\n",
              "      <td>love</td>\n",
              "      <td>18</td>\n",
              "      <td>['man', 'love', 'reddit']</td>\n",
              "      <td>[-0.21043481  0.45753253  0.21583895  0.302227...</td>\n",
              "    </tr>\n",
              "    <tr>\n",
              "      <th>3</th>\n",
              "      <td>3</td>\n",
              "      <td>[NAME] was nowhere near them, he was by the Fa...</td>\n",
              "      <td>neutral</td>\n",
              "      <td>20</td>\n",
              "      <td>['name', 'nowher', 'near', 'falcon']</td>\n",
              "      <td>[-0.08502141  0.15487182  0.18884279  0.200299...</td>\n",
              "    </tr>\n",
              "    <tr>\n",
              "      <th>4</th>\n",
              "      <td>4</td>\n",
              "      <td>Right? Considering it’s such an important docu...</td>\n",
              "      <td>gratitude</td>\n",
              "      <td>15</td>\n",
              "      <td>['right', 'consid', '’', 'import', 'document',...</td>\n",
              "      <td>[-1.3037217e-01  5.3574950e-01  7.4775547e-02 ...</td>\n",
              "    </tr>\n",
              "    <tr>\n",
              "      <th>...</th>\n",
              "      <td>...</td>\n",
              "      <td>...</td>\n",
              "      <td>...</td>\n",
              "      <td>...</td>\n",
              "      <td>...</td>\n",
              "      <td>...</td>\n",
              "    </tr>\n",
              "    <tr>\n",
              "      <th>46637</th>\n",
              "      <td>46637</td>\n",
              "      <td>Oh [NAME] i forgot about those. I used to love...</td>\n",
              "      <td>love</td>\n",
              "      <td>18</td>\n",
              "      <td>['oh', 'name', 'forgot', 'use', 'love']</td>\n",
              "      <td>[-0.19152609  0.4453457   0.2607872   0.316010...</td>\n",
              "    </tr>\n",
              "    <tr>\n",
              "      <th>46638</th>\n",
              "      <td>46638</td>\n",
              "      <td>I didn’t even notice that one. I noticed the b...</td>\n",
              "      <td>neutral</td>\n",
              "      <td>20</td>\n",
              "      <td>['’', 'even', 'notic', 'one', 'notic', 'bottom...</td>\n",
              "      <td>[-0.14381416  0.58646774  0.1676167   0.199254...</td>\n",
              "    </tr>\n",
              "    <tr>\n",
              "      <th>46639</th>\n",
              "      <td>46639</td>\n",
              "      <td>Thanks, [NAME]</td>\n",
              "      <td>gratitude</td>\n",
              "      <td>15</td>\n",
              "      <td>['thank', 'name']</td>\n",
              "      <td>[-0.26295233  0.36803508  0.2292174   0.414909...</td>\n",
              "    </tr>\n",
              "    <tr>\n",
              "      <th>46640</th>\n",
              "      <td>46640</td>\n",
              "      <td>Everyone likes [NAME].</td>\n",
              "      <td>love</td>\n",
              "      <td>18</td>\n",
              "      <td>['everyon', 'like', 'name']</td>\n",
              "      <td>[-0.13424815  0.55050105  0.21493156  0.357237...</td>\n",
              "    </tr>\n",
              "    <tr>\n",
              "      <th>46641</th>\n",
              "      <td>46641</td>\n",
              "      <td>I just called the Capitol Police. They are not...</td>\n",
              "      <td>relief</td>\n",
              "      <td>24</td>\n",
              "      <td>['call', 'capitol', 'polic', 'affect', 'shutdo...</td>\n",
              "      <td>[-0.1455791   0.3549135   0.20766406  0.196197...</td>\n",
              "    </tr>\n",
              "  </tbody>\n",
              "</table>\n",
              "<p>46642 rows × 6 columns</p>\n",
              "</div>"
            ],
            "text/plain": [
              "       Unnamed: 0                                               text  \\\n",
              "0               0                                    That game hurt.   \n",
              "1               1     You do right, if you don't care then fuck 'em!   \n",
              "2               2                                 Man I love reddit.   \n",
              "3               3  [NAME] was nowhere near them, he was by the Fa...   \n",
              "4               4  Right? Considering it’s such an important docu...   \n",
              "...           ...                                                ...   \n",
              "46637       46637  Oh [NAME] i forgot about those. I used to love...   \n",
              "46638       46638  I didn’t even notice that one. I noticed the b...   \n",
              "46639       46639                                     Thanks, [NAME]   \n",
              "46640       46640                             Everyone likes [NAME].   \n",
              "46641       46641  I just called the Capitol Police. They are not...   \n",
              "\n",
              "        Emotions  Emotion_id  \\\n",
              "0        sadness          26   \n",
              "1        neutral          20   \n",
              "2           love          18   \n",
              "3        neutral          20   \n",
              "4      gratitude          15   \n",
              "...          ...         ...   \n",
              "46637       love          18   \n",
              "46638    neutral          20   \n",
              "46639  gratitude          15   \n",
              "46640       love          18   \n",
              "46641     relief          24   \n",
              "\n",
              "                                               tokenized  \\\n",
              "0                                       ['game', 'hurt']   \n",
              "1                ['right', 'dont', 'care', 'fuck', 'em']   \n",
              "2                              ['man', 'love', 'reddit']   \n",
              "3                   ['name', 'nowher', 'near', 'falcon']   \n",
              "4      ['right', 'consid', '’', 'import', 'document',...   \n",
              "...                                                  ...   \n",
              "46637            ['oh', 'name', 'forgot', 'use', 'love']   \n",
              "46638  ['’', 'even', 'notic', 'one', 'notic', 'bottom...   \n",
              "46639                                  ['thank', 'name']   \n",
              "46640                        ['everyon', 'like', 'name']   \n",
              "46641  ['call', 'capitol', 'polic', 'affect', 'shutdo...   \n",
              "\n",
              "                                                  Inputs  \n",
              "0      [-0.24714997  0.3763563   0.33402038  0.292300...  \n",
              "1      [-0.07457395  0.6170758   0.11815772  0.132284...  \n",
              "2      [-0.21043481  0.45753253  0.21583895  0.302227...  \n",
              "3      [-0.08502141  0.15487182  0.18884279  0.200299...  \n",
              "4      [-1.3037217e-01  5.3574950e-01  7.4775547e-02 ...  \n",
              "...                                                  ...  \n",
              "46637  [-0.19152609  0.4453457   0.2607872   0.316010...  \n",
              "46638  [-0.14381416  0.58646774  0.1676167   0.199254...  \n",
              "46639  [-0.26295233  0.36803508  0.2292174   0.414909...  \n",
              "46640  [-0.13424815  0.55050105  0.21493156  0.357237...  \n",
              "46641  [-0.1455791   0.3549135   0.20766406  0.196197...  \n",
              "\n",
              "[46642 rows x 6 columns]"
            ]
          },
          "execution_count": 41,
          "metadata": {},
          "output_type": "execute_result"
        }
      ],
      "source": [
        "df = pd.read_csv('tokenized_text.csv')\n",
        "df"
      ]
    }
  ],
  "metadata": {
    "accelerator": "GPU",
    "colab": {
      "include_colab_link": true,
      "provenance": []
    },
    "gpuClass": "standard",
    "kernelspec": {
      "display_name": "Python 3",
      "name": "python3"
    },
    "language_info": {
      "codemirror_mode": {
        "name": "ipython",
        "version": 3
      },
      "file_extension": ".py",
      "mimetype": "text/x-python",
      "name": "python",
      "nbconvert_exporter": "python",
      "pygments_lexer": "ipython3",
      "version": "3.9.13"
    }
  },
  "nbformat": 4,
  "nbformat_minor": 0
}
